{
 "cells": [
  {
   "cell_type": "code",
   "execution_count": 0,
   "metadata": {
    "application/vnd.databricks.v1+cell": {
     "cellMetadata": {
      "byteLimit": 2048000,
      "rowLimit": 10000
     },
     "inputWidgets": {},
     "nuid": "b2ff7bb6-5f1d-42da-8775-ab6225711ce1",
     "showTitle": false,
     "title": ""
    }
   },
   "outputs": [
    {
     "name": "stdout",
     "output_type": "stream",
     "text": [
      "Out[2]: True"
     ]
    }
   ],
   "source": [
    "# Mount the Azure Blob Storage\n",
    "dbutils.fs.mount(\n",
    "    source = \"wasbs://raw@aipoweredinsights.blob.core.windows.net\",\n",
    "    mount_point = \"/mnt/raw2\",\n",
    "    extra_configs = {\"fs.azure.account.key.aipoweredinsights.blob.core.windows.net\":\"enter-your-key\"}\n",
    ")"
   ]
  },
  {
   "cell_type": "code",
   "execution_count": 0,
   "metadata": {
    "application/vnd.databricks.v1+cell": {
     "cellMetadata": {
      "byteLimit": 2048000,
      "rowLimit": 10000
     },
     "inputWidgets": {},
     "nuid": "38d9bf33-c582-4ad4-9f00-872ee1e0fb64",
     "showTitle": false,
     "title": ""
    }
   },
   "outputs": [
    {
     "name": "stdout",
     "output_type": "stream",
     "text": [
      "Out[4]: [FileInfo(path='dbfs:/mnt/raw2/dbo.ai_job_market_insights.txt', name='dbo.ai_job_market_insights.txt', size=54485, modificationTime=1726382432000)]"
     ]
    }
   ],
   "source": [
    "# Listing content\n",
    "dbutils.fs.ls(\"/mnt/raw2/\")"
   ]
  },
  {
   "cell_type": "code",
   "execution_count": 0,
   "metadata": {
    "application/vnd.databricks.v1+cell": {
     "cellMetadata": {
      "byteLimit": 2048000,
      "rowLimit": 10000
     },
     "inputWidgets": {},
     "nuid": "8fb92a1a-ea83-4836-8366-3d67e0df7bb8",
     "showTitle": false,
     "title": ""
    }
   },
   "outputs": [],
   "source": [
    "# Create a dataframe\n",
    "df = spark.read.format(\"csv\").options(header='True', inferSchema='True').load('dbfs:/mnt/raw2/dbo.ai_job_market_insights.txt')"
   ]
  },
  {
   "cell_type": "code",
   "execution_count": 0,
   "metadata": {
    "application/vnd.databricks.v1+cell": {
     "cellMetadata": {
      "byteLimit": 2048000,
      "rowLimit": 10000
     },
     "inputWidgets": {},
     "nuid": "2f775809-cec2-4d63-846b-279e6fb146e2",
     "showTitle": false,
     "title": ""
    }
   },
   "outputs": [
    {
     "data": {
      "text/html": [
       "<style scoped>\n",
       "  .table-result-container {\n",
       "    max-height: 300px;\n",
       "    overflow: auto;\n",
       "  }\n",
       "  table, th, td {\n",
       "    border: 1px solid black;\n",
       "    border-collapse: collapse;\n",
       "  }\n",
       "  th, td {\n",
       "    padding: 5px;\n",
       "  }\n",
       "  th {\n",
       "    text-align: left;\n",
       "  }\n",
       "</style><div class='table-result-container'><table class='table-result'><thead style='background-color: white'><tr><th>Job_Title</th><th>Industry</th><th>Company_Size</th><th>Location</th><th>AI_Adoption_Level</th><th>Automation_Risk</th><th>Required_Skills</th><th>Salary_USD</th><th>Remote_Friendly</th><th>Job_Growth_Projection</th></tr></thead><tbody><tr><td>Cybersecurity Analyst</td><td>Entertainment</td><td>Small</td><td>Dubai</td><td>Medium</td><td>High</td><td>UX/UI Design</td><td>111392.1640625</td><td>true</td><td>Growth</td></tr><tr><td>Marketing Specialist</td><td>Technology</td><td>Large</td><td>Singapore</td><td>Medium</td><td>High</td><td>Marketing</td><td>93792.5625</td><td>false</td><td>Decline</td></tr><tr><td>AI Researcher</td><td>Technology</td><td>Large</td><td>Singapore</td><td>Medium</td><td>High</td><td>UX/UI Design</td><td>107170.265625</td><td>true</td><td>Growth</td></tr><tr><td>Sales Manager</td><td>Retail</td><td>Small</td><td>Berlin</td><td>Low</td><td>High</td><td>Project Management</td><td>93027.953125</td><td>false</td><td>Growth</td></tr><tr><td>Cybersecurity Analyst</td><td>Entertainment</td><td>Small</td><td>Tokyo</td><td>Low</td><td>Low</td><td>JavaScript</td><td>87752.921875</td><td>true</td><td>Decline</td></tr><tr><td>UX Designer</td><td>Education</td><td>Large</td><td>San Francisco</td><td>Medium</td><td>Medium</td><td>Cybersecurity</td><td>102825.0078125</td><td>false</td><td>Growth</td></tr><tr><td>HR Manager</td><td>Finance</td><td>Medium</td><td>Singapore</td><td>Low</td><td>High</td><td>Sales</td><td>102065.71875</td><td>true</td><td>Growth</td></tr><tr><td>Cybersecurity Analyst</td><td>Technology</td><td>Small</td><td>Dubai</td><td>Medium</td><td>Low</td><td>Machine Learning</td><td>86607.3203125</td><td>true</td><td>Decline</td></tr><tr><td>AI Researcher</td><td>Retail</td><td>Large</td><td>London</td><td>High</td><td>Low</td><td>JavaScript</td><td>75015.859375</td><td>false</td><td>Stable</td></tr><tr><td>Sales Manager</td><td>Entertainment</td><td>Medium</td><td>Singapore</td><td>High</td><td>Low</td><td>Cybersecurity</td><td>96834.578125</td><td>true</td><td>Decline</td></tr><tr><td>Marketing Specialist</td><td>Finance</td><td>Small</td><td>London</td><td>High</td><td>High</td><td>Python</td><td>91566.9765625</td><td>true</td><td>Growth</td></tr><tr><td>AI Researcher</td><td>Entertainment</td><td>Medium</td><td>Singapore</td><td>Medium</td><td>High</td><td>UX/UI Design</td><td>78902.5625</td><td>false</td><td>Growth</td></tr><tr><td>AI Researcher</td><td>Transportation</td><td>Large</td><td>San Francisco</td><td>High</td><td>Medium</td><td>Python</td><td>73151.9921875</td><td>true</td><td>Growth</td></tr><tr><td>HR Manager</td><td>Retail</td><td>Small</td><td>Paris</td><td>Low</td><td>High</td><td>Cybersecurity</td><td>98209.515625</td><td>true</td><td>Decline</td></tr><tr><td>Product Manager</td><td>Finance</td><td>Medium</td><td>Singapore</td><td>High</td><td>High</td><td>JavaScript</td><td>101001.8984375</td><td>true</td><td>Growth</td></tr><tr><td>Sales Manager</td><td>Telecommunications</td><td>Small</td><td>Dubai</td><td>High</td><td>Low</td><td>UX/UI Design</td><td>82799.359375</td><td>false</td><td>Growth</td></tr><tr><td>Software Engineer</td><td>Manufacturing</td><td>Medium</td><td>Singapore</td><td>High</td><td>Medium</td><td>Machine Learning</td><td>78401.2578125</td><td>false</td><td>Decline</td></tr><tr><td>AI Researcher</td><td>Manufacturing</td><td>Large</td><td>Tokyo</td><td>Low</td><td>High</td><td>Project Management</td><td>73394.8984375</td><td>false</td><td>Stable</td></tr><tr><td>Product Manager</td><td>Finance</td><td>Large</td><td>San Francisco</td><td>Medium</td><td>High</td><td>UX/UI Design</td><td>97645.1015625</td><td>true</td><td>Stable</td></tr><tr><td>Software Engineer</td><td>Entertainment</td><td>Small</td><td>Dubai</td><td>Low</td><td>Low</td><td>UX/UI Design</td><td>73920.4609375</td><td>true</td><td>Growth</td></tr><tr><td>Sales Manager</td><td>Retail</td><td>Medium</td><td>Sydney</td><td>Medium</td><td>Low</td><td>JavaScript</td><td>134822.6875</td><td>true</td><td>Decline</td></tr><tr><td>Data Scientist</td><td>Manufacturing</td><td>Small</td><td>Dubai</td><td>Medium</td><td>High</td><td>JavaScript</td><td>81794.375</td><td>true</td><td>Growth</td></tr><tr><td>UX Designer</td><td>Retail</td><td>Small</td><td>Tokyo</td><td>High</td><td>Medium</td><td>Cybersecurity</td><td>41495.71484375</td><td>false</td><td>Decline</td></tr><tr><td>Product Manager</td><td>Manufacturing</td><td>Medium</td><td>Paris</td><td>Medium</td><td>Medium</td><td>Data Analysis</td><td>89396.5703125</td><td>true</td><td>Decline</td></tr><tr><td>Operations Manager</td><td>Transportation</td><td>Medium</td><td>San Francisco</td><td>Low</td><td>Low</td><td>UX/UI Design</td><td>88539.328125</td><td>true</td><td>Stable</td></tr><tr><td>Data Scientist</td><td>Entertainment</td><td>Medium</td><td>Sydney</td><td>Low</td><td>Low</td><td>Sales</td><td>112234.375</td><td>true</td><td>Stable</td></tr><tr><td>UX Designer</td><td>Transportation</td><td>Large</td><td>Tokyo</td><td>Medium</td><td>High</td><td>UX/UI Design</td><td>95762.5234375</td><td>false</td><td>Decline</td></tr><tr><td>HR Manager</td><td>Manufacturing</td><td>Small</td><td>Tokyo</td><td>High</td><td>Low</td><td>Cybersecurity</td><td>73323.296875</td><td>true</td><td>Growth</td></tr><tr><td>Cybersecurity Analyst</td><td>Telecommunications</td><td>Small</td><td>New York</td><td>High</td><td>High</td><td>Marketing</td><td>84272.1640625</td><td>true</td><td>Stable</td></tr><tr><td>Marketing Specialist</td><td>Telecommunications</td><td>Large</td><td>San Francisco</td><td>Low</td><td>Medium</td><td>Python</td><td>96548.3984375</td><td>true</td><td>Growth</td></tr><tr><td>Operations Manager</td><td>Transportation</td><td>Medium</td><td>Dubai</td><td>High</td><td>Medium</td><td>Project Management</td><td>46705.71484375</td><td>true</td><td>Stable</td></tr><tr><td>HR Manager</td><td>Telecommunications</td><td>Large</td><td>London</td><td>Medium</td><td>High</td><td>Data Analysis</td><td>116772.4375</td><td>true</td><td>Stable</td></tr><tr><td>Sales Manager</td><td>Manufacturing</td><td>Large</td><td>Paris</td><td>Medium</td><td>Low</td><td>Machine Learning</td><td>73376.6015625</td><td>false</td><td>Growth</td></tr><tr><td>HR Manager</td><td>Finance</td><td>Large</td><td>London</td><td>Low</td><td>Medium</td><td>Machine Learning</td><td>118340.875</td><td>true</td><td>Stable</td></tr><tr><td>Cybersecurity Analyst</td><td>Transportation</td><td>Small</td><td>Dubai</td><td>Medium</td><td>Low</td><td>Machine Learning</td><td>97849.3046875</td><td>true</td><td>Stable</td></tr><tr><td>Sales Manager</td><td>Healthcare</td><td>Large</td><td>Dubai</td><td>Low</td><td>Medium</td><td>JavaScript</td><td>102591.8828125</td><td>true</td><td>Growth</td></tr><tr><td>Operations Manager</td><td>Entertainment</td><td>Small</td><td>San Francisco</td><td>Medium</td><td>High</td><td>Machine Learning</td><td>112988.46875</td><td>true</td><td>Stable</td></tr><tr><td>Cybersecurity Analyst</td><td>Telecommunications</td><td>Small</td><td>Dubai</td><td>Low</td><td>High</td><td>Project Management</td><td>101462.640625</td><td>true</td><td>Stable</td></tr><tr><td>Software Engineer</td><td>Telecommunications</td><td>Small</td><td>New York</td><td>High</td><td>High</td><td>Python</td><td>103457.7265625</td><td>true</td><td>Stable</td></tr><tr><td>Marketing Specialist</td><td>Technology</td><td>Medium</td><td>Sydney</td><td>Medium</td><td>Medium</td><td>Machine Learning</td><td>86711.671875</td><td>true</td><td>Growth</td></tr><tr><td>Operations Manager</td><td>Education</td><td>Small</td><td>Dubai</td><td>Medium</td><td>Low</td><td>UX/UI Design</td><td>97443.375</td><td>true</td><td>Decline</td></tr><tr><td>Software Engineer</td><td>Transportation</td><td>Small</td><td>London</td><td>Low</td><td>Low</td><td>UX/UI Design</td><td>78250.046875</td><td>true</td><td>Growth</td></tr><tr><td>UX Designer</td><td>Energy</td><td>Medium</td><td>Dubai</td><td>Low</td><td>Low</td><td>JavaScript</td><td>83131.78125</td><td>true</td><td>Decline</td></tr><tr><td>Operations Manager</td><td>Telecommunications</td><td>Small</td><td>New York</td><td>Medium</td><td>Medium</td><td>Project Management</td><td>129293.8984375</td><td>false</td><td>Stable</td></tr><tr><td>UX Designer</td><td>Entertainment</td><td>Large</td><td>Singapore</td><td>Low</td><td>Medium</td><td>Python</td><td>73836.125</td><td>false</td><td>Decline</td></tr><tr><td>Sales Manager</td><td>Healthcare</td><td>Large</td><td>Singapore</td><td>Medium</td><td>Medium</td><td>Data Analysis</td><td>93086.34375</td><td>false</td><td>Growth</td></tr><tr><td>Software Engineer</td><td>Telecommunications</td><td>Small</td><td>Tokyo</td><td>High</td><td>Medium</td><td>Cybersecurity</td><td>92269.3828125</td><td>false</td><td>Growth</td></tr><tr><td>Marketing Specialist</td><td>Healthcare</td><td>Medium</td><td>Paris</td><td>Low</td><td>Medium</td><td>Python</td><td>83784.9140625</td><td>true</td><td>Stable</td></tr><tr><td>Cybersecurity Analyst</td><td>Manufacturing</td><td>Large</td><td>Berlin</td><td>Medium</td><td>Low</td><td>Cybersecurity</td><td>100288.015625</td><td>false</td><td>Decline</td></tr><tr><td>AI Researcher</td><td>Manufacturing</td><td>Medium</td><td>Sydney</td><td>High</td><td>Medium</td><td>Marketing</td><td>101794.4453125</td><td>false</td><td>Stable</td></tr><tr><td>HR Manager</td><td>Education</td><td>Medium</td><td>Toronto</td><td>High</td><td>Medium</td><td>Cybersecurity</td><td>71483.6171875</td><td>true</td><td>Stable</td></tr><tr><td>Data Scientist</td><td>Finance</td><td>Large</td><td>Tokyo</td><td>Medium</td><td>Low</td><td>Sales</td><td>92027.1328125</td><td>false</td><td>Growth</td></tr><tr><td>Marketing Specialist</td><td>Energy</td><td>Medium</td><td>Paris</td><td>Low</td><td>Medium</td><td>UX/UI Design</td><td>68352.65625</td><td>false</td><td>Decline</td></tr><tr><td>Software Engineer</td><td>Technology</td><td>Large</td><td>Singapore</td><td>Medium</td><td>Low</td><td>Project Management</td><td>105770.96875</td><td>true</td><td>Decline</td></tr><tr><td>AI Researcher</td><td>Education</td><td>Medium</td><td>London</td><td>High</td><td>Low</td><td>Communication</td><td>93529.75</td><td>true</td><td>Decline</td></tr><tr><td>Marketing Specialist</td><td>Retail</td><td>Large</td><td>Toronto</td><td>Medium</td><td>High</td><td>JavaScript</td><td>91646.6015625</td><td>true</td><td>Decline</td></tr><tr><td>Software Engineer</td><td>Technology</td><td>Small</td><td>Paris</td><td>Low</td><td>High</td><td>Sales</td><td>103180.625</td><td>false</td><td>Stable</td></tr><tr><td>Product Manager</td><td>Transportation</td><td>Large</td><td>Paris</td><td>High</td><td>High</td><td>Cybersecurity</td><td>84489.796875</td><td>false</td><td>Stable</td></tr><tr><td>Product Manager</td><td>Entertainment</td><td>Large</td><td>Tokyo</td><td>Medium</td><td>High</td><td>Machine Learning</td><td>108280.4375</td><td>true</td><td>Growth</td></tr><tr><td>UX Designer</td><td>Retail</td><td>Large</td><td>Toronto</td><td>Low</td><td>Medium</td><td>Project Management</td><td>71031.1015625</td><td>true</td><td>Stable</td></tr><tr><td>Marketing Specialist</td><td>Retail</td><td>Large</td><td>San Francisco</td><td>High</td><td>High</td><td>Sales</td><td>118237.53125</td><td>false</td><td>Stable</td></tr><tr><td>Product Manager</td><td>Education</td><td>Medium</td><td>Berlin</td><td>Low</td><td>Low</td><td>JavaScript</td><td>78981.7734375</td><td>true</td><td>Growth</td></tr><tr><td>Software Engineer</td><td>Finance</td><td>Small</td><td>San Francisco</td><td>High</td><td>Medium</td><td>UX/UI Design</td><td>56076.41796875</td><td>false</td><td>Growth</td></tr><tr><td>UX Designer</td><td>Education</td><td>Large</td><td>Toronto</td><td>Medium</td><td>High</td><td>Project Management</td><td>83429.3046875</td><td>true</td><td>Growth</td></tr><tr><td>Software Engineer</td><td>Transportation</td><td>Medium</td><td>San Francisco</td><td>Low</td><td>Low</td><td>JavaScript</td><td>81160.6328125</td><td>true</td><td>Stable</td></tr><tr><td>UX Designer</td><td>Telecommunications</td><td>Small</td><td>New York</td><td>High</td><td>Medium</td><td>Marketing</td><td>83278.5234375</td><td>false</td><td>Stable</td></tr><tr><td>Marketing Specialist</td><td>Telecommunications</td><td>Small</td><td>Singapore</td><td>Low</td><td>Medium</td><td>Marketing</td><td>94632.9609375</td><td>true</td><td>Growth</td></tr><tr><td>AI Researcher</td><td>Finance</td><td>Small</td><td>New York</td><td>Low</td><td>High</td><td>JavaScript</td><td>111956.84375</td><td>true</td><td>Growth</td></tr><tr><td>Cybersecurity Analyst</td><td>Transportation</td><td>Small</td><td>Dubai</td><td>Medium</td><td>Medium</td><td>Sales</td><td>86165.8828125</td><td>true</td><td>Growth</td></tr><tr><td>Operations Manager</td><td>Finance</td><td>Large</td><td>San Francisco</td><td>Low</td><td>Low</td><td>Project Management</td><td>76167.6484375</td><td>false</td><td>Stable</td></tr><tr><td>AI Researcher</td><td>Healthcare</td><td>Large</td><td>Dubai</td><td>High</td><td>Medium</td><td>Sales</td><td>67469.0625</td><td>true</td><td>Stable</td></tr><tr><td>Sales Manager</td><td>Telecommunications</td><td>Medium</td><td>London</td><td>High</td><td>Low</td><td>Data Analysis</td><td>80636.34375</td><td>true</td><td>Decline</td></tr><tr><td>Software Engineer</td><td>Retail</td><td>Medium</td><td>Sydney</td><td>High</td><td>Medium</td><td>Cybersecurity</td><td>52243.50390625</td><td>true</td><td>Stable</td></tr><tr><td>Sales Manager</td><td>Energy</td><td>Medium</td><td>London</td><td>High</td><td>High</td><td>Data Analysis</td><td>75497.3359375</td><td>true</td><td>Stable</td></tr><tr><td>AI Researcher</td><td>Entertainment</td><td>Small</td><td>Toronto</td><td>Medium</td><td>Low</td><td>Marketing</td><td>114881.078125</td><td>true</td><td>Stable</td></tr><tr><td>UX Designer</td><td>Transportation</td><td>Small</td><td>Paris</td><td>Low</td><td>Medium</td><td>UX/UI Design</td><td>73532.8125</td><td>true</td><td>Growth</td></tr><tr><td>Operations Manager</td><td>Technology</td><td>Large</td><td>Singapore</td><td>Medium</td><td>Medium</td><td>Python</td><td>102574.3203125</td><td>false</td><td>Stable</td></tr><tr><td>Operations Manager</td><td>Finance</td><td>Small</td><td>San Francisco</td><td>Low</td><td>Medium</td><td>Cybersecurity</td><td>65470.359375</td><td>false</td><td>Growth</td></tr><tr><td>Data Scientist</td><td>Entertainment</td><td>Small</td><td>Tokyo</td><td>Low</td><td>Low</td><td>Marketing</td><td>125421.921875</td><td>true</td><td>Decline</td></tr><tr><td>Operations Manager</td><td>Technology</td><td>Small</td><td>Sydney</td><td>Low</td><td>Low</td><td>Sales</td><td>126752.1328125</td><td>false</td><td>Decline</td></tr><tr><td>Cybersecurity Analyst</td><td>Entertainment</td><td>Medium</td><td>Berlin</td><td>Medium</td><td>Low</td><td>Sales</td><td>101820.4296875</td><td>false</td><td>Growth</td></tr><tr><td>Operations Manager</td><td>Energy</td><td>Medium</td><td>Berlin</td><td>Low</td><td>High</td><td>Sales</td><td>129825.0546875</td><td>true</td><td>Growth</td></tr><tr><td>AI Researcher</td><td>Technology</td><td>Large</td><td>Berlin</td><td>Medium</td><td>High</td><td>UX/UI Design</td><td>97115.859375</td><td>false</td><td>Growth</td></tr><tr><td>Data Scientist</td><td>Education</td><td>Small</td><td>San Francisco</td><td>High</td><td>Low</td><td>Data Analysis</td><td>105370.34375</td><td>false</td><td>Stable</td></tr><tr><td>AI Researcher</td><td>Manufacturing</td><td>Small</td><td>Berlin</td><td>High</td><td>Medium</td><td>Python</td><td>115238.6796875</td><td>false</td><td>Decline</td></tr><tr><td>AI Researcher</td><td>Education</td><td>Large</td><td>New York</td><td>Low</td><td>High</td><td>Sales</td><td>93594.3671875</td><td>false</td><td>Growth</td></tr><tr><td>HR Manager</td><td>Telecommunications</td><td>Small</td><td>Sydney</td><td>Medium</td><td>Low</td><td>Communication</td><td>58952.44921875</td><td>false</td><td>Stable</td></tr><tr><td>Data Scientist</td><td>Manufacturing</td><td>Small</td><td>New York</td><td>High</td><td>Medium</td><td>Cybersecurity</td><td>105779.265625</td><td>false</td><td>Decline</td></tr><tr><td>AI Researcher</td><td>Education</td><td>Medium</td><td>Paris</td><td>Medium</td><td>High</td><td>Project Management</td><td>80562.8046875</td><td>false</td><td>Stable</td></tr><tr><td>HR Manager</td><td>Manufacturing</td><td>Large</td><td>Sydney</td><td>Medium</td><td>Medium</td><td>Communication</td><td>82049.40625</td><td>false</td><td>Decline</td></tr><tr><td>HR Manager</td><td>Manufacturing</td><td>Large</td><td>New York</td><td>Low</td><td>Medium</td><td>Python</td><td>95957.8984375</td><td>true</td><td>Stable</td></tr><tr><td>Data Scientist</td><td>Retail</td><td>Large</td><td>Sydney</td><td>High</td><td>Medium</td><td>UX/UI Design</td><td>101325.6171875</td><td>true</td><td>Decline</td></tr><tr><td>Sales Manager</td><td>Finance</td><td>Large</td><td>Paris</td><td>Low</td><td>Medium</td><td>Python</td><td>93002.6953125</td><td>false</td><td>Decline</td></tr><tr><td>UX Designer</td><td>Finance</td><td>Medium</td><td>Dubai</td><td>Low</td><td>High</td><td>Project Management</td><td>102714.59375</td><td>false</td><td>Stable</td></tr><tr><td>Cybersecurity Analyst</td><td>Retail</td><td>Medium</td><td>San Francisco</td><td>High</td><td>High</td><td>Cybersecurity</td><td>75862.859375</td><td>true</td><td>Growth</td></tr><tr><td>UX Designer</td><td>Entertainment</td><td>Small</td><td>San Francisco</td><td>High</td><td>High</td><td>Project Management</td><td>89145.921875</td><td>false</td><td>Decline</td></tr><tr><td>Operations Manager</td><td>Healthcare</td><td>Small</td><td>Berlin</td><td>Medium</td><td>Low</td><td>JavaScript</td><td>106981.7109375</td><td>false</td><td>Growth</td></tr><tr><td>Cybersecurity Analyst</td><td>Entertainment</td><td>Small</td><td>London</td><td>High</td><td>High</td><td>Cybersecurity</td><td>125455.8203125</td><td>true</td><td>Stable</td></tr><tr><td>Operations Manager</td><td>Technology</td><td>Small</td><td>Berlin</td><td>Medium</td><td>Medium</td><td>Python</td><td>132528.71875</td><td>true</td><td>Growth</td></tr><tr><td>AI Researcher</td><td>Technology</td><td>Medium</td><td>Toronto</td><td>Medium</td><td>High</td><td>Sales</td><td>98659.53125</td><td>true</td><td>Growth</td></tr><tr><td>Software Engineer</td><td>Manufacturing</td><td>Large</td><td>New York</td><td>Medium</td><td>Medium</td><td>Python</td><td>106800.1953125</td><td>false</td><td>Growth</td></tr><tr><td>Data Scientist</td><td>Education</td><td>Medium</td><td>Sydney</td><td>High</td><td>Low</td><td>Python</td><td>129631.5859375</td><td>false</td><td>Growth</td></tr><tr><td>Cybersecurity Analyst</td><td>Education</td><td>Small</td><td>London</td><td>Low</td><td>Medium</td><td>Cybersecurity</td><td>76583.28125</td><td>true</td><td>Growth</td></tr><tr><td>Cybersecurity Analyst</td><td>Finance</td><td>Medium</td><td>Paris</td><td>Medium</td><td>Medium</td><td>JavaScript</td><td>102594.0</td><td>true</td><td>Decline</td></tr><tr><td>AI Researcher</td><td>Transportation</td><td>Large</td><td>Toronto</td><td>Low</td><td>Medium</td><td>Python</td><td>105366.859375</td><td>false</td><td>Decline</td></tr><tr><td>Sales Manager</td><td>Entertainment</td><td>Large</td><td>Paris</td><td>Low</td><td>Low</td><td>Communication</td><td>118957.2265625</td><td>true</td><td>Decline</td></tr><tr><td>HR Manager</td><td>Telecommunications</td><td>Medium</td><td>San Francisco</td><td>High</td><td>High</td><td>Marketing</td><td>67257.171875</td><td>false</td><td>Stable</td></tr><tr><td>AI Researcher</td><td>Energy</td><td>Medium</td><td>San Francisco</td><td>Low</td><td>High</td><td>Machine Learning</td><td>71211.8828125</td><td>false</td><td>Growth</td></tr><tr><td>Product Manager</td><td>Education</td><td>Medium</td><td>Berlin</td><td>Low</td><td>Low</td><td>Machine Learning</td><td>90427.640625</td><td>true</td><td>Decline</td></tr><tr><td>HR Manager</td><td>Energy</td><td>Small</td><td>New York</td><td>High</td><td>Medium</td><td>Python</td><td>97554.5546875</td><td>true</td><td>Stable</td></tr><tr><td>Data Scientist</td><td>Manufacturing</td><td>Medium</td><td>London</td><td>Medium</td><td>High</td><td>Communication</td><td>112457.28125</td><td>false</td><td>Decline</td></tr><tr><td>HR Manager</td><td>Energy</td><td>Medium</td><td>Singapore</td><td>Low</td><td>Low</td><td>Sales</td><td>100350.875</td><td>true</td><td>Decline</td></tr><tr><td>Sales Manager</td><td>Telecommunications</td><td>Medium</td><td>Toronto</td><td>High</td><td>High</td><td>UX/UI Design</td><td>86971.734375</td><td>true</td><td>Growth</td></tr><tr><td>HR Manager</td><td>Retail</td><td>Large</td><td>Toronto</td><td>Low</td><td>Low</td><td>UX/UI Design</td><td>98329.2265625</td><td>true</td><td>Stable</td></tr><tr><td>Data Scientist</td><td>Telecommunications</td><td>Large</td><td>Berlin</td><td>Low</td><td>Medium</td><td>Cybersecurity</td><td>96020.890625</td><td>true</td><td>Growth</td></tr><tr><td>Sales Manager</td><td>Energy</td><td>Small</td><td>San Francisco</td><td>Medium</td><td>High</td><td>Machine Learning</td><td>124900.328125</td><td>false</td><td>Growth</td></tr><tr><td>UX Designer</td><td>Telecommunications</td><td>Small</td><td>Berlin</td><td>Low</td><td>Low</td><td>Python</td><td>93313.1796875</td><td>false</td><td>Decline</td></tr><tr><td>Cybersecurity Analyst</td><td>Healthcare</td><td>Large</td><td>Sydney</td><td>High</td><td>High</td><td>UX/UI Design</td><td>82338.328125</td><td>false</td><td>Growth</td></tr><tr><td>Cybersecurity Analyst</td><td>Manufacturing</td><td>Large</td><td>London</td><td>Low</td><td>High</td><td>Python</td><td>98992.1796875</td><td>false</td><td>Stable</td></tr><tr><td>Operations Manager</td><td>Entertainment</td><td>Large</td><td>New York</td><td>Medium</td><td>High</td><td>Cybersecurity</td><td>93969.703125</td><td>true</td><td>Growth</td></tr><tr><td>UX Designer</td><td>Retail</td><td>Medium</td><td>Dubai</td><td>Medium</td><td>High</td><td>Machine Learning</td><td>58580.1328125</td><td>true</td><td>Growth</td></tr><tr><td>UX Designer</td><td>Education</td><td>Medium</td><td>Tokyo</td><td>High</td><td>Low</td><td>Project Management</td><td>89686.9609375</td><td>false</td><td>Growth</td></tr><tr><td>HR Manager</td><td>Technology</td><td>Large</td><td>Tokyo</td><td>Medium</td><td>Medium</td><td>Marketing</td><td>87985.234375</td><td>false</td><td>Decline</td></tr><tr><td>Cybersecurity Analyst</td><td>Entertainment</td><td>Medium</td><td>Berlin</td><td>Low</td><td>Low</td><td>Marketing</td><td>79122.5625</td><td>true</td><td>Stable</td></tr><tr><td>Data Scientist</td><td>Technology</td><td>Medium</td><td>Sydney</td><td>Medium</td><td>Low</td><td>UX/UI Design</td><td>110711.6640625</td><td>false</td><td>Decline</td></tr><tr><td>Marketing Specialist</td><td>Manufacturing</td><td>Small</td><td>London</td><td>High</td><td>Low</td><td>Marketing</td><td>74286.40625</td><td>false</td><td>Decline</td></tr><tr><td>Marketing Specialist</td><td>Retail</td><td>Large</td><td>Singapore</td><td>Medium</td><td>Medium</td><td>Project Management</td><td>99112.375</td><td>true</td><td>Decline</td></tr><tr><td>Sales Manager</td><td>Finance</td><td>Large</td><td>Tokyo</td><td>Medium</td><td>High</td><td>Python</td><td>87042.859375</td><td>false</td><td>Decline</td></tr><tr><td>Cybersecurity Analyst</td><td>Education</td><td>Medium</td><td>London</td><td>Medium</td><td>High</td><td>Cybersecurity</td><td>92153.8984375</td><td>true</td><td>Decline</td></tr><tr><td>Cybersecurity Analyst</td><td>Healthcare</td><td>Large</td><td>New York</td><td>High</td><td>High</td><td>Project Management</td><td>98235.7265625</td><td>true</td><td>Stable</td></tr><tr><td>Marketing Specialist</td><td>Finance</td><td>Small</td><td>Paris</td><td>Medium</td><td>Medium</td><td>Cybersecurity</td><td>63848.51171875</td><td>false</td><td>Growth</td></tr><tr><td>Cybersecurity Analyst</td><td>Manufacturing</td><td>Small</td><td>Sydney</td><td>Medium</td><td>High</td><td>Cybersecurity</td><td>93833.21875</td><td>true</td><td>Decline</td></tr><tr><td>HR Manager</td><td>Entertainment</td><td>Small</td><td>San Francisco</td><td>Low</td><td>Medium</td><td>Machine Learning</td><td>135778.953125</td><td>false</td><td>Decline</td></tr><tr><td>Product Manager</td><td>Healthcare</td><td>Large</td><td>London</td><td>High</td><td>High</td><td>Python</td><td>58864.734375</td><td>true</td><td>Stable</td></tr><tr><td>Software Engineer</td><td>Telecommunications</td><td>Large</td><td>New York</td><td>Medium</td><td>High</td><td>Communication</td><td>88847.84375</td><td>false</td><td>Stable</td></tr><tr><td>UX Designer</td><td>Energy</td><td>Large</td><td>Singapore</td><td>High</td><td>Low</td><td>Marketing</td><td>112464.7890625</td><td>false</td><td>Growth</td></tr><tr><td>Operations Manager</td><td>Healthcare</td><td>Large</td><td>Dubai</td><td>Medium</td><td>Medium</td><td>Communication</td><td>96032.3828125</td><td>false</td><td>Stable</td></tr><tr><td>Sales Manager</td><td>Manufacturing</td><td>Large</td><td>San Francisco</td><td>Medium</td><td>Low</td><td>Machine Learning</td><td>103759.3359375</td><td>true</td><td>Growth</td></tr><tr><td>Product Manager</td><td>Transportation</td><td>Small</td><td>Dubai</td><td>Medium</td><td>Low</td><td>Cybersecurity</td><td>42486.6796875</td><td>true</td><td>Decline</td></tr><tr><td>Marketing Specialist</td><td>Energy</td><td>Medium</td><td>Singapore</td><td>Low</td><td>Low</td><td>UX/UI Design</td><td>101964.984375</td><td>false</td><td>Decline</td></tr><tr><td>UX Designer</td><td>Technology</td><td>Small</td><td>New York</td><td>Low</td><td>Medium</td><td>Marketing</td><td>74766.234375</td><td>true</td><td>Growth</td></tr><tr><td>Cybersecurity Analyst</td><td>Education</td><td>Large</td><td>Tokyo</td><td>Low</td><td>Medium</td><td>Marketing</td><td>96197.546875</td><td>false</td><td>Stable</td></tr><tr><td>Operations Manager</td><td>Technology</td><td>Small</td><td>Dubai</td><td>High</td><td>High</td><td>Python</td><td>89411.3046875</td><td>false</td><td>Growth</td></tr><tr><td>Cybersecurity Analyst</td><td>Healthcare</td><td>Large</td><td>San Francisco</td><td>High</td><td>Low</td><td>JavaScript</td><td>135566.65625</td><td>true</td><td>Stable</td></tr><tr><td>Data Scientist</td><td>Technology</td><td>Large</td><td>Berlin</td><td>Low</td><td>High</td><td>Data Analysis</td><td>100933.90625</td><td>false</td><td>Decline</td></tr><tr><td>Data Scientist</td><td>Manufacturing</td><td>Small</td><td>Toronto</td><td>High</td><td>Low</td><td>Data Analysis</td><td>87747.5234375</td><td>true</td><td>Stable</td></tr><tr><td>Operations Manager</td><td>Telecommunications</td><td>Large</td><td>London</td><td>Medium</td><td>Medium</td><td>Data Analysis</td><td>59806.14453125</td><td>false</td><td>Growth</td></tr><tr><td>Operations Manager</td><td>Entertainment</td><td>Medium</td><td>Tokyo</td><td>Medium</td><td>Medium</td><td>JavaScript</td><td>92422.9375</td><td>true</td><td>Growth</td></tr><tr><td>Marketing Specialist</td><td>Education</td><td>Large</td><td>Dubai</td><td>Medium</td><td>Medium</td><td>Python</td><td>106464.578125</td><td>false</td><td>Decline</td></tr><tr><td>Operations Manager</td><td>Technology</td><td>Medium</td><td>Paris</td><td>Low</td><td>Low</td><td>JavaScript</td><td>88388.9609375</td><td>false</td><td>Stable</td></tr><tr><td>HR Manager</td><td>Technology</td><td>Medium</td><td>London</td><td>High</td><td>Medium</td><td>Data Analysis</td><td>79886.875</td><td>true</td><td>Stable</td></tr><tr><td>Cybersecurity Analyst</td><td>Healthcare</td><td>Large</td><td>Berlin</td><td>Low</td><td>Low</td><td>Machine Learning</td><td>78548.265625</td><td>false</td><td>Stable</td></tr><tr><td>Product Manager</td><td>Entertainment</td><td>Small</td><td>Singapore</td><td>High</td><td>High</td><td>Project Management</td><td>100702.828125</td><td>false</td><td>Decline</td></tr><tr><td>AI Researcher</td><td>Finance</td><td>Medium</td><td>Toronto</td><td>Medium</td><td>Low</td><td>Cybersecurity</td><td>105187.7578125</td><td>true</td><td>Stable</td></tr><tr><td>Operations Manager</td><td>Technology</td><td>Small</td><td>New York</td><td>Low</td><td>High</td><td>JavaScript</td><td>117224.203125</td><td>false</td><td>Growth</td></tr><tr><td>Sales Manager</td><td>Manufacturing</td><td>Medium</td><td>Berlin</td><td>High</td><td>Low</td><td>Python</td><td>70100.0</td><td>true</td><td>Stable</td></tr><tr><td>Data Scientist</td><td>Transportation</td><td>Large</td><td>Berlin</td><td>High</td><td>High</td><td>Python</td><td>100519.5546875</td><td>false</td><td>Decline</td></tr><tr><td>HR Manager</td><td>Education</td><td>Large</td><td>Singapore</td><td>Medium</td><td>Medium</td><td>Communication</td><td>87565.921875</td><td>true</td><td>Stable</td></tr><tr><td>UX Designer</td><td>Technology</td><td>Medium</td><td>Sydney</td><td>Low</td><td>High</td><td>Project Management</td><td>88155.3125</td><td>false</td><td>Stable</td></tr><tr><td>AI Researcher</td><td>Manufacturing</td><td>Large</td><td>Singapore</td><td>Low</td><td>Medium</td><td>UX/UI Design</td><td>98036.515625</td><td>false</td><td>Growth</td></tr><tr><td>Product Manager</td><td>Manufacturing</td><td>Medium</td><td>Sydney</td><td>Low</td><td>Medium</td><td>Marketing</td><td>98153.125</td><td>false</td><td>Stable</td></tr><tr><td>AI Researcher</td><td>Education</td><td>Large</td><td>Sydney</td><td>Medium</td><td>High</td><td>Data Analysis</td><td>100575.359375</td><td>true</td><td>Growth</td></tr><tr><td>Operations Manager</td><td>Finance</td><td>Small</td><td>Tokyo</td><td>Low</td><td>Low</td><td>UX/UI Design</td><td>68850.578125</td><td>true</td><td>Growth</td></tr><tr><td>Marketing Specialist</td><td>Manufacturing</td><td>Large</td><td>Tokyo</td><td>Medium</td><td>Low</td><td>Communication</td><td>75003.7734375</td><td>true</td><td>Decline</td></tr><tr><td>Data Scientist</td><td>Transportation</td><td>Small</td><td>San Francisco</td><td>Medium</td><td>Low</td><td>Data Analysis</td><td>119717.3671875</td><td>true</td><td>Growth</td></tr><tr><td>Data Scientist</td><td>Manufacturing</td><td>Large</td><td>Dubai</td><td>Medium</td><td>Low</td><td>Project Management</td><td>85588.546875</td><td>false</td><td>Growth</td></tr><tr><td>UX Designer</td><td>Manufacturing</td><td>Small</td><td>Dubai</td><td>High</td><td>Low</td><td>Communication</td><td>96120.2890625</td><td>false</td><td>Decline</td></tr><tr><td>Marketing Specialist</td><td>Manufacturing</td><td>Large</td><td>New York</td><td>Low</td><td>Medium</td><td>Data Analysis</td><td>111093.328125</td><td>true</td><td>Growth</td></tr><tr><td>Cybersecurity Analyst</td><td>Telecommunications</td><td>Small</td><td>Dubai</td><td>Low</td><td>Low</td><td>Project Management</td><td>99268.859375</td><td>true</td><td>Decline</td></tr><tr><td>Software Engineer</td><td>Telecommunications</td><td>Medium</td><td>Tokyo</td><td>Medium</td><td>Medium</td><td>Sales</td><td>100930.453125</td><td>true</td><td>Stable</td></tr><tr><td>HR Manager</td><td>Finance</td><td>Medium</td><td>San Francisco</td><td>Medium</td><td>Medium</td><td>UX/UI Design</td><td>107891.5546875</td><td>false</td><td>Decline</td></tr><tr><td>Data Scientist</td><td>Technology</td><td>Small</td><td>San Francisco</td><td>Low</td><td>Medium</td><td>UX/UI Design</td><td>47666.7265625</td><td>true</td><td>Growth</td></tr><tr><td>Sales Manager</td><td>Manufacturing</td><td>Large</td><td>Sydney</td><td>Medium</td><td>High</td><td>Marketing</td><td>80201.0</td><td>true</td><td>Decline</td></tr><tr><td>Data Scientist</td><td>Entertainment</td><td>Small</td><td>Singapore</td><td>Low</td><td>High</td><td>Project Management</td><td>99372.1171875</td><td>false</td><td>Growth</td></tr><tr><td>AI Researcher</td><td>Technology</td><td>Large</td><td>New York</td><td>High</td><td>Medium</td><td>JavaScript</td><td>117752.8828125</td><td>false</td><td>Stable</td></tr><tr><td>Data Scientist</td><td>Finance</td><td>Medium</td><td>Sydney</td><td>Medium</td><td>High</td><td>Sales</td><td>91321.9140625</td><td>true</td><td>Decline</td></tr><tr><td>Data Scientist</td><td>Retail</td><td>Large</td><td>Singapore</td><td>Low</td><td>Low</td><td>Machine Learning</td><td>73105.671875</td><td>false</td><td>Stable</td></tr><tr><td>Software Engineer</td><td>Technology</td><td>Medium</td><td>Dubai</td><td>Medium</td><td>Low</td><td>Data Analysis</td><td>73638.28125</td><td>true</td><td>Growth</td></tr><tr><td>Software Engineer</td><td>Technology</td><td>Large</td><td>Sydney</td><td>Low</td><td>Medium</td><td>Sales</td><td>107677.2265625</td><td>false</td><td>Growth</td></tr><tr><td>Product Manager</td><td>Energy</td><td>Large</td><td>London</td><td>Low</td><td>Low</td><td>Project Management</td><td>85644.53125</td><td>true</td><td>Stable</td></tr><tr><td>Cybersecurity Analyst</td><td>Healthcare</td><td>Large</td><td>Dubai</td><td>Medium</td><td>Medium</td><td>Cybersecurity</td><td>89856.0</td><td>true</td><td>Decline</td></tr><tr><td>Sales Manager</td><td>Energy</td><td>Small</td><td>Singapore</td><td>High</td><td>Medium</td><td>Data Analysis</td><td>102300.6015625</td><td>true</td><td>Decline</td></tr><tr><td>Data Scientist</td><td>Transportation</td><td>Small</td><td>New York</td><td>Low</td><td>Low</td><td>Python</td><td>31969.525390625</td><td>true</td><td>Growth</td></tr><tr><td>Data Scientist</td><td>Telecommunications</td><td>Medium</td><td>Singapore</td><td>Low</td><td>High</td><td>UX/UI Design</td><td>130007.3515625</td><td>false</td><td>Stable</td></tr><tr><td>HR Manager</td><td>Telecommunications</td><td>Medium</td><td>Sydney</td><td>Low</td><td>Low</td><td>Project Management</td><td>75378.5234375</td><td>false</td><td>Stable</td></tr><tr><td>Software Engineer</td><td>Healthcare</td><td>Small</td><td>Sydney</td><td>High</td><td>Low</td><td>Python</td><td>94838.7265625</td><td>false</td><td>Decline</td></tr><tr><td>Sales Manager</td><td>Education</td><td>Medium</td><td>Berlin</td><td>High</td><td>Medium</td><td>Marketing</td><td>55906.05859375</td><td>false</td><td>Decline</td></tr><tr><td>UX Designer</td><td>Education</td><td>Small</td><td>New York</td><td>Medium</td><td>Medium</td><td>Communication</td><td>81549.1796875</td><td>true</td><td>Decline</td></tr><tr><td>Product Manager</td><td>Finance</td><td>Large</td><td>Paris</td><td>High</td><td>Medium</td><td>Machine Learning</td><td>114893.7578125</td><td>true</td><td>Stable</td></tr><tr><td>Cybersecurity Analyst</td><td>Healthcare</td><td>Medium</td><td>Dubai</td><td>Medium</td><td>Medium</td><td>Machine Learning</td><td>51676.65625</td><td>false</td><td>Decline</td></tr><tr><td>Marketing Specialist</td><td>Technology</td><td>Medium</td><td>San Francisco</td><td>Medium</td><td>High</td><td>Python</td><td>112524.0</td><td>false</td><td>Decline</td></tr><tr><td>Cybersecurity Analyst</td><td>Education</td><td>Small</td><td>New York</td><td>High</td><td>High</td><td>UX/UI Design</td><td>84526.078125</td><td>false</td><td>Growth</td></tr><tr><td>AI Researcher</td><td>Manufacturing</td><td>Medium</td><td>San Francisco</td><td>Medium</td><td>High</td><td>Marketing</td><td>99743.2890625</td><td>false</td><td>Decline</td></tr><tr><td>Data Scientist</td><td>Entertainment</td><td>Medium</td><td>New York</td><td>High</td><td>Medium</td><td>Cybersecurity</td><td>103150.484375</td><td>false</td><td>Decline</td></tr><tr><td>Product Manager</td><td>Technology</td><td>Large</td><td>New York</td><td>Medium</td><td>Medium</td><td>UX/UI Design</td><td>98828.4296875</td><td>true</td><td>Stable</td></tr><tr><td>AI Researcher</td><td>Transportation</td><td>Medium</td><td>Singapore</td><td>High</td><td>Medium</td><td>Sales</td><td>72700.984375</td><td>true</td><td>Stable</td></tr><tr><td>Sales Manager</td><td>Manufacturing</td><td>Large</td><td>New York</td><td>High</td><td>High</td><td>Machine Learning</td><td>82709.015625</td><td>true</td><td>Growth</td></tr><tr><td>Marketing Specialist</td><td>Manufacturing</td><td>Small</td><td>Berlin</td><td>Medium</td><td>Medium</td><td>Sales</td><td>60768.875</td><td>false</td><td>Decline</td></tr><tr><td>Software Engineer</td><td>Healthcare</td><td>Medium</td><td>Paris</td><td>Low</td><td>Low</td><td>Data Analysis</td><td>99835.9296875</td><td>false</td><td>Growth</td></tr><tr><td>Product Manager</td><td>Finance</td><td>Large</td><td>Sydney</td><td>Medium</td><td>Low</td><td>JavaScript</td><td>124041.1015625</td><td>false</td><td>Stable</td></tr><tr><td>Product Manager</td><td>Transportation</td><td>Small</td><td>Toronto</td><td>High</td><td>Medium</td><td>Project Management</td><td>53511.18359375</td><td>false</td><td>Growth</td></tr><tr><td>Data Scientist</td><td>Education</td><td>Medium</td><td>San Francisco</td><td>Low</td><td>Low</td><td>Marketing</td><td>74767.078125</td><td>true</td><td>Stable</td></tr><tr><td>Operations Manager</td><td>Healthcare</td><td>Small</td><td>Sydney</td><td>Medium</td><td>Low</td><td>UX/UI Design</td><td>86364.4921875</td><td>true</td><td>Growth</td></tr><tr><td>Product Manager</td><td>Education</td><td>Medium</td><td>Toronto</td><td>Medium</td><td>High</td><td>Machine Learning</td><td>93466.828125</td><td>false</td><td>Growth</td></tr><tr><td>HR Manager</td><td>Healthcare</td><td>Small</td><td>Paris</td><td>Medium</td><td>Medium</td><td>Sales</td><td>107583.5234375</td><td>true</td><td>Decline</td></tr><tr><td>Marketing Specialist</td><td>Healthcare</td><td>Small</td><td>Paris</td><td>Low</td><td>Medium</td><td>Communication</td><td>86956.0</td><td>true</td><td>Growth</td></tr><tr><td>Marketing Specialist</td><td>Healthcare</td><td>Large</td><td>San Francisco</td><td>High</td><td>High</td><td>Data Analysis</td><td>83680.828125</td><td>false</td><td>Decline</td></tr><tr><td>HR Manager</td><td>Finance</td><td>Small</td><td>San Francisco</td><td>Medium</td><td>Low</td><td>Project Management</td><td>112062.6171875</td><td>false</td><td>Decline</td></tr><tr><td>UX Designer</td><td>Healthcare</td><td>Medium</td><td>Paris</td><td>Medium</td><td>Low</td><td>Project Management</td><td>103239.9140625</td><td>false</td><td>Decline</td></tr><tr><td>HR Manager</td><td>Retail</td><td>Medium</td><td>Toronto</td><td>Medium</td><td>Medium</td><td>UX/UI Design</td><td>100779.5625</td><td>false</td><td>Decline</td></tr><tr><td>HR Manager</td><td>Entertainment</td><td>Large</td><td>New York</td><td>Medium</td><td>Low</td><td>Marketing</td><td>92250.3125</td><td>false</td><td>Growth</td></tr><tr><td>Marketing Specialist</td><td>Education</td><td>Medium</td><td>Dubai</td><td>Medium</td><td>High</td><td>Cybersecurity</td><td>109663.046875</td><td>false</td><td>Stable</td></tr><tr><td>Cybersecurity Analyst</td><td>Technology</td><td>Medium</td><td>London</td><td>High</td><td>High</td><td>Communication</td><td>76873.8125</td><td>true</td><td>Stable</td></tr><tr><td>Marketing Specialist</td><td>Energy</td><td>Medium</td><td>Sydney</td><td>High</td><td>Medium</td><td>UX/UI Design</td><td>74146.1171875</td><td>true</td><td>Stable</td></tr><tr><td>Operations Manager</td><td>Transportation</td><td>Small</td><td>Singapore</td><td>Medium</td><td>High</td><td>Sales</td><td>104922.0234375</td><td>false</td><td>Growth</td></tr><tr><td>Data Scientist</td><td>Telecommunications</td><td>Small</td><td>Sydney</td><td>Low</td><td>High</td><td>JavaScript</td><td>57499.28125</td><td>true</td><td>Decline</td></tr><tr><td>AI Researcher</td><td>Finance</td><td>Medium</td><td>Singapore</td><td>High</td><td>Medium</td><td>Python</td><td>91843.59375</td><td>false</td><td>Stable</td></tr><tr><td>Cybersecurity Analyst</td><td>Technology</td><td>Large</td><td>Toronto</td><td>Low</td><td>High</td><td>Cybersecurity</td><td>83668.8359375</td><td>false</td><td>Growth</td></tr><tr><td>Software Engineer</td><td>Manufacturing</td><td>Small</td><td>Singapore</td><td>High</td><td>High</td><td>Marketing</td><td>61884.90625</td><td>false</td><td>Decline</td></tr><tr><td>AI Researcher</td><td>Retail</td><td>Large</td><td>San Francisco</td><td>Medium</td><td>High</td><td>Data Analysis</td><td>71374.6484375</td><td>false</td><td>Stable</td></tr><tr><td>Data Scientist</td><td>Telecommunications</td><td>Medium</td><td>Dubai</td><td>High</td><td>Low</td><td>Cybersecurity</td><td>87820.4765625</td><td>true</td><td>Decline</td></tr><tr><td>Operations Manager</td><td>Energy</td><td>Medium</td><td>Dubai</td><td>Medium</td><td>Medium</td><td>Machine Learning</td><td>110679.265625</td><td>false</td><td>Stable</td></tr><tr><td>Operations Manager</td><td>Technology</td><td>Small</td><td>San Francisco</td><td>High</td><td>Medium</td><td>Marketing</td><td>76940.84375</td><td>true</td><td>Stable</td></tr><tr><td>Software Engineer</td><td>Telecommunications</td><td>Medium</td><td>Berlin</td><td>Medium</td><td>Medium</td><td>JavaScript</td><td>114267.625</td><td>false</td><td>Stable</td></tr><tr><td>Cybersecurity Analyst</td><td>Technology</td><td>Small</td><td>Toronto</td><td>Medium</td><td>Low</td><td>Machine Learning</td><td>91263.5859375</td><td>false</td><td>Decline</td></tr><tr><td>UX Designer</td><td>Retail</td><td>Medium</td><td>Berlin</td><td>Medium</td><td>Low</td><td>Cybersecurity</td><td>116207.6953125</td><td>false</td><td>Growth</td></tr><tr><td>HR Manager</td><td>Energy</td><td>Medium</td><td>Berlin</td><td>Medium</td><td>Medium</td><td>Python</td><td>77910.1640625</td><td>true</td><td>Decline</td></tr><tr><td>Cybersecurity Analyst</td><td>Manufacturing</td><td>Small</td><td>Sydney</td><td>Low</td><td>Low</td><td>Python</td><td>89023.8046875</td><td>false</td><td>Stable</td></tr><tr><td>UX Designer</td><td>Healthcare</td><td>Small</td><td>Paris</td><td>Medium</td><td>Medium</td><td>JavaScript</td><td>97369.671875</td><td>false</td><td>Decline</td></tr><tr><td>Operations Manager</td><td>Education</td><td>Small</td><td>Sydney</td><td>Low</td><td>Low</td><td>Project Management</td><td>86409.7890625</td><td>false</td><td>Growth</td></tr><tr><td>Marketing Specialist</td><td>Manufacturing</td><td>Medium</td><td>Paris</td><td>Low</td><td>High</td><td>Communication</td><td>109060.484375</td><td>true</td><td>Decline</td></tr><tr><td>Data Scientist</td><td>Healthcare</td><td>Medium</td><td>London</td><td>Medium</td><td>High</td><td>Data Analysis</td><td>45848.7265625</td><td>true</td><td>Growth</td></tr><tr><td>Software Engineer</td><td>Finance</td><td>Large</td><td>Singapore</td><td>Low</td><td>Medium</td><td>Project Management</td><td>138448.109375</td><td>true</td><td>Growth</td></tr><tr><td>Data Scientist</td><td>Entertainment</td><td>Small</td><td>Paris</td><td>High</td><td>Low</td><td>Python</td><td>107155.4921875</td><td>false</td><td>Decline</td></tr><tr><td>Sales Manager</td><td>Transportation</td><td>Medium</td><td>San Francisco</td><td>Medium</td><td>Low</td><td>Python</td><td>86529.3671875</td><td>true</td><td>Stable</td></tr><tr><td>Sales Manager</td><td>Transportation</td><td>Medium</td><td>Sydney</td><td>Low</td><td>High</td><td>Sales</td><td>78953.5703125</td><td>false</td><td>Growth</td></tr><tr><td>Cybersecurity Analyst</td><td>Education</td><td>Small</td><td>Toronto</td><td>Medium</td><td>High</td><td>Machine Learning</td><td>72671.5859375</td><td>true</td><td>Decline</td></tr><tr><td>Operations Manager</td><td>Energy</td><td>Large</td><td>Singapore</td><td>Medium</td><td>Low</td><td>Cybersecurity</td><td>102912.3125</td><td>true</td><td>Growth</td></tr><tr><td>Operations Manager</td><td>Retail</td><td>Small</td><td>London</td><td>Medium</td><td>Low</td><td>Data Analysis</td><td>109899.6328125</td><td>false</td><td>Stable</td></tr><tr><td>HR Manager</td><td>Energy</td><td>Large</td><td>Paris</td><td>Low</td><td>Low</td><td>JavaScript</td><td>86749.4765625</td><td>true</td><td>Decline</td></tr><tr><td>HR Manager</td><td>Retail</td><td>Medium</td><td>London</td><td>High</td><td>Low</td><td>Cybersecurity</td><td>112139.8046875</td><td>false</td><td>Decline</td></tr><tr><td>HR Manager</td><td>Energy</td><td>Large</td><td>Toronto</td><td>High</td><td>Low</td><td>Sales</td><td>71854.796875</td><td>false</td><td>Decline</td></tr><tr><td>Marketing Specialist</td><td>Entertainment</td><td>Medium</td><td>Berlin</td><td>Low</td><td>Low</td><td>Python</td><td>68323.78125</td><td>true</td><td>Stable</td></tr><tr><td>AI Researcher</td><td>Finance</td><td>Small</td><td>Dubai</td><td>Medium</td><td>Medium</td><td>JavaScript</td><td>126266.8203125</td><td>false</td><td>Growth</td></tr><tr><td>Product Manager</td><td>Finance</td><td>Small</td><td>Toronto</td><td>Low</td><td>Low</td><td>Python</td><td>101822.171875</td><td>false</td><td>Decline</td></tr><tr><td>AI Researcher</td><td>Healthcare</td><td>Small</td><td>Tokyo</td><td>Low</td><td>High</td><td>Data Analysis</td><td>117936.9609375</td><td>true</td><td>Growth</td></tr><tr><td>Data Scientist</td><td>Telecommunications</td><td>Large</td><td>Toronto</td><td>Low</td><td>Medium</td><td>Machine Learning</td><td>72921.203125</td><td>true</td><td>Growth</td></tr><tr><td>AI Researcher</td><td>Finance</td><td>Medium</td><td>London</td><td>Medium</td><td>Low</td><td>Cybersecurity</td><td>71529.4921875</td><td>false</td><td>Stable</td></tr><tr><td>Marketing Specialist</td><td>Finance</td><td>Small</td><td>San Francisco</td><td>Low</td><td>High</td><td>Cybersecurity</td><td>82827.8125</td><td>true</td><td>Decline</td></tr><tr><td>Data Scientist</td><td>Manufacturing</td><td>Small</td><td>Sydney</td><td>Medium</td><td>Medium</td><td>Project Management</td><td>73518.8203125</td><td>false</td><td>Growth</td></tr><tr><td>AI Researcher</td><td>Manufacturing</td><td>Medium</td><td>San Francisco</td><td>Low</td><td>High</td><td>JavaScript</td><td>104107.3046875</td><td>false</td><td>Decline</td></tr><tr><td>Marketing Specialist</td><td>Healthcare</td><td>Small</td><td>London</td><td>High</td><td>Low</td><td>Communication</td><td>74977.4765625</td><td>true</td><td>Decline</td></tr><tr><td>Product Manager</td><td>Telecommunications</td><td>Medium</td><td>Sydney</td><td>Low</td><td>Low</td><td>Sales</td><td>66566.6015625</td><td>true</td><td>Stable</td></tr><tr><td>AI Researcher</td><td>Education</td><td>Medium</td><td>Tokyo</td><td>Low</td><td>Low</td><td>Communication</td><td>92840.3046875</td><td>true</td><td>Decline</td></tr><tr><td>Marketing Specialist</td><td>Manufacturing</td><td>Medium</td><td>Dubai</td><td>High</td><td>Low</td><td>Project Management</td><td>64200.27734375</td><td>true</td><td>Decline</td></tr><tr><td>HR Manager</td><td>Education</td><td>Medium</td><td>Singapore</td><td>Medium</td><td>Medium</td><td>Data Analysis</td><td>54010.72265625</td><td>false</td><td>Growth</td></tr><tr><td>Operations Manager</td><td>Technology</td><td>Medium</td><td>London</td><td>Medium</td><td>Medium</td><td>Sales</td><td>92665.1484375</td><td>false</td><td>Stable</td></tr><tr><td>HR Manager</td><td>Manufacturing</td><td>Large</td><td>Paris</td><td>Low</td><td>High</td><td>Machine Learning</td><td>55015.59765625</td><td>true</td><td>Decline</td></tr><tr><td>Operations Manager</td><td>Entertainment</td><td>Small</td><td>London</td><td>High</td><td>Low</td><td>Communication</td><td>105505.5859375</td><td>true</td><td>Growth</td></tr><tr><td>Software Engineer</td><td>Telecommunications</td><td>Large</td><td>London</td><td>Medium</td><td>High</td><td>Machine Learning</td><td>62093.32421875</td><td>false</td><td>Stable</td></tr><tr><td>Software Engineer</td><td>Healthcare</td><td>Small</td><td>Sydney</td><td>Low</td><td>Medium</td><td>Communication</td><td>45186.5234375</td><td>false</td><td>Stable</td></tr><tr><td>Software Engineer</td><td>Technology</td><td>Large</td><td>New York</td><td>High</td><td>Low</td><td>Machine Learning</td><td>84124.0703125</td><td>false</td><td>Growth</td></tr><tr><td>Product Manager</td><td>Telecommunications</td><td>Medium</td><td>Toronto</td><td>Medium</td><td>Low</td><td>Communication</td><td>92891.890625</td><td>false</td><td>Growth</td></tr><tr><td>HR Manager</td><td>Entertainment</td><td>Small</td><td>New York</td><td>Medium</td><td>Medium</td><td>Machine Learning</td><td>99829.5</td><td>true</td><td>Growth</td></tr><tr><td>Operations Manager</td><td>Telecommunications</td><td>Small</td><td>Tokyo</td><td>High</td><td>Medium</td><td>Project Management</td><td>93440.3125</td><td>false</td><td>Growth</td></tr><tr><td>Marketing Specialist</td><td>Entertainment</td><td>Large</td><td>Paris</td><td>High</td><td>Medium</td><td>Marketing</td><td>68813.75</td><td>false</td><td>Growth</td></tr><tr><td>Data Scientist</td><td>Entertainment</td><td>Large</td><td>Dubai</td><td>High</td><td>Medium</td><td>Sales</td><td>104261.2265625</td><td>true</td><td>Decline</td></tr><tr><td>Marketing Specialist</td><td>Education</td><td>Small</td><td>Berlin</td><td>High</td><td>Medium</td><td>JavaScript</td><td>109202.7734375</td><td>false</td><td>Decline</td></tr><tr><td>Data Scientist</td><td>Energy</td><td>Large</td><td>Tokyo</td><td>Low</td><td>Low</td><td>Data Analysis</td><td>65884.7578125</td><td>false</td><td>Stable</td></tr><tr><td>Sales Manager</td><td>Technology</td><td>Large</td><td>Berlin</td><td>High</td><td>Medium</td><td>UX/UI Design</td><td>86379.875</td><td>true</td><td>Decline</td></tr><tr><td>Marketing Specialist</td><td>Telecommunications</td><td>Large</td><td>Berlin</td><td>Medium</td><td>Low</td><td>Python</td><td>84511.203125</td><td>true</td><td>Decline</td></tr><tr><td>AI Researcher</td><td>Retail</td><td>Medium</td><td>Dubai</td><td>Medium</td><td>Low</td><td>JavaScript</td><td>94407.6328125</td><td>true</td><td>Decline</td></tr><tr><td>AI Researcher</td><td>Technology</td><td>Medium</td><td>San Francisco</td><td>Low</td><td>Medium</td><td>Python</td><td>85901.5234375</td><td>false</td><td>Growth</td></tr><tr><td>Cybersecurity Analyst</td><td>Energy</td><td>Large</td><td>New York</td><td>Medium</td><td>Medium</td><td>Sales</td><td>88642.4453125</td><td>false</td><td>Stable</td></tr><tr><td>HR Manager</td><td>Technology</td><td>Large</td><td>London</td><td>Medium</td><td>Low</td><td>JavaScript</td><td>102836.3125</td><td>true</td><td>Stable</td></tr><tr><td>Data Scientist</td><td>Finance</td><td>Medium</td><td>Singapore</td><td>High</td><td>Medium</td><td>Machine Learning</td><td>67722.9375</td><td>true</td><td>Stable</td></tr><tr><td>Data Scientist</td><td>Retail</td><td>Medium</td><td>Berlin</td><td>Medium</td><td>Medium</td><td>Machine Learning</td><td>104747.4609375</td><td>false</td><td>Stable</td></tr><tr><td>HR Manager</td><td>Energy</td><td>Small</td><td>Paris</td><td>Low</td><td>Medium</td><td>UX/UI Design</td><td>112822.65625</td><td>true</td><td>Decline</td></tr><tr><td>Product Manager</td><td>Education</td><td>Small</td><td>Tokyo</td><td>High</td><td>High</td><td>Python</td><td>122682.703125</td><td>true</td><td>Decline</td></tr><tr><td>Cybersecurity Analyst</td><td>Telecommunications</td><td>Medium</td><td>San Francisco</td><td>High</td><td>Low</td><td>Data Analysis</td><td>47132.65234375</td><td>true</td><td>Growth</td></tr><tr><td>Product Manager</td><td>Transportation</td><td>Large</td><td>Berlin</td><td>Low</td><td>High</td><td>Sales</td><td>86341.96875</td><td>false</td><td>Stable</td></tr><tr><td>Product Manager</td><td>Energy</td><td>Large</td><td>San Francisco</td><td>High</td><td>Medium</td><td>Machine Learning</td><td>50697.98828125</td><td>false</td><td>Decline</td></tr><tr><td>Product Manager</td><td>Healthcare</td><td>Large</td><td>San Francisco</td><td>High</td><td>High</td><td>Marketing</td><td>41298.7265625</td><td>false</td><td>Decline</td></tr><tr><td>HR Manager</td><td>Telecommunications</td><td>Large</td><td>Berlin</td><td>Low</td><td>Medium</td><td>Project Management</td><td>92881.859375</td><td>false</td><td>Growth</td></tr><tr><td>Product Manager</td><td>Energy</td><td>Small</td><td>Sydney</td><td>High</td><td>High</td><td>Project Management</td><td>82016.9609375</td><td>false</td><td>Growth</td></tr><tr><td>AI Researcher</td><td>Finance</td><td>Medium</td><td>Toronto</td><td>Low</td><td>Medium</td><td>Communication</td><td>95997.015625</td><td>false</td><td>Growth</td></tr><tr><td>Software Engineer</td><td>Transportation</td><td>Large</td><td>Paris</td><td>Low</td><td>High</td><td>Data Analysis</td><td>99722.5546875</td><td>true</td><td>Decline</td></tr><tr><td>Sales Manager</td><td>Finance</td><td>Small</td><td>London</td><td>Medium</td><td>High</td><td>Project Management</td><td>114957.921875</td><td>false</td><td>Decline</td></tr><tr><td>Data Scientist</td><td>Transportation</td><td>Large</td><td>London</td><td>Medium</td><td>High</td><td>Communication</td><td>91078.40625</td><td>false</td><td>Growth</td></tr><tr><td>Data Scientist</td><td>Healthcare</td><td>Medium</td><td>Paris</td><td>High</td><td>Low</td><td>Python</td><td>148467.109375</td><td>true</td><td>Stable</td></tr><tr><td>Sales Manager</td><td>Telecommunications</td><td>Small</td><td>Sydney</td><td>High</td><td>High</td><td>Machine Learning</td><td>96128.1953125</td><td>false</td><td>Growth</td></tr><tr><td>HR Manager</td><td>Education</td><td>Medium</td><td>London</td><td>Low</td><td>Low</td><td>Machine Learning</td><td>126849.578125</td><td>false</td><td>Growth</td></tr><tr><td>Marketing Specialist</td><td>Finance</td><td>Medium</td><td>San Francisco</td><td>High</td><td>Medium</td><td>Marketing</td><td>43343.2421875</td><td>true</td><td>Growth</td></tr><tr><td>HR Manager</td><td>Finance</td><td>Small</td><td>Dubai</td><td>Low</td><td>High</td><td>JavaScript</td><td>116994.7890625</td><td>true</td><td>Growth</td></tr><tr><td>Data Scientist</td><td>Entertainment</td><td>Small</td><td>Tokyo</td><td>Low</td><td>Medium</td><td>Project Management</td><td>86384.7890625</td><td>true</td><td>Decline</td></tr><tr><td>Data Scientist</td><td>Transportation</td><td>Small</td><td>New York</td><td>High</td><td>Medium</td><td>Python</td><td>51033.0546875</td><td>false</td><td>Stable</td></tr><tr><td>Sales Manager</td><td>Manufacturing</td><td>Small</td><td>London</td><td>Low</td><td>High</td><td>Cybersecurity</td><td>98410.8984375</td><td>true</td><td>Growth</td></tr><tr><td>Product Manager</td><td>Telecommunications</td><td>Small</td><td>Paris</td><td>Medium</td><td>Low</td><td>Project Management</td><td>83940.890625</td><td>false</td><td>Stable</td></tr><tr><td>HR Manager</td><td>Transportation</td><td>Small</td><td>Dubai</td><td>High</td><td>High</td><td>Data Analysis</td><td>101601.0625</td><td>false</td><td>Stable</td></tr><tr><td>Operations Manager</td><td>Entertainment</td><td>Small</td><td>Berlin</td><td>Medium</td><td>Medium</td><td>JavaScript</td><td>110221.53125</td><td>false</td><td>Stable</td></tr><tr><td>Sales Manager</td><td>Technology</td><td>Large</td><td>Toronto</td><td>High</td><td>Medium</td><td>Project Management</td><td>60216.99609375</td><td>false</td><td>Growth</td></tr><tr><td>AI Researcher</td><td>Transportation</td><td>Medium</td><td>Paris</td><td>Low</td><td>High</td><td>Python</td><td>110298.3828125</td><td>true</td><td>Decline</td></tr><tr><td>Data Scientist</td><td>Education</td><td>Small</td><td>San Francisco</td><td>High</td><td>Low</td><td>Project Management</td><td>90129.5859375</td><td>true</td><td>Growth</td></tr><tr><td>Sales Manager</td><td>Telecommunications</td><td>Large</td><td>Toronto</td><td>Medium</td><td>Low</td><td>Data Analysis</td><td>117056.8203125</td><td>false</td><td>Stable</td></tr><tr><td>HR Manager</td><td>Entertainment</td><td>Large</td><td>Tokyo</td><td>Low</td><td>Medium</td><td>Cybersecurity</td><td>85897.0390625</td><td>true</td><td>Stable</td></tr><tr><td>Data Scientist</td><td>Technology</td><td>Large</td><td>Tokyo</td><td>High</td><td>Medium</td><td>Sales</td><td>80591.8203125</td><td>false</td><td>Decline</td></tr><tr><td>Marketing Specialist</td><td>Retail</td><td>Medium</td><td>Sydney</td><td>High</td><td>Low</td><td>UX/UI Design</td><td>90541.078125</td><td>false</td><td>Growth</td></tr><tr><td>Sales Manager</td><td>Entertainment</td><td>Small</td><td>Singapore</td><td>High</td><td>High</td><td>Cybersecurity</td><td>92037.2109375</td><td>false</td><td>Stable</td></tr><tr><td>Cybersecurity Analyst</td><td>Retail</td><td>Large</td><td>Sydney</td><td>Medium</td><td>Medium</td><td>Communication</td><td>76744.3046875</td><td>true</td><td>Decline</td></tr><tr><td>Data Scientist</td><td>Telecommunications</td><td>Medium</td><td>Dubai</td><td>Medium</td><td>Low</td><td>Project Management</td><td>80073.90625</td><td>false</td><td>Stable</td></tr><tr><td>HR Manager</td><td>Finance</td><td>Medium</td><td>Toronto</td><td>High</td><td>Medium</td><td>Machine Learning</td><td>65462.48828125</td><td>false</td><td>Decline</td></tr><tr><td>Software Engineer</td><td>Entertainment</td><td>Medium</td><td>Singapore</td><td>Low</td><td>High</td><td>Marketing</td><td>81307.1015625</td><td>true</td><td>Decline</td></tr><tr><td>Operations Manager</td><td>Healthcare</td><td>Large</td><td>Berlin</td><td>Low</td><td>Low</td><td>Machine Learning</td><td>103526.203125</td><td>true</td><td>Growth</td></tr><tr><td>UX Designer</td><td>Retail</td><td>Small</td><td>San Francisco</td><td>Medium</td><td>Medium</td><td>Cybersecurity</td><td>87252.9140625</td><td>true</td><td>Stable</td></tr><tr><td>Product Manager</td><td>Education</td><td>Large</td><td>Toronto</td><td>Low</td><td>High</td><td>Machine Learning</td><td>110181.3046875</td><td>true</td><td>Growth</td></tr><tr><td>UX Designer</td><td>Healthcare</td><td>Large</td><td>Sydney</td><td>Medium</td><td>Medium</td><td>Python</td><td>86291.4140625</td><td>false</td><td>Stable</td></tr><tr><td>HR Manager</td><td>Energy</td><td>Small</td><td>New York</td><td>High</td><td>High</td><td>Machine Learning</td><td>61369.640625</td><td>true</td><td>Growth</td></tr><tr><td>AI Researcher</td><td>Energy</td><td>Small</td><td>Singapore</td><td>Medium</td><td>High</td><td>JavaScript</td><td>101945.5</td><td>false</td><td>Stable</td></tr><tr><td>AI Researcher</td><td>Technology</td><td>Small</td><td>Singapore</td><td>Medium</td><td>Low</td><td>Sales</td><td>76527.5390625</td><td>true</td><td>Growth</td></tr><tr><td>Software Engineer</td><td>Finance</td><td>Medium</td><td>San Francisco</td><td>High</td><td>High</td><td>Project Management</td><td>85332.65625</td><td>true</td><td>Decline</td></tr><tr><td>Product Manager</td><td>Telecommunications</td><td>Small</td><td>London</td><td>Low</td><td>Medium</td><td>Machine Learning</td><td>114751.4375</td><td>true</td><td>Stable</td></tr><tr><td>Cybersecurity Analyst</td><td>Entertainment</td><td>Large</td><td>Tokyo</td><td>Medium</td><td>High</td><td>Data Analysis</td><td>66782.59375</td><td>true</td><td>Stable</td></tr><tr><td>Software Engineer</td><td>Manufacturing</td><td>Small</td><td>Tokyo</td><td>Medium</td><td>High</td><td>Sales</td><td>93294.875</td><td>true</td><td>Decline</td></tr><tr><td>UX Designer</td><td>Education</td><td>Large</td><td>New York</td><td>High</td><td>Low</td><td>Sales</td><td>89189.6328125</td><td>true</td><td>Growth</td></tr><tr><td>Software Engineer</td><td>Retail</td><td>Medium</td><td>Dubai</td><td>Low</td><td>High</td><td>Machine Learning</td><td>104018.515625</td><td>false</td><td>Stable</td></tr><tr><td>UX Designer</td><td>Telecommunications</td><td>Large</td><td>Dubai</td><td>Medium</td><td>High</td><td>Sales</td><td>107103.0703125</td><td>true</td><td>Stable</td></tr><tr><td>Data Scientist</td><td>Healthcare</td><td>Large</td><td>Berlin</td><td>High</td><td>Medium</td><td>Marketing</td><td>95276.78125</td><td>true</td><td>Growth</td></tr><tr><td>AI Researcher</td><td>Energy</td><td>Small</td><td>Toronto</td><td>Medium</td><td>Low</td><td>Machine Learning</td><td>82792.5078125</td><td>true</td><td>Decline</td></tr><tr><td>Data Scientist</td><td>Education</td><td>Small</td><td>Paris</td><td>High</td><td>Low</td><td>Python</td><td>99467.453125</td><td>true</td><td>Growth</td></tr><tr><td>Operations Manager</td><td>Manufacturing</td><td>Large</td><td>London</td><td>Low</td><td>Low</td><td>Cybersecurity</td><td>116713.1171875</td><td>false</td><td>Growth</td></tr><tr><td>Product Manager</td><td>Entertainment</td><td>Small</td><td>Sydney</td><td>Low</td><td>High</td><td>JavaScript</td><td>89454.203125</td><td>true</td><td>Growth</td></tr><tr><td>Cybersecurity Analyst</td><td>Technology</td><td>Medium</td><td>Paris</td><td>Low</td><td>Low</td><td>UX/UI Design</td><td>84654.875</td><td>true</td><td>Stable</td></tr><tr><td>UX Designer</td><td>Manufacturing</td><td>Medium</td><td>Paris</td><td>Low</td><td>High</td><td>Communication</td><td>97763.40625</td><td>true</td><td>Decline</td></tr><tr><td>Cybersecurity Analyst</td><td>Education</td><td>Small</td><td>Singapore</td><td>Medium</td><td>High</td><td>Sales</td><td>90774.5390625</td><td>true</td><td>Decline</td></tr><tr><td>UX Designer</td><td>Manufacturing</td><td>Medium</td><td>New York</td><td>Medium</td><td>Medium</td><td>Python</td><td>63245.8125</td><td>false</td><td>Growth</td></tr><tr><td>HR Manager</td><td>Education</td><td>Small</td><td>Tokyo</td><td>Low</td><td>Medium</td><td>Project Management</td><td>94786.6171875</td><td>true</td><td>Stable</td></tr><tr><td>Software Engineer</td><td>Education</td><td>Large</td><td>Berlin</td><td>Low</td><td>Medium</td><td>Project Management</td><td>63064.75</td><td>false</td><td>Growth</td></tr><tr><td>Operations Manager</td><td>Transportation</td><td>Large</td><td>Dubai</td><td>Low</td><td>Medium</td><td>Communication</td><td>97489.609375</td><td>true</td><td>Stable</td></tr><tr><td>AI Researcher</td><td>Retail</td><td>Medium</td><td>New York</td><td>Medium</td><td>Medium</td><td>JavaScript</td><td>74057.1484375</td><td>false</td><td>Stable</td></tr><tr><td>UX Designer</td><td>Energy</td><td>Small</td><td>Singapore</td><td>Low</td><td>High</td><td>Sales</td><td>90737.4921875</td><td>false</td><td>Stable</td></tr><tr><td>Cybersecurity Analyst</td><td>Transportation</td><td>Small</td><td>Sydney</td><td>Low</td><td>High</td><td>Marketing</td><td>97811.875</td><td>true</td><td>Stable</td></tr><tr><td>Operations Manager</td><td>Entertainment</td><td>Medium</td><td>Berlin</td><td>Low</td><td>Low</td><td>Communication</td><td>139078.0625</td><td>true</td><td>Decline</td></tr><tr><td>Marketing Specialist</td><td>Transportation</td><td>Large</td><td>Singapore</td><td>High</td><td>High</td><td>JavaScript</td><td>104855.0</td><td>false</td><td>Stable</td></tr><tr><td>Marketing Specialist</td><td>Finance</td><td>Medium</td><td>Tokyo</td><td>Low</td><td>High</td><td>Sales</td><td>117295.9765625</td><td>false</td><td>Stable</td></tr><tr><td>Data Scientist</td><td>Finance</td><td>Large</td><td>Tokyo</td><td>High</td><td>Medium</td><td>Python</td><td>127434.953125</td><td>true</td><td>Growth</td></tr><tr><td>AI Researcher</td><td>Energy</td><td>Small</td><td>Tokyo</td><td>High</td><td>High</td><td>Cybersecurity</td><td>99785.1171875</td><td>false</td><td>Growth</td></tr><tr><td>HR Manager</td><td>Manufacturing</td><td>Large</td><td>New York</td><td>Low</td><td>Medium</td><td>Marketing</td><td>95713.796875</td><td>false</td><td>Decline</td></tr><tr><td>Cybersecurity Analyst</td><td>Retail</td><td>Medium</td><td>New York</td><td>High</td><td>Low</td><td>UX/UI Design</td><td>68665.578125</td><td>false</td><td>Growth</td></tr><tr><td>Software Engineer</td><td>Energy</td><td>Small</td><td>Dubai</td><td>Low</td><td>Low</td><td>Project Management</td><td>87667.3984375</td><td>true</td><td>Stable</td></tr><tr><td>Software Engineer</td><td>Education</td><td>Medium</td><td>Dubai</td><td>Medium</td><td>High</td><td>Data Analysis</td><td>75538.2421875</td><td>false</td><td>Growth</td></tr><tr><td>Cybersecurity Analyst</td><td>Healthcare</td><td>Medium</td><td>Sydney</td><td>Medium</td><td>Low</td><td>Python</td><td>81978.8203125</td><td>false</td><td>Decline</td></tr><tr><td>Product Manager</td><td>Retail</td><td>Large</td><td>Berlin</td><td>Medium</td><td>High</td><td>Project Management</td><td>127413.265625</td><td>false</td><td>Growth</td></tr><tr><td>HR Manager</td><td>Retail</td><td>Medium</td><td>San Francisco</td><td>Medium</td><td>Low</td><td>Machine Learning</td><td>92292.4296875</td><td>true</td><td>Growth</td></tr><tr><td>Operations Manager</td><td>Education</td><td>Large</td><td>San Francisco</td><td>High</td><td>Medium</td><td>Data Analysis</td><td>72482.0078125</td><td>true</td><td>Decline</td></tr><tr><td>UX Designer</td><td>Education</td><td>Small</td><td>Singapore</td><td>Low</td><td>Medium</td><td>Project Management</td><td>117490.671875</td><td>false</td><td>Decline</td></tr><tr><td>Product Manager</td><td>Technology</td><td>Large</td><td>Tokyo</td><td>Low</td><td>Medium</td><td>JavaScript</td><td>109105.5078125</td><td>true</td><td>Stable</td></tr><tr><td>UX Designer</td><td>Energy</td><td>Small</td><td>Berlin</td><td>Low</td><td>Medium</td><td>Marketing</td><td>110153.0703125</td><td>false</td><td>Growth</td></tr><tr><td>UX Designer</td><td>Education</td><td>Large</td><td>Paris</td><td>Medium</td><td>High</td><td>Project Management</td><td>49877.39453125</td><td>true</td><td>Stable</td></tr><tr><td>Product Manager</td><td>Finance</td><td>Medium</td><td>New York</td><td>Medium</td><td>Low</td><td>UX/UI Design</td><td>128973.421875</td><td>true</td><td>Growth</td></tr><tr><td>Data Scientist</td><td>Entertainment</td><td>Large</td><td>Toronto</td><td>Low</td><td>High</td><td>Cybersecurity</td><td>78829.703125</td><td>false</td><td>Growth</td></tr><tr><td>Marketing Specialist</td><td>Healthcare</td><td>Large</td><td>London</td><td>Medium</td><td>Medium</td><td>JavaScript</td><td>105559.09375</td><td>true</td><td>Stable</td></tr><tr><td>UX Designer</td><td>Energy</td><td>Small</td><td>Sydney</td><td>Low</td><td>High</td><td>Python</td><td>140476.0</td><td>true</td><td>Growth</td></tr><tr><td>Product Manager</td><td>Telecommunications</td><td>Medium</td><td>Tokyo</td><td>Low</td><td>Low</td><td>Python</td><td>133106.65625</td><td>true</td><td>Growth</td></tr><tr><td>Product Manager</td><td>Finance</td><td>Large</td><td>Tokyo</td><td>Low</td><td>High</td><td>Python</td><td>70448.7578125</td><td>false</td><td>Growth</td></tr><tr><td>Sales Manager</td><td>Manufacturing</td><td>Medium</td><td>Tokyo</td><td>Low</td><td>Low</td><td>Python</td><td>61109.65234375</td><td>true</td><td>Decline</td></tr><tr><td>Data Scientist</td><td>Education</td><td>Large</td><td>New York</td><td>Low</td><td>High</td><td>Cybersecurity</td><td>118606.9296875</td><td>true</td><td>Stable</td></tr><tr><td>AI Researcher</td><td>Telecommunications</td><td>Large</td><td>New York</td><td>Low</td><td>Low</td><td>Project Management</td><td>92841.1171875</td><td>false</td><td>Decline</td></tr><tr><td>Sales Manager</td><td>Education</td><td>Medium</td><td>London</td><td>Low</td><td>Low</td><td>Sales</td><td>79982.375</td><td>true</td><td>Stable</td></tr><tr><td>Sales Manager</td><td>Retail</td><td>Large</td><td>Paris</td><td>Medium</td><td>Medium</td><td>Project Management</td><td>102424.3671875</td><td>true</td><td>Stable</td></tr><tr><td>Cybersecurity Analyst</td><td>Finance</td><td>Medium</td><td>Berlin</td><td>Low</td><td>Low</td><td>Machine Learning</td><td>86742.40625</td><td>true</td><td>Growth</td></tr><tr><td>Marketing Specialist</td><td>Retail</td><td>Large</td><td>Tokyo</td><td>Low</td><td>Medium</td><td>Marketing</td><td>104026.484375</td><td>true</td><td>Stable</td></tr><tr><td>Product Manager</td><td>Technology</td><td>Small</td><td>San Francisco</td><td>Medium</td><td>Medium</td><td>Data Analysis</td><td>91339.6328125</td><td>true</td><td>Decline</td></tr><tr><td>Marketing Specialist</td><td>Retail</td><td>Medium</td><td>Dubai</td><td>Medium</td><td>Medium</td><td>Sales</td><td>104447.7578125</td><td>false</td><td>Decline</td></tr><tr><td>HR Manager</td><td>Technology</td><td>Large</td><td>San Francisco</td><td>Medium</td><td>High</td><td>Sales</td><td>72109.34375</td><td>false</td><td>Decline</td></tr><tr><td>Cybersecurity Analyst</td><td>Technology</td><td>Large</td><td>Singapore</td><td>Low</td><td>High</td><td>Project Management</td><td>118489.2421875</td><td>true</td><td>Stable</td></tr><tr><td>AI Researcher</td><td>Telecommunications</td><td>Small</td><td>San Francisco</td><td>High</td><td>High</td><td>Sales</td><td>103952.46875</td><td>true</td><td>Decline</td></tr><tr><td>Marketing Specialist</td><td>Education</td><td>Medium</td><td>Singapore</td><td>High</td><td>High</td><td>Communication</td><td>102925.9453125</td><td>true</td><td>Stable</td></tr><tr><td>Software Engineer</td><td>Manufacturing</td><td>Large</td><td>Toronto</td><td>Medium</td><td>Low</td><td>Communication</td><td>67646.6015625</td><td>false</td><td>Decline</td></tr><tr><td>UX Designer</td><td>Retail</td><td>Small</td><td>Dubai</td><td>High</td><td>Low</td><td>Machine Learning</td><td>123992.6484375</td><td>false</td><td>Decline</td></tr><tr><td>HR Manager</td><td>Finance</td><td>Large</td><td>San Francisco</td><td>Medium</td><td>High</td><td>Data Analysis</td><td>89725.6796875</td><td>true</td><td>Stable</td></tr><tr><td>Data Scientist</td><td>Technology</td><td>Medium</td><td>Toronto</td><td>Low</td><td>Low</td><td>UX/UI Design</td><td>104560.9765625</td><td>true</td><td>Decline</td></tr><tr><td>AI Researcher</td><td>Education</td><td>Large</td><td>Sydney</td><td>High</td><td>Low</td><td>Cybersecurity</td><td>83543.5078125</td><td>false</td><td>Growth</td></tr><tr><td>HR Manager</td><td>Healthcare</td><td>Large</td><td>Berlin</td><td>Low</td><td>Medium</td><td>Project Management</td><td>95217.78125</td><td>true</td><td>Stable</td></tr><tr><td>UX Designer</td><td>Energy</td><td>Large</td><td>Toronto</td><td>High</td><td>Medium</td><td>Cybersecurity</td><td>95942.546875</td><td>false</td><td>Stable</td></tr><tr><td>Cybersecurity Analyst</td><td>Telecommunications</td><td>Large</td><td>Berlin</td><td>Low</td><td>Medium</td><td>UX/UI Design</td><td>33601.3828125</td><td>false</td><td>Stable</td></tr><tr><td>UX Designer</td><td>Manufacturing</td><td>Small</td><td>San Francisco</td><td>High</td><td>Medium</td><td>Project Management</td><td>101648.9609375</td><td>true</td><td>Growth</td></tr><tr><td>Sales Manager</td><td>Transportation</td><td>Small</td><td>Paris</td><td>Low</td><td>Low</td><td>Project Management</td><td>129306.828125</td><td>false</td><td>Stable</td></tr><tr><td>UX Designer</td><td>Telecommunications</td><td>Medium</td><td>Toronto</td><td>Low</td><td>High</td><td>Data Analysis</td><td>100795.6015625</td><td>true</td><td>Decline</td></tr><tr><td>Sales Manager</td><td>Healthcare</td><td>Small</td><td>Dubai</td><td>High</td><td>Low</td><td>Cybersecurity</td><td>70845.8359375</td><td>true</td><td>Decline</td></tr><tr><td>Cybersecurity Analyst</td><td>Energy</td><td>Small</td><td>San Francisco</td><td>Low</td><td>Low</td><td>Communication</td><td>102999.234375</td><td>true</td><td>Decline</td></tr><tr><td>Operations Manager</td><td>Healthcare</td><td>Medium</td><td>Tokyo</td><td>Low</td><td>Low</td><td>Python</td><td>111189.609375</td><td>true</td><td>Stable</td></tr><tr><td>Sales Manager</td><td>Retail</td><td>Small</td><td>New York</td><td>Low</td><td>Medium</td><td>Cybersecurity</td><td>100249.328125</td><td>true</td><td>Decline</td></tr><tr><td>Data Scientist</td><td>Technology</td><td>Small</td><td>Toronto</td><td>High</td><td>Medium</td><td>Marketing</td><td>88517.4609375</td><td>true</td><td>Stable</td></tr><tr><td>UX Designer</td><td>Manufacturing</td><td>Medium</td><td>Dubai</td><td>High</td><td>Medium</td><td>Marketing</td><td>85157.015625</td><td>false</td><td>Decline</td></tr><tr><td>UX Designer</td><td>Entertainment</td><td>Medium</td><td>Sydney</td><td>Low</td><td>High</td><td>Project Management</td><td>85073.8046875</td><td>false</td><td>Growth</td></tr><tr><td>Data Scientist</td><td>Technology</td><td>Medium</td><td>Tokyo</td><td>Low</td><td>Low</td><td>Python</td><td>103955.5390625</td><td>false</td><td>Growth</td></tr><tr><td>Software Engineer</td><td>Entertainment</td><td>Large</td><td>Sydney</td><td>High</td><td>High</td><td>JavaScript</td><td>61857.51953125</td><td>false</td><td>Growth</td></tr><tr><td>Product Manager</td><td>Energy</td><td>Large</td><td>San Francisco</td><td>High</td><td>Medium</td><td>UX/UI Design</td><td>82562.5390625</td><td>true</td><td>Growth</td></tr><tr><td>Operations Manager</td><td>Education</td><td>Medium</td><td>New York</td><td>Low</td><td>High</td><td>Machine Learning</td><td>121912.1953125</td><td>false</td><td>Stable</td></tr><tr><td>AI Researcher</td><td>Transportation</td><td>Medium</td><td>Toronto</td><td>Low</td><td>Low</td><td>Python</td><td>122683.90625</td><td>false</td><td>Decline</td></tr><tr><td>Sales Manager</td><td>Finance</td><td>Medium</td><td>Toronto</td><td>Low</td><td>Low</td><td>Machine Learning</td><td>60437.05859375</td><td>false</td><td>Growth</td></tr><tr><td>Data Scientist</td><td>Technology</td><td>Large</td><td>Paris</td><td>Medium</td><td>Medium</td><td>Cybersecurity</td><td>67371.7265625</td><td>true</td><td>Stable</td></tr><tr><td>Cybersecurity Analyst</td><td>Manufacturing</td><td>Large</td><td>Paris</td><td>High</td><td>Medium</td><td>Cybersecurity</td><td>84587.5859375</td><td>false</td><td>Growth</td></tr><tr><td>Sales Manager</td><td>Healthcare</td><td>Small</td><td>San Francisco</td><td>Medium</td><td>High</td><td>Machine Learning</td><td>107851.7890625</td><td>true</td><td>Growth</td></tr><tr><td>Product Manager</td><td>Manufacturing</td><td>Small</td><td>San Francisco</td><td>High</td><td>Medium</td><td>UX/UI Design</td><td>53450.51171875</td><td>false</td><td>Stable</td></tr><tr><td>Cybersecurity Analyst</td><td>Energy</td><td>Medium</td><td>New York</td><td>High</td><td>Medium</td><td>Python</td><td>88903.828125</td><td>true</td><td>Stable</td></tr><tr><td>HR Manager</td><td>Entertainment</td><td>Large</td><td>Paris</td><td>High</td><td>Low</td><td>JavaScript</td><td>80516.4140625</td><td>true</td><td>Decline</td></tr><tr><td>UX Designer</td><td>Healthcare</td><td>Large</td><td>Dubai</td><td>High</td><td>Medium</td><td>Project Management</td><td>116519.296875</td><td>false</td><td>Decline</td></tr><tr><td>HR Manager</td><td>Finance</td><td>Large</td><td>Dubai</td><td>High</td><td>Medium</td><td>Data Analysis</td><td>56461.83203125</td><td>true</td><td>Growth</td></tr><tr><td>Sales Manager</td><td>Finance</td><td>Medium</td><td>New York</td><td>High</td><td>Low</td><td>Cybersecurity</td><td>91850.8125</td><td>true</td><td>Growth</td></tr><tr><td>Product Manager</td><td>Technology</td><td>Small</td><td>Dubai</td><td>High</td><td>Low</td><td>Marketing</td><td>82127.8125</td><td>false</td><td>Decline</td></tr><tr><td>Operations Manager</td><td>Energy</td><td>Medium</td><td>Singapore</td><td>Medium</td><td>High</td><td>UX/UI Design</td><td>119395.9765625</td><td>false</td><td>Decline</td></tr><tr><td>Sales Manager</td><td>Education</td><td>Small</td><td>Berlin</td><td>Low</td><td>Medium</td><td>Data Analysis</td><td>101953.0546875</td><td>false</td><td>Stable</td></tr><tr><td>Data Scientist</td><td>Energy</td><td>Small</td><td>New York</td><td>Low</td><td>Low</td><td>JavaScript</td><td>78283.6875</td><td>true</td><td>Decline</td></tr><tr><td>Marketing Specialist</td><td>Entertainment</td><td>Medium</td><td>New York</td><td>Medium</td><td>High</td><td>Sales</td><td>107067.7265625</td><td>true</td><td>Decline</td></tr><tr><td>Sales Manager</td><td>Manufacturing</td><td>Small</td><td>London</td><td>Medium</td><td>High</td><td>Project Management</td><td>82223.421875</td><td>true</td><td>Growth</td></tr><tr><td>UX Designer</td><td>Finance</td><td>Small</td><td>Tokyo</td><td>Medium</td><td>Medium</td><td>Cybersecurity</td><td>109986.59375</td><td>false</td><td>Decline</td></tr><tr><td>UX Designer</td><td>Manufacturing</td><td>Large</td><td>Tokyo</td><td>Medium</td><td>Medium</td><td>Project Management</td><td>85258.4609375</td><td>true</td><td>Growth</td></tr><tr><td>Sales Manager</td><td>Manufacturing</td><td>Small</td><td>Singapore</td><td>High</td><td>High</td><td>Data Analysis</td><td>111093.328125</td><td>true</td><td>Decline</td></tr><tr><td>Cybersecurity Analyst</td><td>Manufacturing</td><td>Medium</td><td>Paris</td><td>Low</td><td>Low</td><td>Project Management</td><td>98721.640625</td><td>true</td><td>Stable</td></tr><tr><td>Marketing Specialist</td><td>Finance</td><td>Medium</td><td>San Francisco</td><td>High</td><td>High</td><td>Sales</td><td>155209.828125</td><td>true</td><td>Decline</td></tr><tr><td>Data Scientist</td><td>Telecommunications</td><td>Small</td><td>San Francisco</td><td>Low</td><td>Medium</td><td>Data Analysis</td><td>88942.078125</td><td>true</td><td>Decline</td></tr><tr><td>Sales Manager</td><td>Retail</td><td>Large</td><td>Sydney</td><td>Low</td><td>Low</td><td>Cybersecurity</td><td>97657.2421875</td><td>true</td><td>Decline</td></tr><tr><td>Cybersecurity Analyst</td><td>Entertainment</td><td>Large</td><td>Singapore</td><td>Medium</td><td>Low</td><td>Python</td><td>80411.5078125</td><td>true</td><td>Growth</td></tr><tr><td>UX Designer</td><td>Telecommunications</td><td>Small</td><td>New York</td><td>High</td><td>High</td><td>Marketing</td><td>90053.703125</td><td>false</td><td>Stable</td></tr><tr><td>UX Designer</td><td>Entertainment</td><td>Small</td><td>Singapore</td><td>Medium</td><td>Medium</td><td>Data Analysis</td><td>35963.296875</td><td>false</td><td>Decline</td></tr><tr><td>Product Manager</td><td>Healthcare</td><td>Medium</td><td>Singapore</td><td>High</td><td>High</td><td>Communication</td><td>99311.6796875</td><td>false</td><td>Growth</td></tr><tr><td>Sales Manager</td><td>Energy</td><td>Small</td><td>Singapore</td><td>Low</td><td>High</td><td>Sales</td><td>116857.484375</td><td>true</td><td>Stable</td></tr><tr><td>Marketing Specialist</td><td>Energy</td><td>Large</td><td>Tokyo</td><td>Medium</td><td>High</td><td>Data Analysis</td><td>97932.6015625</td><td>true</td><td>Growth</td></tr><tr><td>Software Engineer</td><td>Transportation</td><td>Small</td><td>Singapore</td><td>Medium</td><td>Low</td><td>Data Analysis</td><td>63722.76953125</td><td>false</td><td>Growth</td></tr><tr><td>Marketing Specialist</td><td>Energy</td><td>Medium</td><td>Berlin</td><td>Low</td><td>Low</td><td>Communication</td><td>73964.2578125</td><td>true</td><td>Stable</td></tr><tr><td>UX Designer</td><td>Finance</td><td>Medium</td><td>San Francisco</td><td>Low</td><td>Medium</td><td>Cybersecurity</td><td>41396.15625</td><td>false</td><td>Decline</td></tr><tr><td>UX Designer</td><td>Education</td><td>Medium</td><td>Sydney</td><td>Low</td><td>Medium</td><td>Data Analysis</td><td>109578.4765625</td><td>true</td><td>Growth</td></tr><tr><td>HR Manager</td><td>Technology</td><td>Medium</td><td>Berlin</td><td>Medium</td><td>High</td><td>Marketing</td><td>69869.734375</td><td>true</td><td>Growth</td></tr><tr><td>UX Designer</td><td>Transportation</td><td>Medium</td><td>Sydney</td><td>High</td><td>High</td><td>Project Management</td><td>89425.828125</td><td>false</td><td>Decline</td></tr><tr><td>Data Scientist</td><td>Technology</td><td>Small</td><td>London</td><td>Medium</td><td>High</td><td>Cybersecurity</td><td>86925.25</td><td>false</td><td>Decline</td></tr><tr><td>AI Researcher</td><td>Entertainment</td><td>Small</td><td>Sydney</td><td>High</td><td>Medium</td><td>Marketing</td><td>119754.5390625</td><td>false</td><td>Stable</td></tr><tr><td>Sales Manager</td><td>Technology</td><td>Small</td><td>San Francisco</td><td>Medium</td><td>Low</td><td>Cybersecurity</td><td>91705.625</td><td>false</td><td>Stable</td></tr><tr><td>Marketing Specialist</td><td>Technology</td><td>Small</td><td>San Francisco</td><td>Medium</td><td>Low</td><td>Marketing</td><td>106177.859375</td><td>false</td><td>Stable</td></tr><tr><td>AI Researcher</td><td>Transportation</td><td>Medium</td><td>Singapore</td><td>Low</td><td>High</td><td>Sales</td><td>100929.2734375</td><td>true</td><td>Decline</td></tr><tr><td>Cybersecurity Analyst</td><td>Healthcare</td><td>Large</td><td>Toronto</td><td>High</td><td>High</td><td>Marketing</td><td>117188.2265625</td><td>true</td><td>Growth</td></tr><tr><td>Software Engineer</td><td>Manufacturing</td><td>Small</td><td>London</td><td>Medium</td><td>High</td><td>Machine Learning</td><td>85217.5234375</td><td>true</td><td>Growth</td></tr><tr><td>Data Scientist</td><td>Energy</td><td>Large</td><td>New York</td><td>Medium</td><td>High</td><td>Marketing</td><td>127392.3046875</td><td>false</td><td>Stable</td></tr><tr><td>Marketing Specialist</td><td>Energy</td><td>Small</td><td>Dubai</td><td>Low</td><td>Medium</td><td>Python</td><td>50286.7578125</td><td>false</td><td>Decline</td></tr><tr><td>AI Researcher</td><td>Finance</td><td>Small</td><td>Sydney</td><td>Low</td><td>Low</td><td>Python</td><td>107149.46875</td><td>false</td><td>Growth</td></tr><tr><td>Software Engineer</td><td>Transportation</td><td>Large</td><td>Toronto</td><td>High</td><td>High</td><td>UX/UI Design</td><td>72667.609375</td><td>false</td><td>Stable</td></tr><tr><td>HR Manager</td><td>Finance</td><td>Medium</td><td>Singapore</td><td>Medium</td><td>Medium</td><td>Machine Learning</td><td>80145.0078125</td><td>false</td><td>Growth</td></tr><tr><td>Data Scientist</td><td>Education</td><td>Small</td><td>Tokyo</td><td>High</td><td>High</td><td>Machine Learning</td><td>101388.2890625</td><td>false</td><td>Growth</td></tr><tr><td>Data Scientist</td><td>Education</td><td>Small</td><td>New York</td><td>Medium</td><td>High</td><td>Project Management</td><td>101228.0390625</td><td>true</td><td>Decline</td></tr><tr><td>HR Manager</td><td>Finance</td><td>Small</td><td>Paris</td><td>High</td><td>Low</td><td>Machine Learning</td><td>102128.5625</td><td>true</td><td>Decline</td></tr><tr><td>Sales Manager</td><td>Transportation</td><td>Large</td><td>Toronto</td><td>Low</td><td>High</td><td>Project Management</td><td>62276.83984375</td><td>true</td><td>Growth</td></tr><tr><td>HR Manager</td><td>Finance</td><td>Medium</td><td>Tokyo</td><td>Medium</td><td>Low</td><td>UX/UI Design</td><td>118980.6015625</td><td>true</td><td>Stable</td></tr><tr><td>Data Scientist</td><td>Energy</td><td>Large</td><td>London</td><td>High</td><td>Low</td><td>UX/UI Design</td><td>71987.0546875</td><td>true</td><td>Decline</td></tr><tr><td>Data Scientist</td><td>Telecommunications</td><td>Large</td><td>Singapore</td><td>Low</td><td>Low</td><td>Sales</td><td>74654.2578125</td><td>false</td><td>Growth</td></tr><tr><td>AI Researcher</td><td>Retail</td><td>Medium</td><td>New York</td><td>Low</td><td>Medium</td><td>Python</td><td>102757.9375</td><td>false</td><td>Decline</td></tr><tr><td>UX Designer</td><td>Technology</td><td>Large</td><td>New York</td><td>High</td><td>Medium</td><td>Marketing</td><td>84265.578125</td><td>false</td><td>Decline</td></tr><tr><td>Software Engineer</td><td>Retail</td><td>Medium</td><td>New York</td><td>Medium</td><td>Low</td><td>Marketing</td><td>96165.21875</td><td>false</td><td>Decline</td></tr><tr><td>HR Manager</td><td>Transportation</td><td>Small</td><td>London</td><td>Medium</td><td>High</td><td>Communication</td><td>46867.984375</td><td>false</td><td>Growth</td></tr><tr><td>Software Engineer</td><td>Retail</td><td>Medium</td><td>Sydney</td><td>Low</td><td>Low</td><td>Communication</td><td>95686.4921875</td><td>false</td><td>Stable</td></tr><tr><td>HR Manager</td><td>Education</td><td>Small</td><td>Paris</td><td>Medium</td><td>High</td><td>JavaScript</td><td>94356.640625</td><td>true</td><td>Stable</td></tr><tr><td>Cybersecurity Analyst</td><td>Entertainment</td><td>Large</td><td>London</td><td>Medium</td><td>Low</td><td>Cybersecurity</td><td>79802.828125</td><td>false</td><td>Stable</td></tr><tr><td>Data Scientist</td><td>Technology</td><td>Large</td><td>Dubai</td><td>Medium</td><td>High</td><td>Sales</td><td>48518.48046875</td><td>false</td><td>Decline</td></tr><tr><td>UX Designer</td><td>Manufacturing</td><td>Small</td><td>Paris</td><td>Low</td><td>Medium</td><td>JavaScript</td><td>85743.8359375</td><td>false</td><td>Growth</td></tr><tr><td>AI Researcher</td><td>Transportation</td><td>Large</td><td>San Francisco</td><td>High</td><td>High</td><td>JavaScript</td><td>89252.5234375</td><td>false</td><td>Decline</td></tr><tr><td>UX Designer</td><td>Technology</td><td>Medium</td><td>Singapore</td><td>Medium</td><td>Low</td><td>Data Analysis</td><td>82655.421875</td><td>true</td><td>Stable</td></tr><tr><td>UX Designer</td><td>Retail</td><td>Small</td><td>London</td><td>Low</td><td>Medium</td><td>Data Analysis</td><td>53276.51171875</td><td>true</td><td>Stable</td></tr><tr><td>UX Designer</td><td>Education</td><td>Large</td><td>Tokyo</td><td>Low</td><td>High</td><td>JavaScript</td><td>121894.6796875</td><td>false</td><td>Growth</td></tr><tr><td>Software Engineer</td><td>Healthcare</td><td>Small</td><td>Paris</td><td>High</td><td>High</td><td>Machine Learning</td><td>77222.765625</td><td>true</td><td>Decline</td></tr><tr><td>HR Manager</td><td>Telecommunications</td><td>Medium</td><td>Dubai</td><td>Medium</td><td>High</td><td>Cybersecurity</td><td>85555.90625</td><td>true</td><td>Stable</td></tr><tr><td>Operations Manager</td><td>Manufacturing</td><td>Medium</td><td>San Francisco</td><td>Medium</td><td>High</td><td>Sales</td><td>41810.51171875</td><td>false</td><td>Growth</td></tr><tr><td>Cybersecurity Analyst</td><td>Telecommunications</td><td>Large</td><td>Sydney</td><td>High</td><td>High</td><td>JavaScript</td><td>121897.109375</td><td>false</td><td>Decline</td></tr><tr><td>Marketing Specialist</td><td>Technology</td><td>Medium</td><td>Tokyo</td><td>High</td><td>Medium</td><td>Marketing</td><td>80669.0</td><td>false</td><td>Decline</td></tr><tr><td>UX Designer</td><td>Education</td><td>Small</td><td>Paris</td><td>Low</td><td>Medium</td><td>Cybersecurity</td><td>91969.2578125</td><td>false</td><td>Stable</td></tr><tr><td>Sales Manager</td><td>Education</td><td>Medium</td><td>Singapore</td><td>Low</td><td>Medium</td><td>Data Analysis</td><td>112414.75</td><td>false</td><td>Stable</td></tr><tr><td>Software Engineer</td><td>Retail</td><td>Small</td><td>Tokyo</td><td>High</td><td>Medium</td><td>Marketing</td><td>76473.9140625</td><td>true</td><td>Decline</td></tr><tr><td>AI Researcher</td><td>Energy</td><td>Small</td><td>San Francisco</td><td>Medium</td><td>Low</td><td>Data Analysis</td><td>109264.8984375</td><td>false</td><td>Decline</td></tr><tr><td>Marketing Specialist</td><td>Retail</td><td>Medium</td><td>Tokyo</td><td>Low</td><td>Medium</td><td>Data Analysis</td><td>48773.4921875</td><td>false</td><td>Stable</td></tr><tr><td>Operations Manager</td><td>Energy</td><td>Large</td><td>Berlin</td><td>Low</td><td>High</td><td>Cybersecurity</td><td>101019.734375</td><td>false</td><td>Decline</td></tr><tr><td>Sales Manager</td><td>Energy</td><td>Medium</td><td>Toronto</td><td>Medium</td><td>High</td><td>Data Analysis</td><td>121444.84375</td><td>true</td><td>Stable</td></tr><tr><td>Operations Manager</td><td>Manufacturing</td><td>Small</td><td>Sydney</td><td>Low</td><td>Medium</td><td>UX/UI Design</td><td>78391.6640625</td><td>false</td><td>Decline</td></tr><tr><td>Marketing Specialist</td><td>Retail</td><td>Small</td><td>San Francisco</td><td>Medium</td><td>High</td><td>Python</td><td>112377.6328125</td><td>false</td><td>Stable</td></tr><tr><td>UX Designer</td><td>Healthcare</td><td>Medium</td><td>Tokyo</td><td>Medium</td><td>Medium</td><td>UX/UI Design</td><td>126678.453125</td><td>false</td><td>Growth</td></tr><tr><td>Sales Manager</td><td>Finance</td><td>Large</td><td>Toronto</td><td>Medium</td><td>High</td><td>Python</td><td>84903.1640625</td><td>true</td><td>Stable</td></tr><tr><td>Operations Manager</td><td>Finance</td><td>Large</td><td>Toronto</td><td>High</td><td>Low</td><td>Communication</td><td>83249.4375</td><td>false</td><td>Stable</td></tr><tr><td>AI Researcher</td><td>Retail</td><td>Small</td><td>Tokyo</td><td>High</td><td>Low</td><td>Communication</td><td>72034.125</td><td>false</td><td>Growth</td></tr><tr><td>HR Manager</td><td>Retail</td><td>Small</td><td>Singapore</td><td>High</td><td>Medium</td><td>Data Analysis</td><td>79805.3984375</td><td>false</td><td>Decline</td></tr><tr><td>Data Scientist</td><td>Telecommunications</td><td>Large</td><td>Berlin</td><td>Medium</td><td>Medium</td><td>Sales</td><td>73692.8046875</td><td>true</td><td>Growth</td></tr><tr><td>HR Manager</td><td>Manufacturing</td><td>Medium</td><td>London</td><td>Medium</td><td>Medium</td><td>Sales</td><td>72017.78125</td><td>false</td><td>Stable</td></tr><tr><td>Marketing Specialist</td><td>Retail</td><td>Small</td><td>Berlin</td><td>High</td><td>High</td><td>Python</td><td>113976.703125</td><td>false</td><td>Decline</td></tr><tr><td>Software Engineer</td><td>Telecommunications</td><td>Small</td><td>Tokyo</td><td>Low</td><td>Medium</td><td>Marketing</td><td>74201.4765625</td><td>false</td><td>Growth</td></tr><tr><td>Data Scientist</td><td>Energy</td><td>Large</td><td>Sydney</td><td>Medium</td><td>Low</td><td>Cybersecurity</td><td>95170.4375</td><td>true</td><td>Decline</td></tr><tr><td>Cybersecurity Analyst</td><td>Education</td><td>Medium</td><td>London</td><td>Low</td><td>High</td><td>Data Analysis</td><td>90764.671875</td><td>false</td><td>Decline</td></tr><tr><td>AI Researcher</td><td>Education</td><td>Large</td><td>San Francisco</td><td>Low</td><td>Medium</td><td>Cybersecurity</td><td>119961.890625</td><td>false</td><td>Growth</td></tr><tr><td>Cybersecurity Analyst</td><td>Energy</td><td>Medium</td><td>Berlin</td><td>Medium</td><td>High</td><td>UX/UI Design</td><td>79936.875</td><td>false</td><td>Decline</td></tr><tr><td>Sales Manager</td><td>Transportation</td><td>Medium</td><td>Tokyo</td><td>Medium</td><td>High</td><td>Sales</td><td>97622.9609375</td><td>true</td><td>Growth</td></tr><tr><td>Data Scientist</td><td>Telecommunications</td><td>Medium</td><td>Berlin</td><td>Low</td><td>Medium</td><td>Machine Learning</td><td>105821.390625</td><td>true</td><td>Stable</td></tr><tr><td>Cybersecurity Analyst</td><td>Telecommunications</td><td>Small</td><td>London</td><td>Low</td><td>High</td><td>UX/UI Design</td><td>119794.9921875</td><td>false</td><td>Decline</td></tr><tr><td>Cybersecurity Analyst</td><td>Energy</td><td>Large</td><td>Dubai</td><td>High</td><td>Low</td><td>UX/UI Design</td><td>79644.9296875</td><td>true</td><td>Stable</td></tr><tr><td>Operations Manager</td><td>Healthcare</td><td>Large</td><td>Paris</td><td>High</td><td>Low</td><td>Python</td><td>77642.1484375</td><td>true</td><td>Stable</td></tr><tr><td>HR Manager</td><td>Entertainment</td><td>Medium</td><td>Berlin</td><td>Medium</td><td>High</td><td>Project Management</td><td>68764.3828125</td><td>true</td><td>Decline</td></tr></tbody></table></div>"
      ]
     },
     "metadata": {
      "application/vnd.databricks.v1+output": {
       "addedWidgets": {},
       "aggData": [],
       "aggError": "",
       "aggOverflow": false,
       "aggSchema": [],
       "aggSeriesLimitReached": false,
       "aggType": "",
       "arguments": {},
       "columnCustomDisplayInfos": {},
       "data": [
        [
         "Cybersecurity Analyst",
         "Entertainment",
         "Small",
         "Dubai",
         "Medium",
         "High",
         "UX/UI Design",
         111392.1640625,
         true,
         "Growth"
        ],
        [
         "Marketing Specialist",
         "Technology",
         "Large",
         "Singapore",
         "Medium",
         "High",
         "Marketing",
         93792.5625,
         false,
         "Decline"
        ],
        [
         "AI Researcher",
         "Technology",
         "Large",
         "Singapore",
         "Medium",
         "High",
         "UX/UI Design",
         107170.265625,
         true,
         "Growth"
        ],
        [
         "Sales Manager",
         "Retail",
         "Small",
         "Berlin",
         "Low",
         "High",
         "Project Management",
         93027.953125,
         false,
         "Growth"
        ],
        [
         "Cybersecurity Analyst",
         "Entertainment",
         "Small",
         "Tokyo",
         "Low",
         "Low",
         "JavaScript",
         87752.921875,
         true,
         "Decline"
        ],
        [
         "UX Designer",
         "Education",
         "Large",
         "San Francisco",
         "Medium",
         "Medium",
         "Cybersecurity",
         102825.0078125,
         false,
         "Growth"
        ],
        [
         "HR Manager",
         "Finance",
         "Medium",
         "Singapore",
         "Low",
         "High",
         "Sales",
         102065.71875,
         true,
         "Growth"
        ],
        [
         "Cybersecurity Analyst",
         "Technology",
         "Small",
         "Dubai",
         "Medium",
         "Low",
         "Machine Learning",
         86607.3203125,
         true,
         "Decline"
        ],
        [
         "AI Researcher",
         "Retail",
         "Large",
         "London",
         "High",
         "Low",
         "JavaScript",
         75015.859375,
         false,
         "Stable"
        ],
        [
         "Sales Manager",
         "Entertainment",
         "Medium",
         "Singapore",
         "High",
         "Low",
         "Cybersecurity",
         96834.578125,
         true,
         "Decline"
        ],
        [
         "Marketing Specialist",
         "Finance",
         "Small",
         "London",
         "High",
         "High",
         "Python",
         91566.9765625,
         true,
         "Growth"
        ],
        [
         "AI Researcher",
         "Entertainment",
         "Medium",
         "Singapore",
         "Medium",
         "High",
         "UX/UI Design",
         78902.5625,
         false,
         "Growth"
        ],
        [
         "AI Researcher",
         "Transportation",
         "Large",
         "San Francisco",
         "High",
         "Medium",
         "Python",
         73151.9921875,
         true,
         "Growth"
        ],
        [
         "HR Manager",
         "Retail",
         "Small",
         "Paris",
         "Low",
         "High",
         "Cybersecurity",
         98209.515625,
         true,
         "Decline"
        ],
        [
         "Product Manager",
         "Finance",
         "Medium",
         "Singapore",
         "High",
         "High",
         "JavaScript",
         101001.8984375,
         true,
         "Growth"
        ],
        [
         "Sales Manager",
         "Telecommunications",
         "Small",
         "Dubai",
         "High",
         "Low",
         "UX/UI Design",
         82799.359375,
         false,
         "Growth"
        ],
        [
         "Software Engineer",
         "Manufacturing",
         "Medium",
         "Singapore",
         "High",
         "Medium",
         "Machine Learning",
         78401.2578125,
         false,
         "Decline"
        ],
        [
         "AI Researcher",
         "Manufacturing",
         "Large",
         "Tokyo",
         "Low",
         "High",
         "Project Management",
         73394.8984375,
         false,
         "Stable"
        ],
        [
         "Product Manager",
         "Finance",
         "Large",
         "San Francisco",
         "Medium",
         "High",
         "UX/UI Design",
         97645.1015625,
         true,
         "Stable"
        ],
        [
         "Software Engineer",
         "Entertainment",
         "Small",
         "Dubai",
         "Low",
         "Low",
         "UX/UI Design",
         73920.4609375,
         true,
         "Growth"
        ],
        [
         "Sales Manager",
         "Retail",
         "Medium",
         "Sydney",
         "Medium",
         "Low",
         "JavaScript",
         134822.6875,
         true,
         "Decline"
        ],
        [
         "Data Scientist",
         "Manufacturing",
         "Small",
         "Dubai",
         "Medium",
         "High",
         "JavaScript",
         81794.375,
         true,
         "Growth"
        ],
        [
         "UX Designer",
         "Retail",
         "Small",
         "Tokyo",
         "High",
         "Medium",
         "Cybersecurity",
         41495.71484375,
         false,
         "Decline"
        ],
        [
         "Product Manager",
         "Manufacturing",
         "Medium",
         "Paris",
         "Medium",
         "Medium",
         "Data Analysis",
         89396.5703125,
         true,
         "Decline"
        ],
        [
         "Operations Manager",
         "Transportation",
         "Medium",
         "San Francisco",
         "Low",
         "Low",
         "UX/UI Design",
         88539.328125,
         true,
         "Stable"
        ],
        [
         "Data Scientist",
         "Entertainment",
         "Medium",
         "Sydney",
         "Low",
         "Low",
         "Sales",
         112234.375,
         true,
         "Stable"
        ],
        [
         "UX Designer",
         "Transportation",
         "Large",
         "Tokyo",
         "Medium",
         "High",
         "UX/UI Design",
         95762.5234375,
         false,
         "Decline"
        ],
        [
         "HR Manager",
         "Manufacturing",
         "Small",
         "Tokyo",
         "High",
         "Low",
         "Cybersecurity",
         73323.296875,
         true,
         "Growth"
        ],
        [
         "Cybersecurity Analyst",
         "Telecommunications",
         "Small",
         "New York",
         "High",
         "High",
         "Marketing",
         84272.1640625,
         true,
         "Stable"
        ],
        [
         "Marketing Specialist",
         "Telecommunications",
         "Large",
         "San Francisco",
         "Low",
         "Medium",
         "Python",
         96548.3984375,
         true,
         "Growth"
        ],
        [
         "Operations Manager",
         "Transportation",
         "Medium",
         "Dubai",
         "High",
         "Medium",
         "Project Management",
         46705.71484375,
         true,
         "Stable"
        ],
        [
         "HR Manager",
         "Telecommunications",
         "Large",
         "London",
         "Medium",
         "High",
         "Data Analysis",
         116772.4375,
         true,
         "Stable"
        ],
        [
         "Sales Manager",
         "Manufacturing",
         "Large",
         "Paris",
         "Medium",
         "Low",
         "Machine Learning",
         73376.6015625,
         false,
         "Growth"
        ],
        [
         "HR Manager",
         "Finance",
         "Large",
         "London",
         "Low",
         "Medium",
         "Machine Learning",
         118340.875,
         true,
         "Stable"
        ],
        [
         "Cybersecurity Analyst",
         "Transportation",
         "Small",
         "Dubai",
         "Medium",
         "Low",
         "Machine Learning",
         97849.3046875,
         true,
         "Stable"
        ],
        [
         "Sales Manager",
         "Healthcare",
         "Large",
         "Dubai",
         "Low",
         "Medium",
         "JavaScript",
         102591.8828125,
         true,
         "Growth"
        ],
        [
         "Operations Manager",
         "Entertainment",
         "Small",
         "San Francisco",
         "Medium",
         "High",
         "Machine Learning",
         112988.46875,
         true,
         "Stable"
        ],
        [
         "Cybersecurity Analyst",
         "Telecommunications",
         "Small",
         "Dubai",
         "Low",
         "High",
         "Project Management",
         101462.640625,
         true,
         "Stable"
        ],
        [
         "Software Engineer",
         "Telecommunications",
         "Small",
         "New York",
         "High",
         "High",
         "Python",
         103457.7265625,
         true,
         "Stable"
        ],
        [
         "Marketing Specialist",
         "Technology",
         "Medium",
         "Sydney",
         "Medium",
         "Medium",
         "Machine Learning",
         86711.671875,
         true,
         "Growth"
        ],
        [
         "Operations Manager",
         "Education",
         "Small",
         "Dubai",
         "Medium",
         "Low",
         "UX/UI Design",
         97443.375,
         true,
         "Decline"
        ],
        [
         "Software Engineer",
         "Transportation",
         "Small",
         "London",
         "Low",
         "Low",
         "UX/UI Design",
         78250.046875,
         true,
         "Growth"
        ],
        [
         "UX Designer",
         "Energy",
         "Medium",
         "Dubai",
         "Low",
         "Low",
         "JavaScript",
         83131.78125,
         true,
         "Decline"
        ],
        [
         "Operations Manager",
         "Telecommunications",
         "Small",
         "New York",
         "Medium",
         "Medium",
         "Project Management",
         129293.8984375,
         false,
         "Stable"
        ],
        [
         "UX Designer",
         "Entertainment",
         "Large",
         "Singapore",
         "Low",
         "Medium",
         "Python",
         73836.125,
         false,
         "Decline"
        ],
        [
         "Sales Manager",
         "Healthcare",
         "Large",
         "Singapore",
         "Medium",
         "Medium",
         "Data Analysis",
         93086.34375,
         false,
         "Growth"
        ],
        [
         "Software Engineer",
         "Telecommunications",
         "Small",
         "Tokyo",
         "High",
         "Medium",
         "Cybersecurity",
         92269.3828125,
         false,
         "Growth"
        ],
        [
         "Marketing Specialist",
         "Healthcare",
         "Medium",
         "Paris",
         "Low",
         "Medium",
         "Python",
         83784.9140625,
         true,
         "Stable"
        ],
        [
         "Cybersecurity Analyst",
         "Manufacturing",
         "Large",
         "Berlin",
         "Medium",
         "Low",
         "Cybersecurity",
         100288.015625,
         false,
         "Decline"
        ],
        [
         "AI Researcher",
         "Manufacturing",
         "Medium",
         "Sydney",
         "High",
         "Medium",
         "Marketing",
         101794.4453125,
         false,
         "Stable"
        ],
        [
         "HR Manager",
         "Education",
         "Medium",
         "Toronto",
         "High",
         "Medium",
         "Cybersecurity",
         71483.6171875,
         true,
         "Stable"
        ],
        [
         "Data Scientist",
         "Finance",
         "Large",
         "Tokyo",
         "Medium",
         "Low",
         "Sales",
         92027.1328125,
         false,
         "Growth"
        ],
        [
         "Marketing Specialist",
         "Energy",
         "Medium",
         "Paris",
         "Low",
         "Medium",
         "UX/UI Design",
         68352.65625,
         false,
         "Decline"
        ],
        [
         "Software Engineer",
         "Technology",
         "Large",
         "Singapore",
         "Medium",
         "Low",
         "Project Management",
         105770.96875,
         true,
         "Decline"
        ],
        [
         "AI Researcher",
         "Education",
         "Medium",
         "London",
         "High",
         "Low",
         "Communication",
         93529.75,
         true,
         "Decline"
        ],
        [
         "Marketing Specialist",
         "Retail",
         "Large",
         "Toronto",
         "Medium",
         "High",
         "JavaScript",
         91646.6015625,
         true,
         "Decline"
        ],
        [
         "Software Engineer",
         "Technology",
         "Small",
         "Paris",
         "Low",
         "High",
         "Sales",
         103180.625,
         false,
         "Stable"
        ],
        [
         "Product Manager",
         "Transportation",
         "Large",
         "Paris",
         "High",
         "High",
         "Cybersecurity",
         84489.796875,
         false,
         "Stable"
        ],
        [
         "Product Manager",
         "Entertainment",
         "Large",
         "Tokyo",
         "Medium",
         "High",
         "Machine Learning",
         108280.4375,
         true,
         "Growth"
        ],
        [
         "UX Designer",
         "Retail",
         "Large",
         "Toronto",
         "Low",
         "Medium",
         "Project Management",
         71031.1015625,
         true,
         "Stable"
        ],
        [
         "Marketing Specialist",
         "Retail",
         "Large",
         "San Francisco",
         "High",
         "High",
         "Sales",
         118237.53125,
         false,
         "Stable"
        ],
        [
         "Product Manager",
         "Education",
         "Medium",
         "Berlin",
         "Low",
         "Low",
         "JavaScript",
         78981.7734375,
         true,
         "Growth"
        ],
        [
         "Software Engineer",
         "Finance",
         "Small",
         "San Francisco",
         "High",
         "Medium",
         "UX/UI Design",
         56076.41796875,
         false,
         "Growth"
        ],
        [
         "UX Designer",
         "Education",
         "Large",
         "Toronto",
         "Medium",
         "High",
         "Project Management",
         83429.3046875,
         true,
         "Growth"
        ],
        [
         "Software Engineer",
         "Transportation",
         "Medium",
         "San Francisco",
         "Low",
         "Low",
         "JavaScript",
         81160.6328125,
         true,
         "Stable"
        ],
        [
         "UX Designer",
         "Telecommunications",
         "Small",
         "New York",
         "High",
         "Medium",
         "Marketing",
         83278.5234375,
         false,
         "Stable"
        ],
        [
         "Marketing Specialist",
         "Telecommunications",
         "Small",
         "Singapore",
         "Low",
         "Medium",
         "Marketing",
         94632.9609375,
         true,
         "Growth"
        ],
        [
         "AI Researcher",
         "Finance",
         "Small",
         "New York",
         "Low",
         "High",
         "JavaScript",
         111956.84375,
         true,
         "Growth"
        ],
        [
         "Cybersecurity Analyst",
         "Transportation",
         "Small",
         "Dubai",
         "Medium",
         "Medium",
         "Sales",
         86165.8828125,
         true,
         "Growth"
        ],
        [
         "Operations Manager",
         "Finance",
         "Large",
         "San Francisco",
         "Low",
         "Low",
         "Project Management",
         76167.6484375,
         false,
         "Stable"
        ],
        [
         "AI Researcher",
         "Healthcare",
         "Large",
         "Dubai",
         "High",
         "Medium",
         "Sales",
         67469.0625,
         true,
         "Stable"
        ],
        [
         "Sales Manager",
         "Telecommunications",
         "Medium",
         "London",
         "High",
         "Low",
         "Data Analysis",
         80636.34375,
         true,
         "Decline"
        ],
        [
         "Software Engineer",
         "Retail",
         "Medium",
         "Sydney",
         "High",
         "Medium",
         "Cybersecurity",
         52243.50390625,
         true,
         "Stable"
        ],
        [
         "Sales Manager",
         "Energy",
         "Medium",
         "London",
         "High",
         "High",
         "Data Analysis",
         75497.3359375,
         true,
         "Stable"
        ],
        [
         "AI Researcher",
         "Entertainment",
         "Small",
         "Toronto",
         "Medium",
         "Low",
         "Marketing",
         114881.078125,
         true,
         "Stable"
        ],
        [
         "UX Designer",
         "Transportation",
         "Small",
         "Paris",
         "Low",
         "Medium",
         "UX/UI Design",
         73532.8125,
         true,
         "Growth"
        ],
        [
         "Operations Manager",
         "Technology",
         "Large",
         "Singapore",
         "Medium",
         "Medium",
         "Python",
         102574.3203125,
         false,
         "Stable"
        ],
        [
         "Operations Manager",
         "Finance",
         "Small",
         "San Francisco",
         "Low",
         "Medium",
         "Cybersecurity",
         65470.359375,
         false,
         "Growth"
        ],
        [
         "Data Scientist",
         "Entertainment",
         "Small",
         "Tokyo",
         "Low",
         "Low",
         "Marketing",
         125421.921875,
         true,
         "Decline"
        ],
        [
         "Operations Manager",
         "Technology",
         "Small",
         "Sydney",
         "Low",
         "Low",
         "Sales",
         126752.1328125,
         false,
         "Decline"
        ],
        [
         "Cybersecurity Analyst",
         "Entertainment",
         "Medium",
         "Berlin",
         "Medium",
         "Low",
         "Sales",
         101820.4296875,
         false,
         "Growth"
        ],
        [
         "Operations Manager",
         "Energy",
         "Medium",
         "Berlin",
         "Low",
         "High",
         "Sales",
         129825.0546875,
         true,
         "Growth"
        ],
        [
         "AI Researcher",
         "Technology",
         "Large",
         "Berlin",
         "Medium",
         "High",
         "UX/UI Design",
         97115.859375,
         false,
         "Growth"
        ],
        [
         "Data Scientist",
         "Education",
         "Small",
         "San Francisco",
         "High",
         "Low",
         "Data Analysis",
         105370.34375,
         false,
         "Stable"
        ],
        [
         "AI Researcher",
         "Manufacturing",
         "Small",
         "Berlin",
         "High",
         "Medium",
         "Python",
         115238.6796875,
         false,
         "Decline"
        ],
        [
         "AI Researcher",
         "Education",
         "Large",
         "New York",
         "Low",
         "High",
         "Sales",
         93594.3671875,
         false,
         "Growth"
        ],
        [
         "HR Manager",
         "Telecommunications",
         "Small",
         "Sydney",
         "Medium",
         "Low",
         "Communication",
         58952.44921875,
         false,
         "Stable"
        ],
        [
         "Data Scientist",
         "Manufacturing",
         "Small",
         "New York",
         "High",
         "Medium",
         "Cybersecurity",
         105779.265625,
         false,
         "Decline"
        ],
        [
         "AI Researcher",
         "Education",
         "Medium",
         "Paris",
         "Medium",
         "High",
         "Project Management",
         80562.8046875,
         false,
         "Stable"
        ],
        [
         "HR Manager",
         "Manufacturing",
         "Large",
         "Sydney",
         "Medium",
         "Medium",
         "Communication",
         82049.40625,
         false,
         "Decline"
        ],
        [
         "HR Manager",
         "Manufacturing",
         "Large",
         "New York",
         "Low",
         "Medium",
         "Python",
         95957.8984375,
         true,
         "Stable"
        ],
        [
         "Data Scientist",
         "Retail",
         "Large",
         "Sydney",
         "High",
         "Medium",
         "UX/UI Design",
         101325.6171875,
         true,
         "Decline"
        ],
        [
         "Sales Manager",
         "Finance",
         "Large",
         "Paris",
         "Low",
         "Medium",
         "Python",
         93002.6953125,
         false,
         "Decline"
        ],
        [
         "UX Designer",
         "Finance",
         "Medium",
         "Dubai",
         "Low",
         "High",
         "Project Management",
         102714.59375,
         false,
         "Stable"
        ],
        [
         "Cybersecurity Analyst",
         "Retail",
         "Medium",
         "San Francisco",
         "High",
         "High",
         "Cybersecurity",
         75862.859375,
         true,
         "Growth"
        ],
        [
         "UX Designer",
         "Entertainment",
         "Small",
         "San Francisco",
         "High",
         "High",
         "Project Management",
         89145.921875,
         false,
         "Decline"
        ],
        [
         "Operations Manager",
         "Healthcare",
         "Small",
         "Berlin",
         "Medium",
         "Low",
         "JavaScript",
         106981.7109375,
         false,
         "Growth"
        ],
        [
         "Cybersecurity Analyst",
         "Entertainment",
         "Small",
         "London",
         "High",
         "High",
         "Cybersecurity",
         125455.8203125,
         true,
         "Stable"
        ],
        [
         "Operations Manager",
         "Technology",
         "Small",
         "Berlin",
         "Medium",
         "Medium",
         "Python",
         132528.71875,
         true,
         "Growth"
        ],
        [
         "AI Researcher",
         "Technology",
         "Medium",
         "Toronto",
         "Medium",
         "High",
         "Sales",
         98659.53125,
         true,
         "Growth"
        ],
        [
         "Software Engineer",
         "Manufacturing",
         "Large",
         "New York",
         "Medium",
         "Medium",
         "Python",
         106800.1953125,
         false,
         "Growth"
        ],
        [
         "Data Scientist",
         "Education",
         "Medium",
         "Sydney",
         "High",
         "Low",
         "Python",
         129631.5859375,
         false,
         "Growth"
        ],
        [
         "Cybersecurity Analyst",
         "Education",
         "Small",
         "London",
         "Low",
         "Medium",
         "Cybersecurity",
         76583.28125,
         true,
         "Growth"
        ],
        [
         "Cybersecurity Analyst",
         "Finance",
         "Medium",
         "Paris",
         "Medium",
         "Medium",
         "JavaScript",
         102594,
         true,
         "Decline"
        ],
        [
         "AI Researcher",
         "Transportation",
         "Large",
         "Toronto",
         "Low",
         "Medium",
         "Python",
         105366.859375,
         false,
         "Decline"
        ],
        [
         "Sales Manager",
         "Entertainment",
         "Large",
         "Paris",
         "Low",
         "Low",
         "Communication",
         118957.2265625,
         true,
         "Decline"
        ],
        [
         "HR Manager",
         "Telecommunications",
         "Medium",
         "San Francisco",
         "High",
         "High",
         "Marketing",
         67257.171875,
         false,
         "Stable"
        ],
        [
         "AI Researcher",
         "Energy",
         "Medium",
         "San Francisco",
         "Low",
         "High",
         "Machine Learning",
         71211.8828125,
         false,
         "Growth"
        ],
        [
         "Product Manager",
         "Education",
         "Medium",
         "Berlin",
         "Low",
         "Low",
         "Machine Learning",
         90427.640625,
         true,
         "Decline"
        ],
        [
         "HR Manager",
         "Energy",
         "Small",
         "New York",
         "High",
         "Medium",
         "Python",
         97554.5546875,
         true,
         "Stable"
        ],
        [
         "Data Scientist",
         "Manufacturing",
         "Medium",
         "London",
         "Medium",
         "High",
         "Communication",
         112457.28125,
         false,
         "Decline"
        ],
        [
         "HR Manager",
         "Energy",
         "Medium",
         "Singapore",
         "Low",
         "Low",
         "Sales",
         100350.875,
         true,
         "Decline"
        ],
        [
         "Sales Manager",
         "Telecommunications",
         "Medium",
         "Toronto",
         "High",
         "High",
         "UX/UI Design",
         86971.734375,
         true,
         "Growth"
        ],
        [
         "HR Manager",
         "Retail",
         "Large",
         "Toronto",
         "Low",
         "Low",
         "UX/UI Design",
         98329.2265625,
         true,
         "Stable"
        ],
        [
         "Data Scientist",
         "Telecommunications",
         "Large",
         "Berlin",
         "Low",
         "Medium",
         "Cybersecurity",
         96020.890625,
         true,
         "Growth"
        ],
        [
         "Sales Manager",
         "Energy",
         "Small",
         "San Francisco",
         "Medium",
         "High",
         "Machine Learning",
         124900.328125,
         false,
         "Growth"
        ],
        [
         "UX Designer",
         "Telecommunications",
         "Small",
         "Berlin",
         "Low",
         "Low",
         "Python",
         93313.1796875,
         false,
         "Decline"
        ],
        [
         "Cybersecurity Analyst",
         "Healthcare",
         "Large",
         "Sydney",
         "High",
         "High",
         "UX/UI Design",
         82338.328125,
         false,
         "Growth"
        ],
        [
         "Cybersecurity Analyst",
         "Manufacturing",
         "Large",
         "London",
         "Low",
         "High",
         "Python",
         98992.1796875,
         false,
         "Stable"
        ],
        [
         "Operations Manager",
         "Entertainment",
         "Large",
         "New York",
         "Medium",
         "High",
         "Cybersecurity",
         93969.703125,
         true,
         "Growth"
        ],
        [
         "UX Designer",
         "Retail",
         "Medium",
         "Dubai",
         "Medium",
         "High",
         "Machine Learning",
         58580.1328125,
         true,
         "Growth"
        ],
        [
         "UX Designer",
         "Education",
         "Medium",
         "Tokyo",
         "High",
         "Low",
         "Project Management",
         89686.9609375,
         false,
         "Growth"
        ],
        [
         "HR Manager",
         "Technology",
         "Large",
         "Tokyo",
         "Medium",
         "Medium",
         "Marketing",
         87985.234375,
         false,
         "Decline"
        ],
        [
         "Cybersecurity Analyst",
         "Entertainment",
         "Medium",
         "Berlin",
         "Low",
         "Low",
         "Marketing",
         79122.5625,
         true,
         "Stable"
        ],
        [
         "Data Scientist",
         "Technology",
         "Medium",
         "Sydney",
         "Medium",
         "Low",
         "UX/UI Design",
         110711.6640625,
         false,
         "Decline"
        ],
        [
         "Marketing Specialist",
         "Manufacturing",
         "Small",
         "London",
         "High",
         "Low",
         "Marketing",
         74286.40625,
         false,
         "Decline"
        ],
        [
         "Marketing Specialist",
         "Retail",
         "Large",
         "Singapore",
         "Medium",
         "Medium",
         "Project Management",
         99112.375,
         true,
         "Decline"
        ],
        [
         "Sales Manager",
         "Finance",
         "Large",
         "Tokyo",
         "Medium",
         "High",
         "Python",
         87042.859375,
         false,
         "Decline"
        ],
        [
         "Cybersecurity Analyst",
         "Education",
         "Medium",
         "London",
         "Medium",
         "High",
         "Cybersecurity",
         92153.8984375,
         true,
         "Decline"
        ],
        [
         "Cybersecurity Analyst",
         "Healthcare",
         "Large",
         "New York",
         "High",
         "High",
         "Project Management",
         98235.7265625,
         true,
         "Stable"
        ],
        [
         "Marketing Specialist",
         "Finance",
         "Small",
         "Paris",
         "Medium",
         "Medium",
         "Cybersecurity",
         63848.51171875,
         false,
         "Growth"
        ],
        [
         "Cybersecurity Analyst",
         "Manufacturing",
         "Small",
         "Sydney",
         "Medium",
         "High",
         "Cybersecurity",
         93833.21875,
         true,
         "Decline"
        ],
        [
         "HR Manager",
         "Entertainment",
         "Small",
         "San Francisco",
         "Low",
         "Medium",
         "Machine Learning",
         135778.953125,
         false,
         "Decline"
        ],
        [
         "Product Manager",
         "Healthcare",
         "Large",
         "London",
         "High",
         "High",
         "Python",
         58864.734375,
         true,
         "Stable"
        ],
        [
         "Software Engineer",
         "Telecommunications",
         "Large",
         "New York",
         "Medium",
         "High",
         "Communication",
         88847.84375,
         false,
         "Stable"
        ],
        [
         "UX Designer",
         "Energy",
         "Large",
         "Singapore",
         "High",
         "Low",
         "Marketing",
         112464.7890625,
         false,
         "Growth"
        ],
        [
         "Operations Manager",
         "Healthcare",
         "Large",
         "Dubai",
         "Medium",
         "Medium",
         "Communication",
         96032.3828125,
         false,
         "Stable"
        ],
        [
         "Sales Manager",
         "Manufacturing",
         "Large",
         "San Francisco",
         "Medium",
         "Low",
         "Machine Learning",
         103759.3359375,
         true,
         "Growth"
        ],
        [
         "Product Manager",
         "Transportation",
         "Small",
         "Dubai",
         "Medium",
         "Low",
         "Cybersecurity",
         42486.6796875,
         true,
         "Decline"
        ],
        [
         "Marketing Specialist",
         "Energy",
         "Medium",
         "Singapore",
         "Low",
         "Low",
         "UX/UI Design",
         101964.984375,
         false,
         "Decline"
        ],
        [
         "UX Designer",
         "Technology",
         "Small",
         "New York",
         "Low",
         "Medium",
         "Marketing",
         74766.234375,
         true,
         "Growth"
        ],
        [
         "Cybersecurity Analyst",
         "Education",
         "Large",
         "Tokyo",
         "Low",
         "Medium",
         "Marketing",
         96197.546875,
         false,
         "Stable"
        ],
        [
         "Operations Manager",
         "Technology",
         "Small",
         "Dubai",
         "High",
         "High",
         "Python",
         89411.3046875,
         false,
         "Growth"
        ],
        [
         "Cybersecurity Analyst",
         "Healthcare",
         "Large",
         "San Francisco",
         "High",
         "Low",
         "JavaScript",
         135566.65625,
         true,
         "Stable"
        ],
        [
         "Data Scientist",
         "Technology",
         "Large",
         "Berlin",
         "Low",
         "High",
         "Data Analysis",
         100933.90625,
         false,
         "Decline"
        ],
        [
         "Data Scientist",
         "Manufacturing",
         "Small",
         "Toronto",
         "High",
         "Low",
         "Data Analysis",
         87747.5234375,
         true,
         "Stable"
        ],
        [
         "Operations Manager",
         "Telecommunications",
         "Large",
         "London",
         "Medium",
         "Medium",
         "Data Analysis",
         59806.14453125,
         false,
         "Growth"
        ],
        [
         "Operations Manager",
         "Entertainment",
         "Medium",
         "Tokyo",
         "Medium",
         "Medium",
         "JavaScript",
         92422.9375,
         true,
         "Growth"
        ],
        [
         "Marketing Specialist",
         "Education",
         "Large",
         "Dubai",
         "Medium",
         "Medium",
         "Python",
         106464.578125,
         false,
         "Decline"
        ],
        [
         "Operations Manager",
         "Technology",
         "Medium",
         "Paris",
         "Low",
         "Low",
         "JavaScript",
         88388.9609375,
         false,
         "Stable"
        ],
        [
         "HR Manager",
         "Technology",
         "Medium",
         "London",
         "High",
         "Medium",
         "Data Analysis",
         79886.875,
         true,
         "Stable"
        ],
        [
         "Cybersecurity Analyst",
         "Healthcare",
         "Large",
         "Berlin",
         "Low",
         "Low",
         "Machine Learning",
         78548.265625,
         false,
         "Stable"
        ],
        [
         "Product Manager",
         "Entertainment",
         "Small",
         "Singapore",
         "High",
         "High",
         "Project Management",
         100702.828125,
         false,
         "Decline"
        ],
        [
         "AI Researcher",
         "Finance",
         "Medium",
         "Toronto",
         "Medium",
         "Low",
         "Cybersecurity",
         105187.7578125,
         true,
         "Stable"
        ],
        [
         "Operations Manager",
         "Technology",
         "Small",
         "New York",
         "Low",
         "High",
         "JavaScript",
         117224.203125,
         false,
         "Growth"
        ],
        [
         "Sales Manager",
         "Manufacturing",
         "Medium",
         "Berlin",
         "High",
         "Low",
         "Python",
         70100,
         true,
         "Stable"
        ],
        [
         "Data Scientist",
         "Transportation",
         "Large",
         "Berlin",
         "High",
         "High",
         "Python",
         100519.5546875,
         false,
         "Decline"
        ],
        [
         "HR Manager",
         "Education",
         "Large",
         "Singapore",
         "Medium",
         "Medium",
         "Communication",
         87565.921875,
         true,
         "Stable"
        ],
        [
         "UX Designer",
         "Technology",
         "Medium",
         "Sydney",
         "Low",
         "High",
         "Project Management",
         88155.3125,
         false,
         "Stable"
        ],
        [
         "AI Researcher",
         "Manufacturing",
         "Large",
         "Singapore",
         "Low",
         "Medium",
         "UX/UI Design",
         98036.515625,
         false,
         "Growth"
        ],
        [
         "Product Manager",
         "Manufacturing",
         "Medium",
         "Sydney",
         "Low",
         "Medium",
         "Marketing",
         98153.125,
         false,
         "Stable"
        ],
        [
         "AI Researcher",
         "Education",
         "Large",
         "Sydney",
         "Medium",
         "High",
         "Data Analysis",
         100575.359375,
         true,
         "Growth"
        ],
        [
         "Operations Manager",
         "Finance",
         "Small",
         "Tokyo",
         "Low",
         "Low",
         "UX/UI Design",
         68850.578125,
         true,
         "Growth"
        ],
        [
         "Marketing Specialist",
         "Manufacturing",
         "Large",
         "Tokyo",
         "Medium",
         "Low",
         "Communication",
         75003.7734375,
         true,
         "Decline"
        ],
        [
         "Data Scientist",
         "Transportation",
         "Small",
         "San Francisco",
         "Medium",
         "Low",
         "Data Analysis",
         119717.3671875,
         true,
         "Growth"
        ],
        [
         "Data Scientist",
         "Manufacturing",
         "Large",
         "Dubai",
         "Medium",
         "Low",
         "Project Management",
         85588.546875,
         false,
         "Growth"
        ],
        [
         "UX Designer",
         "Manufacturing",
         "Small",
         "Dubai",
         "High",
         "Low",
         "Communication",
         96120.2890625,
         false,
         "Decline"
        ],
        [
         "Marketing Specialist",
         "Manufacturing",
         "Large",
         "New York",
         "Low",
         "Medium",
         "Data Analysis",
         111093.328125,
         true,
         "Growth"
        ],
        [
         "Cybersecurity Analyst",
         "Telecommunications",
         "Small",
         "Dubai",
         "Low",
         "Low",
         "Project Management",
         99268.859375,
         true,
         "Decline"
        ],
        [
         "Software Engineer",
         "Telecommunications",
         "Medium",
         "Tokyo",
         "Medium",
         "Medium",
         "Sales",
         100930.453125,
         true,
         "Stable"
        ],
        [
         "HR Manager",
         "Finance",
         "Medium",
         "San Francisco",
         "Medium",
         "Medium",
         "UX/UI Design",
         107891.5546875,
         false,
         "Decline"
        ],
        [
         "Data Scientist",
         "Technology",
         "Small",
         "San Francisco",
         "Low",
         "Medium",
         "UX/UI Design",
         47666.7265625,
         true,
         "Growth"
        ],
        [
         "Sales Manager",
         "Manufacturing",
         "Large",
         "Sydney",
         "Medium",
         "High",
         "Marketing",
         80201,
         true,
         "Decline"
        ],
        [
         "Data Scientist",
         "Entertainment",
         "Small",
         "Singapore",
         "Low",
         "High",
         "Project Management",
         99372.1171875,
         false,
         "Growth"
        ],
        [
         "AI Researcher",
         "Technology",
         "Large",
         "New York",
         "High",
         "Medium",
         "JavaScript",
         117752.8828125,
         false,
         "Stable"
        ],
        [
         "Data Scientist",
         "Finance",
         "Medium",
         "Sydney",
         "Medium",
         "High",
         "Sales",
         91321.9140625,
         true,
         "Decline"
        ],
        [
         "Data Scientist",
         "Retail",
         "Large",
         "Singapore",
         "Low",
         "Low",
         "Machine Learning",
         73105.671875,
         false,
         "Stable"
        ],
        [
         "Software Engineer",
         "Technology",
         "Medium",
         "Dubai",
         "Medium",
         "Low",
         "Data Analysis",
         73638.28125,
         true,
         "Growth"
        ],
        [
         "Software Engineer",
         "Technology",
         "Large",
         "Sydney",
         "Low",
         "Medium",
         "Sales",
         107677.2265625,
         false,
         "Growth"
        ],
        [
         "Product Manager",
         "Energy",
         "Large",
         "London",
         "Low",
         "Low",
         "Project Management",
         85644.53125,
         true,
         "Stable"
        ],
        [
         "Cybersecurity Analyst",
         "Healthcare",
         "Large",
         "Dubai",
         "Medium",
         "Medium",
         "Cybersecurity",
         89856,
         true,
         "Decline"
        ],
        [
         "Sales Manager",
         "Energy",
         "Small",
         "Singapore",
         "High",
         "Medium",
         "Data Analysis",
         102300.6015625,
         true,
         "Decline"
        ],
        [
         "Data Scientist",
         "Transportation",
         "Small",
         "New York",
         "Low",
         "Low",
         "Python",
         31969.525390625,
         true,
         "Growth"
        ],
        [
         "Data Scientist",
         "Telecommunications",
         "Medium",
         "Singapore",
         "Low",
         "High",
         "UX/UI Design",
         130007.3515625,
         false,
         "Stable"
        ],
        [
         "HR Manager",
         "Telecommunications",
         "Medium",
         "Sydney",
         "Low",
         "Low",
         "Project Management",
         75378.5234375,
         false,
         "Stable"
        ],
        [
         "Software Engineer",
         "Healthcare",
         "Small",
         "Sydney",
         "High",
         "Low",
         "Python",
         94838.7265625,
         false,
         "Decline"
        ],
        [
         "Sales Manager",
         "Education",
         "Medium",
         "Berlin",
         "High",
         "Medium",
         "Marketing",
         55906.05859375,
         false,
         "Decline"
        ],
        [
         "UX Designer",
         "Education",
         "Small",
         "New York",
         "Medium",
         "Medium",
         "Communication",
         81549.1796875,
         true,
         "Decline"
        ],
        [
         "Product Manager",
         "Finance",
         "Large",
         "Paris",
         "High",
         "Medium",
         "Machine Learning",
         114893.7578125,
         true,
         "Stable"
        ],
        [
         "Cybersecurity Analyst",
         "Healthcare",
         "Medium",
         "Dubai",
         "Medium",
         "Medium",
         "Machine Learning",
         51676.65625,
         false,
         "Decline"
        ],
        [
         "Marketing Specialist",
         "Technology",
         "Medium",
         "San Francisco",
         "Medium",
         "High",
         "Python",
         112524,
         false,
         "Decline"
        ],
        [
         "Cybersecurity Analyst",
         "Education",
         "Small",
         "New York",
         "High",
         "High",
         "UX/UI Design",
         84526.078125,
         false,
         "Growth"
        ],
        [
         "AI Researcher",
         "Manufacturing",
         "Medium",
         "San Francisco",
         "Medium",
         "High",
         "Marketing",
         99743.2890625,
         false,
         "Decline"
        ],
        [
         "Data Scientist",
         "Entertainment",
         "Medium",
         "New York",
         "High",
         "Medium",
         "Cybersecurity",
         103150.484375,
         false,
         "Decline"
        ],
        [
         "Product Manager",
         "Technology",
         "Large",
         "New York",
         "Medium",
         "Medium",
         "UX/UI Design",
         98828.4296875,
         true,
         "Stable"
        ],
        [
         "AI Researcher",
         "Transportation",
         "Medium",
         "Singapore",
         "High",
         "Medium",
         "Sales",
         72700.984375,
         true,
         "Stable"
        ],
        [
         "Sales Manager",
         "Manufacturing",
         "Large",
         "New York",
         "High",
         "High",
         "Machine Learning",
         82709.015625,
         true,
         "Growth"
        ],
        [
         "Marketing Specialist",
         "Manufacturing",
         "Small",
         "Berlin",
         "Medium",
         "Medium",
         "Sales",
         60768.875,
         false,
         "Decline"
        ],
        [
         "Software Engineer",
         "Healthcare",
         "Medium",
         "Paris",
         "Low",
         "Low",
         "Data Analysis",
         99835.9296875,
         false,
         "Growth"
        ],
        [
         "Product Manager",
         "Finance",
         "Large",
         "Sydney",
         "Medium",
         "Low",
         "JavaScript",
         124041.1015625,
         false,
         "Stable"
        ],
        [
         "Product Manager",
         "Transportation",
         "Small",
         "Toronto",
         "High",
         "Medium",
         "Project Management",
         53511.18359375,
         false,
         "Growth"
        ],
        [
         "Data Scientist",
         "Education",
         "Medium",
         "San Francisco",
         "Low",
         "Low",
         "Marketing",
         74767.078125,
         true,
         "Stable"
        ],
        [
         "Operations Manager",
         "Healthcare",
         "Small",
         "Sydney",
         "Medium",
         "Low",
         "UX/UI Design",
         86364.4921875,
         true,
         "Growth"
        ],
        [
         "Product Manager",
         "Education",
         "Medium",
         "Toronto",
         "Medium",
         "High",
         "Machine Learning",
         93466.828125,
         false,
         "Growth"
        ],
        [
         "HR Manager",
         "Healthcare",
         "Small",
         "Paris",
         "Medium",
         "Medium",
         "Sales",
         107583.5234375,
         true,
         "Decline"
        ],
        [
         "Marketing Specialist",
         "Healthcare",
         "Small",
         "Paris",
         "Low",
         "Medium",
         "Communication",
         86956,
         true,
         "Growth"
        ],
        [
         "Marketing Specialist",
         "Healthcare",
         "Large",
         "San Francisco",
         "High",
         "High",
         "Data Analysis",
         83680.828125,
         false,
         "Decline"
        ],
        [
         "HR Manager",
         "Finance",
         "Small",
         "San Francisco",
         "Medium",
         "Low",
         "Project Management",
         112062.6171875,
         false,
         "Decline"
        ],
        [
         "UX Designer",
         "Healthcare",
         "Medium",
         "Paris",
         "Medium",
         "Low",
         "Project Management",
         103239.9140625,
         false,
         "Decline"
        ],
        [
         "HR Manager",
         "Retail",
         "Medium",
         "Toronto",
         "Medium",
         "Medium",
         "UX/UI Design",
         100779.5625,
         false,
         "Decline"
        ],
        [
         "HR Manager",
         "Entertainment",
         "Large",
         "New York",
         "Medium",
         "Low",
         "Marketing",
         92250.3125,
         false,
         "Growth"
        ],
        [
         "Marketing Specialist",
         "Education",
         "Medium",
         "Dubai",
         "Medium",
         "High",
         "Cybersecurity",
         109663.046875,
         false,
         "Stable"
        ],
        [
         "Cybersecurity Analyst",
         "Technology",
         "Medium",
         "London",
         "High",
         "High",
         "Communication",
         76873.8125,
         true,
         "Stable"
        ],
        [
         "Marketing Specialist",
         "Energy",
         "Medium",
         "Sydney",
         "High",
         "Medium",
         "UX/UI Design",
         74146.1171875,
         true,
         "Stable"
        ],
        [
         "Operations Manager",
         "Transportation",
         "Small",
         "Singapore",
         "Medium",
         "High",
         "Sales",
         104922.0234375,
         false,
         "Growth"
        ],
        [
         "Data Scientist",
         "Telecommunications",
         "Small",
         "Sydney",
         "Low",
         "High",
         "JavaScript",
         57499.28125,
         true,
         "Decline"
        ],
        [
         "AI Researcher",
         "Finance",
         "Medium",
         "Singapore",
         "High",
         "Medium",
         "Python",
         91843.59375,
         false,
         "Stable"
        ],
        [
         "Cybersecurity Analyst",
         "Technology",
         "Large",
         "Toronto",
         "Low",
         "High",
         "Cybersecurity",
         83668.8359375,
         false,
         "Growth"
        ],
        [
         "Software Engineer",
         "Manufacturing",
         "Small",
         "Singapore",
         "High",
         "High",
         "Marketing",
         61884.90625,
         false,
         "Decline"
        ],
        [
         "AI Researcher",
         "Retail",
         "Large",
         "San Francisco",
         "Medium",
         "High",
         "Data Analysis",
         71374.6484375,
         false,
         "Stable"
        ],
        [
         "Data Scientist",
         "Telecommunications",
         "Medium",
         "Dubai",
         "High",
         "Low",
         "Cybersecurity",
         87820.4765625,
         true,
         "Decline"
        ],
        [
         "Operations Manager",
         "Energy",
         "Medium",
         "Dubai",
         "Medium",
         "Medium",
         "Machine Learning",
         110679.265625,
         false,
         "Stable"
        ],
        [
         "Operations Manager",
         "Technology",
         "Small",
         "San Francisco",
         "High",
         "Medium",
         "Marketing",
         76940.84375,
         true,
         "Stable"
        ],
        [
         "Software Engineer",
         "Telecommunications",
         "Medium",
         "Berlin",
         "Medium",
         "Medium",
         "JavaScript",
         114267.625,
         false,
         "Stable"
        ],
        [
         "Cybersecurity Analyst",
         "Technology",
         "Small",
         "Toronto",
         "Medium",
         "Low",
         "Machine Learning",
         91263.5859375,
         false,
         "Decline"
        ],
        [
         "UX Designer",
         "Retail",
         "Medium",
         "Berlin",
         "Medium",
         "Low",
         "Cybersecurity",
         116207.6953125,
         false,
         "Growth"
        ],
        [
         "HR Manager",
         "Energy",
         "Medium",
         "Berlin",
         "Medium",
         "Medium",
         "Python",
         77910.1640625,
         true,
         "Decline"
        ],
        [
         "Cybersecurity Analyst",
         "Manufacturing",
         "Small",
         "Sydney",
         "Low",
         "Low",
         "Python",
         89023.8046875,
         false,
         "Stable"
        ],
        [
         "UX Designer",
         "Healthcare",
         "Small",
         "Paris",
         "Medium",
         "Medium",
         "JavaScript",
         97369.671875,
         false,
         "Decline"
        ],
        [
         "Operations Manager",
         "Education",
         "Small",
         "Sydney",
         "Low",
         "Low",
         "Project Management",
         86409.7890625,
         false,
         "Growth"
        ],
        [
         "Marketing Specialist",
         "Manufacturing",
         "Medium",
         "Paris",
         "Low",
         "High",
         "Communication",
         109060.484375,
         true,
         "Decline"
        ],
        [
         "Data Scientist",
         "Healthcare",
         "Medium",
         "London",
         "Medium",
         "High",
         "Data Analysis",
         45848.7265625,
         true,
         "Growth"
        ],
        [
         "Software Engineer",
         "Finance",
         "Large",
         "Singapore",
         "Low",
         "Medium",
         "Project Management",
         138448.109375,
         true,
         "Growth"
        ],
        [
         "Data Scientist",
         "Entertainment",
         "Small",
         "Paris",
         "High",
         "Low",
         "Python",
         107155.4921875,
         false,
         "Decline"
        ],
        [
         "Sales Manager",
         "Transportation",
         "Medium",
         "San Francisco",
         "Medium",
         "Low",
         "Python",
         86529.3671875,
         true,
         "Stable"
        ],
        [
         "Sales Manager",
         "Transportation",
         "Medium",
         "Sydney",
         "Low",
         "High",
         "Sales",
         78953.5703125,
         false,
         "Growth"
        ],
        [
         "Cybersecurity Analyst",
         "Education",
         "Small",
         "Toronto",
         "Medium",
         "High",
         "Machine Learning",
         72671.5859375,
         true,
         "Decline"
        ],
        [
         "Operations Manager",
         "Energy",
         "Large",
         "Singapore",
         "Medium",
         "Low",
         "Cybersecurity",
         102912.3125,
         true,
         "Growth"
        ],
        [
         "Operations Manager",
         "Retail",
         "Small",
         "London",
         "Medium",
         "Low",
         "Data Analysis",
         109899.6328125,
         false,
         "Stable"
        ],
        [
         "HR Manager",
         "Energy",
         "Large",
         "Paris",
         "Low",
         "Low",
         "JavaScript",
         86749.4765625,
         true,
         "Decline"
        ],
        [
         "HR Manager",
         "Retail",
         "Medium",
         "London",
         "High",
         "Low",
         "Cybersecurity",
         112139.8046875,
         false,
         "Decline"
        ],
        [
         "HR Manager",
         "Energy",
         "Large",
         "Toronto",
         "High",
         "Low",
         "Sales",
         71854.796875,
         false,
         "Decline"
        ],
        [
         "Marketing Specialist",
         "Entertainment",
         "Medium",
         "Berlin",
         "Low",
         "Low",
         "Python",
         68323.78125,
         true,
         "Stable"
        ],
        [
         "AI Researcher",
         "Finance",
         "Small",
         "Dubai",
         "Medium",
         "Medium",
         "JavaScript",
         126266.8203125,
         false,
         "Growth"
        ],
        [
         "Product Manager",
         "Finance",
         "Small",
         "Toronto",
         "Low",
         "Low",
         "Python",
         101822.171875,
         false,
         "Decline"
        ],
        [
         "AI Researcher",
         "Healthcare",
         "Small",
         "Tokyo",
         "Low",
         "High",
         "Data Analysis",
         117936.9609375,
         true,
         "Growth"
        ],
        [
         "Data Scientist",
         "Telecommunications",
         "Large",
         "Toronto",
         "Low",
         "Medium",
         "Machine Learning",
         72921.203125,
         true,
         "Growth"
        ],
        [
         "AI Researcher",
         "Finance",
         "Medium",
         "London",
         "Medium",
         "Low",
         "Cybersecurity",
         71529.4921875,
         false,
         "Stable"
        ],
        [
         "Marketing Specialist",
         "Finance",
         "Small",
         "San Francisco",
         "Low",
         "High",
         "Cybersecurity",
         82827.8125,
         true,
         "Decline"
        ],
        [
         "Data Scientist",
         "Manufacturing",
         "Small",
         "Sydney",
         "Medium",
         "Medium",
         "Project Management",
         73518.8203125,
         false,
         "Growth"
        ],
        [
         "AI Researcher",
         "Manufacturing",
         "Medium",
         "San Francisco",
         "Low",
         "High",
         "JavaScript",
         104107.3046875,
         false,
         "Decline"
        ],
        [
         "Marketing Specialist",
         "Healthcare",
         "Small",
         "London",
         "High",
         "Low",
         "Communication",
         74977.4765625,
         true,
         "Decline"
        ],
        [
         "Product Manager",
         "Telecommunications",
         "Medium",
         "Sydney",
         "Low",
         "Low",
         "Sales",
         66566.6015625,
         true,
         "Stable"
        ],
        [
         "AI Researcher",
         "Education",
         "Medium",
         "Tokyo",
         "Low",
         "Low",
         "Communication",
         92840.3046875,
         true,
         "Decline"
        ],
        [
         "Marketing Specialist",
         "Manufacturing",
         "Medium",
         "Dubai",
         "High",
         "Low",
         "Project Management",
         64200.27734375,
         true,
         "Decline"
        ],
        [
         "HR Manager",
         "Education",
         "Medium",
         "Singapore",
         "Medium",
         "Medium",
         "Data Analysis",
         54010.72265625,
         false,
         "Growth"
        ],
        [
         "Operations Manager",
         "Technology",
         "Medium",
         "London",
         "Medium",
         "Medium",
         "Sales",
         92665.1484375,
         false,
         "Stable"
        ],
        [
         "HR Manager",
         "Manufacturing",
         "Large",
         "Paris",
         "Low",
         "High",
         "Machine Learning",
         55015.59765625,
         true,
         "Decline"
        ],
        [
         "Operations Manager",
         "Entertainment",
         "Small",
         "London",
         "High",
         "Low",
         "Communication",
         105505.5859375,
         true,
         "Growth"
        ],
        [
         "Software Engineer",
         "Telecommunications",
         "Large",
         "London",
         "Medium",
         "High",
         "Machine Learning",
         62093.32421875,
         false,
         "Stable"
        ],
        [
         "Software Engineer",
         "Healthcare",
         "Small",
         "Sydney",
         "Low",
         "Medium",
         "Communication",
         45186.5234375,
         false,
         "Stable"
        ],
        [
         "Software Engineer",
         "Technology",
         "Large",
         "New York",
         "High",
         "Low",
         "Machine Learning",
         84124.0703125,
         false,
         "Growth"
        ],
        [
         "Product Manager",
         "Telecommunications",
         "Medium",
         "Toronto",
         "Medium",
         "Low",
         "Communication",
         92891.890625,
         false,
         "Growth"
        ],
        [
         "HR Manager",
         "Entertainment",
         "Small",
         "New York",
         "Medium",
         "Medium",
         "Machine Learning",
         99829.5,
         true,
         "Growth"
        ],
        [
         "Operations Manager",
         "Telecommunications",
         "Small",
         "Tokyo",
         "High",
         "Medium",
         "Project Management",
         93440.3125,
         false,
         "Growth"
        ],
        [
         "Marketing Specialist",
         "Entertainment",
         "Large",
         "Paris",
         "High",
         "Medium",
         "Marketing",
         68813.75,
         false,
         "Growth"
        ],
        [
         "Data Scientist",
         "Entertainment",
         "Large",
         "Dubai",
         "High",
         "Medium",
         "Sales",
         104261.2265625,
         true,
         "Decline"
        ],
        [
         "Marketing Specialist",
         "Education",
         "Small",
         "Berlin",
         "High",
         "Medium",
         "JavaScript",
         109202.7734375,
         false,
         "Decline"
        ],
        [
         "Data Scientist",
         "Energy",
         "Large",
         "Tokyo",
         "Low",
         "Low",
         "Data Analysis",
         65884.7578125,
         false,
         "Stable"
        ],
        [
         "Sales Manager",
         "Technology",
         "Large",
         "Berlin",
         "High",
         "Medium",
         "UX/UI Design",
         86379.875,
         true,
         "Decline"
        ],
        [
         "Marketing Specialist",
         "Telecommunications",
         "Large",
         "Berlin",
         "Medium",
         "Low",
         "Python",
         84511.203125,
         true,
         "Decline"
        ],
        [
         "AI Researcher",
         "Retail",
         "Medium",
         "Dubai",
         "Medium",
         "Low",
         "JavaScript",
         94407.6328125,
         true,
         "Decline"
        ],
        [
         "AI Researcher",
         "Technology",
         "Medium",
         "San Francisco",
         "Low",
         "Medium",
         "Python",
         85901.5234375,
         false,
         "Growth"
        ],
        [
         "Cybersecurity Analyst",
         "Energy",
         "Large",
         "New York",
         "Medium",
         "Medium",
         "Sales",
         88642.4453125,
         false,
         "Stable"
        ],
        [
         "HR Manager",
         "Technology",
         "Large",
         "London",
         "Medium",
         "Low",
         "JavaScript",
         102836.3125,
         true,
         "Stable"
        ],
        [
         "Data Scientist",
         "Finance",
         "Medium",
         "Singapore",
         "High",
         "Medium",
         "Machine Learning",
         67722.9375,
         true,
         "Stable"
        ],
        [
         "Data Scientist",
         "Retail",
         "Medium",
         "Berlin",
         "Medium",
         "Medium",
         "Machine Learning",
         104747.4609375,
         false,
         "Stable"
        ],
        [
         "HR Manager",
         "Energy",
         "Small",
         "Paris",
         "Low",
         "Medium",
         "UX/UI Design",
         112822.65625,
         true,
         "Decline"
        ],
        [
         "Product Manager",
         "Education",
         "Small",
         "Tokyo",
         "High",
         "High",
         "Python",
         122682.703125,
         true,
         "Decline"
        ],
        [
         "Cybersecurity Analyst",
         "Telecommunications",
         "Medium",
         "San Francisco",
         "High",
         "Low",
         "Data Analysis",
         47132.65234375,
         true,
         "Growth"
        ],
        [
         "Product Manager",
         "Transportation",
         "Large",
         "Berlin",
         "Low",
         "High",
         "Sales",
         86341.96875,
         false,
         "Stable"
        ],
        [
         "Product Manager",
         "Energy",
         "Large",
         "San Francisco",
         "High",
         "Medium",
         "Machine Learning",
         50697.98828125,
         false,
         "Decline"
        ],
        [
         "Product Manager",
         "Healthcare",
         "Large",
         "San Francisco",
         "High",
         "High",
         "Marketing",
         41298.7265625,
         false,
         "Decline"
        ],
        [
         "HR Manager",
         "Telecommunications",
         "Large",
         "Berlin",
         "Low",
         "Medium",
         "Project Management",
         92881.859375,
         false,
         "Growth"
        ],
        [
         "Product Manager",
         "Energy",
         "Small",
         "Sydney",
         "High",
         "High",
         "Project Management",
         82016.9609375,
         false,
         "Growth"
        ],
        [
         "AI Researcher",
         "Finance",
         "Medium",
         "Toronto",
         "Low",
         "Medium",
         "Communication",
         95997.015625,
         false,
         "Growth"
        ],
        [
         "Software Engineer",
         "Transportation",
         "Large",
         "Paris",
         "Low",
         "High",
         "Data Analysis",
         99722.5546875,
         true,
         "Decline"
        ],
        [
         "Sales Manager",
         "Finance",
         "Small",
         "London",
         "Medium",
         "High",
         "Project Management",
         114957.921875,
         false,
         "Decline"
        ],
        [
         "Data Scientist",
         "Transportation",
         "Large",
         "London",
         "Medium",
         "High",
         "Communication",
         91078.40625,
         false,
         "Growth"
        ],
        [
         "Data Scientist",
         "Healthcare",
         "Medium",
         "Paris",
         "High",
         "Low",
         "Python",
         148467.109375,
         true,
         "Stable"
        ],
        [
         "Sales Manager",
         "Telecommunications",
         "Small",
         "Sydney",
         "High",
         "High",
         "Machine Learning",
         96128.1953125,
         false,
         "Growth"
        ],
        [
         "HR Manager",
         "Education",
         "Medium",
         "London",
         "Low",
         "Low",
         "Machine Learning",
         126849.578125,
         false,
         "Growth"
        ],
        [
         "Marketing Specialist",
         "Finance",
         "Medium",
         "San Francisco",
         "High",
         "Medium",
         "Marketing",
         43343.2421875,
         true,
         "Growth"
        ],
        [
         "HR Manager",
         "Finance",
         "Small",
         "Dubai",
         "Low",
         "High",
         "JavaScript",
         116994.7890625,
         true,
         "Growth"
        ],
        [
         "Data Scientist",
         "Entertainment",
         "Small",
         "Tokyo",
         "Low",
         "Medium",
         "Project Management",
         86384.7890625,
         true,
         "Decline"
        ],
        [
         "Data Scientist",
         "Transportation",
         "Small",
         "New York",
         "High",
         "Medium",
         "Python",
         51033.0546875,
         false,
         "Stable"
        ],
        [
         "Sales Manager",
         "Manufacturing",
         "Small",
         "London",
         "Low",
         "High",
         "Cybersecurity",
         98410.8984375,
         true,
         "Growth"
        ],
        [
         "Product Manager",
         "Telecommunications",
         "Small",
         "Paris",
         "Medium",
         "Low",
         "Project Management",
         83940.890625,
         false,
         "Stable"
        ],
        [
         "HR Manager",
         "Transportation",
         "Small",
         "Dubai",
         "High",
         "High",
         "Data Analysis",
         101601.0625,
         false,
         "Stable"
        ],
        [
         "Operations Manager",
         "Entertainment",
         "Small",
         "Berlin",
         "Medium",
         "Medium",
         "JavaScript",
         110221.53125,
         false,
         "Stable"
        ],
        [
         "Sales Manager",
         "Technology",
         "Large",
         "Toronto",
         "High",
         "Medium",
         "Project Management",
         60216.99609375,
         false,
         "Growth"
        ],
        [
         "AI Researcher",
         "Transportation",
         "Medium",
         "Paris",
         "Low",
         "High",
         "Python",
         110298.3828125,
         true,
         "Decline"
        ],
        [
         "Data Scientist",
         "Education",
         "Small",
         "San Francisco",
         "High",
         "Low",
         "Project Management",
         90129.5859375,
         true,
         "Growth"
        ],
        [
         "Sales Manager",
         "Telecommunications",
         "Large",
         "Toronto",
         "Medium",
         "Low",
         "Data Analysis",
         117056.8203125,
         false,
         "Stable"
        ],
        [
         "HR Manager",
         "Entertainment",
         "Large",
         "Tokyo",
         "Low",
         "Medium",
         "Cybersecurity",
         85897.0390625,
         true,
         "Stable"
        ],
        [
         "Data Scientist",
         "Technology",
         "Large",
         "Tokyo",
         "High",
         "Medium",
         "Sales",
         80591.8203125,
         false,
         "Decline"
        ],
        [
         "Marketing Specialist",
         "Retail",
         "Medium",
         "Sydney",
         "High",
         "Low",
         "UX/UI Design",
         90541.078125,
         false,
         "Growth"
        ],
        [
         "Sales Manager",
         "Entertainment",
         "Small",
         "Singapore",
         "High",
         "High",
         "Cybersecurity",
         92037.2109375,
         false,
         "Stable"
        ],
        [
         "Cybersecurity Analyst",
         "Retail",
         "Large",
         "Sydney",
         "Medium",
         "Medium",
         "Communication",
         76744.3046875,
         true,
         "Decline"
        ],
        [
         "Data Scientist",
         "Telecommunications",
         "Medium",
         "Dubai",
         "Medium",
         "Low",
         "Project Management",
         80073.90625,
         false,
         "Stable"
        ],
        [
         "HR Manager",
         "Finance",
         "Medium",
         "Toronto",
         "High",
         "Medium",
         "Machine Learning",
         65462.48828125,
         false,
         "Decline"
        ],
        [
         "Software Engineer",
         "Entertainment",
         "Medium",
         "Singapore",
         "Low",
         "High",
         "Marketing",
         81307.1015625,
         true,
         "Decline"
        ],
        [
         "Operations Manager",
         "Healthcare",
         "Large",
         "Berlin",
         "Low",
         "Low",
         "Machine Learning",
         103526.203125,
         true,
         "Growth"
        ],
        [
         "UX Designer",
         "Retail",
         "Small",
         "San Francisco",
         "Medium",
         "Medium",
         "Cybersecurity",
         87252.9140625,
         true,
         "Stable"
        ],
        [
         "Product Manager",
         "Education",
         "Large",
         "Toronto",
         "Low",
         "High",
         "Machine Learning",
         110181.3046875,
         true,
         "Growth"
        ],
        [
         "UX Designer",
         "Healthcare",
         "Large",
         "Sydney",
         "Medium",
         "Medium",
         "Python",
         86291.4140625,
         false,
         "Stable"
        ],
        [
         "HR Manager",
         "Energy",
         "Small",
         "New York",
         "High",
         "High",
         "Machine Learning",
         61369.640625,
         true,
         "Growth"
        ],
        [
         "AI Researcher",
         "Energy",
         "Small",
         "Singapore",
         "Medium",
         "High",
         "JavaScript",
         101945.5,
         false,
         "Stable"
        ],
        [
         "AI Researcher",
         "Technology",
         "Small",
         "Singapore",
         "Medium",
         "Low",
         "Sales",
         76527.5390625,
         true,
         "Growth"
        ],
        [
         "Software Engineer",
         "Finance",
         "Medium",
         "San Francisco",
         "High",
         "High",
         "Project Management",
         85332.65625,
         true,
         "Decline"
        ],
        [
         "Product Manager",
         "Telecommunications",
         "Small",
         "London",
         "Low",
         "Medium",
         "Machine Learning",
         114751.4375,
         true,
         "Stable"
        ],
        [
         "Cybersecurity Analyst",
         "Entertainment",
         "Large",
         "Tokyo",
         "Medium",
         "High",
         "Data Analysis",
         66782.59375,
         true,
         "Stable"
        ],
        [
         "Software Engineer",
         "Manufacturing",
         "Small",
         "Tokyo",
         "Medium",
         "High",
         "Sales",
         93294.875,
         true,
         "Decline"
        ],
        [
         "UX Designer",
         "Education",
         "Large",
         "New York",
         "High",
         "Low",
         "Sales",
         89189.6328125,
         true,
         "Growth"
        ],
        [
         "Software Engineer",
         "Retail",
         "Medium",
         "Dubai",
         "Low",
         "High",
         "Machine Learning",
         104018.515625,
         false,
         "Stable"
        ],
        [
         "UX Designer",
         "Telecommunications",
         "Large",
         "Dubai",
         "Medium",
         "High",
         "Sales",
         107103.0703125,
         true,
         "Stable"
        ],
        [
         "Data Scientist",
         "Healthcare",
         "Large",
         "Berlin",
         "High",
         "Medium",
         "Marketing",
         95276.78125,
         true,
         "Growth"
        ],
        [
         "AI Researcher",
         "Energy",
         "Small",
         "Toronto",
         "Medium",
         "Low",
         "Machine Learning",
         82792.5078125,
         true,
         "Decline"
        ],
        [
         "Data Scientist",
         "Education",
         "Small",
         "Paris",
         "High",
         "Low",
         "Python",
         99467.453125,
         true,
         "Growth"
        ],
        [
         "Operations Manager",
         "Manufacturing",
         "Large",
         "London",
         "Low",
         "Low",
         "Cybersecurity",
         116713.1171875,
         false,
         "Growth"
        ],
        [
         "Product Manager",
         "Entertainment",
         "Small",
         "Sydney",
         "Low",
         "High",
         "JavaScript",
         89454.203125,
         true,
         "Growth"
        ],
        [
         "Cybersecurity Analyst",
         "Technology",
         "Medium",
         "Paris",
         "Low",
         "Low",
         "UX/UI Design",
         84654.875,
         true,
         "Stable"
        ],
        [
         "UX Designer",
         "Manufacturing",
         "Medium",
         "Paris",
         "Low",
         "High",
         "Communication",
         97763.40625,
         true,
         "Decline"
        ],
        [
         "Cybersecurity Analyst",
         "Education",
         "Small",
         "Singapore",
         "Medium",
         "High",
         "Sales",
         90774.5390625,
         true,
         "Decline"
        ],
        [
         "UX Designer",
         "Manufacturing",
         "Medium",
         "New York",
         "Medium",
         "Medium",
         "Python",
         63245.8125,
         false,
         "Growth"
        ],
        [
         "HR Manager",
         "Education",
         "Small",
         "Tokyo",
         "Low",
         "Medium",
         "Project Management",
         94786.6171875,
         true,
         "Stable"
        ],
        [
         "Software Engineer",
         "Education",
         "Large",
         "Berlin",
         "Low",
         "Medium",
         "Project Management",
         63064.75,
         false,
         "Growth"
        ],
        [
         "Operations Manager",
         "Transportation",
         "Large",
         "Dubai",
         "Low",
         "Medium",
         "Communication",
         97489.609375,
         true,
         "Stable"
        ],
        [
         "AI Researcher",
         "Retail",
         "Medium",
         "New York",
         "Medium",
         "Medium",
         "JavaScript",
         74057.1484375,
         false,
         "Stable"
        ],
        [
         "UX Designer",
         "Energy",
         "Small",
         "Singapore",
         "Low",
         "High",
         "Sales",
         90737.4921875,
         false,
         "Stable"
        ],
        [
         "Cybersecurity Analyst",
         "Transportation",
         "Small",
         "Sydney",
         "Low",
         "High",
         "Marketing",
         97811.875,
         true,
         "Stable"
        ],
        [
         "Operations Manager",
         "Entertainment",
         "Medium",
         "Berlin",
         "Low",
         "Low",
         "Communication",
         139078.0625,
         true,
         "Decline"
        ],
        [
         "Marketing Specialist",
         "Transportation",
         "Large",
         "Singapore",
         "High",
         "High",
         "JavaScript",
         104855,
         false,
         "Stable"
        ],
        [
         "Marketing Specialist",
         "Finance",
         "Medium",
         "Tokyo",
         "Low",
         "High",
         "Sales",
         117295.9765625,
         false,
         "Stable"
        ],
        [
         "Data Scientist",
         "Finance",
         "Large",
         "Tokyo",
         "High",
         "Medium",
         "Python",
         127434.953125,
         true,
         "Growth"
        ],
        [
         "AI Researcher",
         "Energy",
         "Small",
         "Tokyo",
         "High",
         "High",
         "Cybersecurity",
         99785.1171875,
         false,
         "Growth"
        ],
        [
         "HR Manager",
         "Manufacturing",
         "Large",
         "New York",
         "Low",
         "Medium",
         "Marketing",
         95713.796875,
         false,
         "Decline"
        ],
        [
         "Cybersecurity Analyst",
         "Retail",
         "Medium",
         "New York",
         "High",
         "Low",
         "UX/UI Design",
         68665.578125,
         false,
         "Growth"
        ],
        [
         "Software Engineer",
         "Energy",
         "Small",
         "Dubai",
         "Low",
         "Low",
         "Project Management",
         87667.3984375,
         true,
         "Stable"
        ],
        [
         "Software Engineer",
         "Education",
         "Medium",
         "Dubai",
         "Medium",
         "High",
         "Data Analysis",
         75538.2421875,
         false,
         "Growth"
        ],
        [
         "Cybersecurity Analyst",
         "Healthcare",
         "Medium",
         "Sydney",
         "Medium",
         "Low",
         "Python",
         81978.8203125,
         false,
         "Decline"
        ],
        [
         "Product Manager",
         "Retail",
         "Large",
         "Berlin",
         "Medium",
         "High",
         "Project Management",
         127413.265625,
         false,
         "Growth"
        ],
        [
         "HR Manager",
         "Retail",
         "Medium",
         "San Francisco",
         "Medium",
         "Low",
         "Machine Learning",
         92292.4296875,
         true,
         "Growth"
        ],
        [
         "Operations Manager",
         "Education",
         "Large",
         "San Francisco",
         "High",
         "Medium",
         "Data Analysis",
         72482.0078125,
         true,
         "Decline"
        ],
        [
         "UX Designer",
         "Education",
         "Small",
         "Singapore",
         "Low",
         "Medium",
         "Project Management",
         117490.671875,
         false,
         "Decline"
        ],
        [
         "Product Manager",
         "Technology",
         "Large",
         "Tokyo",
         "Low",
         "Medium",
         "JavaScript",
         109105.5078125,
         true,
         "Stable"
        ],
        [
         "UX Designer",
         "Energy",
         "Small",
         "Berlin",
         "Low",
         "Medium",
         "Marketing",
         110153.0703125,
         false,
         "Growth"
        ],
        [
         "UX Designer",
         "Education",
         "Large",
         "Paris",
         "Medium",
         "High",
         "Project Management",
         49877.39453125,
         true,
         "Stable"
        ],
        [
         "Product Manager",
         "Finance",
         "Medium",
         "New York",
         "Medium",
         "Low",
         "UX/UI Design",
         128973.421875,
         true,
         "Growth"
        ],
        [
         "Data Scientist",
         "Entertainment",
         "Large",
         "Toronto",
         "Low",
         "High",
         "Cybersecurity",
         78829.703125,
         false,
         "Growth"
        ],
        [
         "Marketing Specialist",
         "Healthcare",
         "Large",
         "London",
         "Medium",
         "Medium",
         "JavaScript",
         105559.09375,
         true,
         "Stable"
        ],
        [
         "UX Designer",
         "Energy",
         "Small",
         "Sydney",
         "Low",
         "High",
         "Python",
         140476,
         true,
         "Growth"
        ],
        [
         "Product Manager",
         "Telecommunications",
         "Medium",
         "Tokyo",
         "Low",
         "Low",
         "Python",
         133106.65625,
         true,
         "Growth"
        ],
        [
         "Product Manager",
         "Finance",
         "Large",
         "Tokyo",
         "Low",
         "High",
         "Python",
         70448.7578125,
         false,
         "Growth"
        ],
        [
         "Sales Manager",
         "Manufacturing",
         "Medium",
         "Tokyo",
         "Low",
         "Low",
         "Python",
         61109.65234375,
         true,
         "Decline"
        ],
        [
         "Data Scientist",
         "Education",
         "Large",
         "New York",
         "Low",
         "High",
         "Cybersecurity",
         118606.9296875,
         true,
         "Stable"
        ],
        [
         "AI Researcher",
         "Telecommunications",
         "Large",
         "New York",
         "Low",
         "Low",
         "Project Management",
         92841.1171875,
         false,
         "Decline"
        ],
        [
         "Sales Manager",
         "Education",
         "Medium",
         "London",
         "Low",
         "Low",
         "Sales",
         79982.375,
         true,
         "Stable"
        ],
        [
         "Sales Manager",
         "Retail",
         "Large",
         "Paris",
         "Medium",
         "Medium",
         "Project Management",
         102424.3671875,
         true,
         "Stable"
        ],
        [
         "Cybersecurity Analyst",
         "Finance",
         "Medium",
         "Berlin",
         "Low",
         "Low",
         "Machine Learning",
         86742.40625,
         true,
         "Growth"
        ],
        [
         "Marketing Specialist",
         "Retail",
         "Large",
         "Tokyo",
         "Low",
         "Medium",
         "Marketing",
         104026.484375,
         true,
         "Stable"
        ],
        [
         "Product Manager",
         "Technology",
         "Small",
         "San Francisco",
         "Medium",
         "Medium",
         "Data Analysis",
         91339.6328125,
         true,
         "Decline"
        ],
        [
         "Marketing Specialist",
         "Retail",
         "Medium",
         "Dubai",
         "Medium",
         "Medium",
         "Sales",
         104447.7578125,
         false,
         "Decline"
        ],
        [
         "HR Manager",
         "Technology",
         "Large",
         "San Francisco",
         "Medium",
         "High",
         "Sales",
         72109.34375,
         false,
         "Decline"
        ],
        [
         "Cybersecurity Analyst",
         "Technology",
         "Large",
         "Singapore",
         "Low",
         "High",
         "Project Management",
         118489.2421875,
         true,
         "Stable"
        ],
        [
         "AI Researcher",
         "Telecommunications",
         "Small",
         "San Francisco",
         "High",
         "High",
         "Sales",
         103952.46875,
         true,
         "Decline"
        ],
        [
         "Marketing Specialist",
         "Education",
         "Medium",
         "Singapore",
         "High",
         "High",
         "Communication",
         102925.9453125,
         true,
         "Stable"
        ],
        [
         "Software Engineer",
         "Manufacturing",
         "Large",
         "Toronto",
         "Medium",
         "Low",
         "Communication",
         67646.6015625,
         false,
         "Decline"
        ],
        [
         "UX Designer",
         "Retail",
         "Small",
         "Dubai",
         "High",
         "Low",
         "Machine Learning",
         123992.6484375,
         false,
         "Decline"
        ],
        [
         "HR Manager",
         "Finance",
         "Large",
         "San Francisco",
         "Medium",
         "High",
         "Data Analysis",
         89725.6796875,
         true,
         "Stable"
        ],
        [
         "Data Scientist",
         "Technology",
         "Medium",
         "Toronto",
         "Low",
         "Low",
         "UX/UI Design",
         104560.9765625,
         true,
         "Decline"
        ],
        [
         "AI Researcher",
         "Education",
         "Large",
         "Sydney",
         "High",
         "Low",
         "Cybersecurity",
         83543.5078125,
         false,
         "Growth"
        ],
        [
         "HR Manager",
         "Healthcare",
         "Large",
         "Berlin",
         "Low",
         "Medium",
         "Project Management",
         95217.78125,
         true,
         "Stable"
        ],
        [
         "UX Designer",
         "Energy",
         "Large",
         "Toronto",
         "High",
         "Medium",
         "Cybersecurity",
         95942.546875,
         false,
         "Stable"
        ],
        [
         "Cybersecurity Analyst",
         "Telecommunications",
         "Large",
         "Berlin",
         "Low",
         "Medium",
         "UX/UI Design",
         33601.3828125,
         false,
         "Stable"
        ],
        [
         "UX Designer",
         "Manufacturing",
         "Small",
         "San Francisco",
         "High",
         "Medium",
         "Project Management",
         101648.9609375,
         true,
         "Growth"
        ],
        [
         "Sales Manager",
         "Transportation",
         "Small",
         "Paris",
         "Low",
         "Low",
         "Project Management",
         129306.828125,
         false,
         "Stable"
        ],
        [
         "UX Designer",
         "Telecommunications",
         "Medium",
         "Toronto",
         "Low",
         "High",
         "Data Analysis",
         100795.6015625,
         true,
         "Decline"
        ],
        [
         "Sales Manager",
         "Healthcare",
         "Small",
         "Dubai",
         "High",
         "Low",
         "Cybersecurity",
         70845.8359375,
         true,
         "Decline"
        ],
        [
         "Cybersecurity Analyst",
         "Energy",
         "Small",
         "San Francisco",
         "Low",
         "Low",
         "Communication",
         102999.234375,
         true,
         "Decline"
        ],
        [
         "Operations Manager",
         "Healthcare",
         "Medium",
         "Tokyo",
         "Low",
         "Low",
         "Python",
         111189.609375,
         true,
         "Stable"
        ],
        [
         "Sales Manager",
         "Retail",
         "Small",
         "New York",
         "Low",
         "Medium",
         "Cybersecurity",
         100249.328125,
         true,
         "Decline"
        ],
        [
         "Data Scientist",
         "Technology",
         "Small",
         "Toronto",
         "High",
         "Medium",
         "Marketing",
         88517.4609375,
         true,
         "Stable"
        ],
        [
         "UX Designer",
         "Manufacturing",
         "Medium",
         "Dubai",
         "High",
         "Medium",
         "Marketing",
         85157.015625,
         false,
         "Decline"
        ],
        [
         "UX Designer",
         "Entertainment",
         "Medium",
         "Sydney",
         "Low",
         "High",
         "Project Management",
         85073.8046875,
         false,
         "Growth"
        ],
        [
         "Data Scientist",
         "Technology",
         "Medium",
         "Tokyo",
         "Low",
         "Low",
         "Python",
         103955.5390625,
         false,
         "Growth"
        ],
        [
         "Software Engineer",
         "Entertainment",
         "Large",
         "Sydney",
         "High",
         "High",
         "JavaScript",
         61857.51953125,
         false,
         "Growth"
        ],
        [
         "Product Manager",
         "Energy",
         "Large",
         "San Francisco",
         "High",
         "Medium",
         "UX/UI Design",
         82562.5390625,
         true,
         "Growth"
        ],
        [
         "Operations Manager",
         "Education",
         "Medium",
         "New York",
         "Low",
         "High",
         "Machine Learning",
         121912.1953125,
         false,
         "Stable"
        ],
        [
         "AI Researcher",
         "Transportation",
         "Medium",
         "Toronto",
         "Low",
         "Low",
         "Python",
         122683.90625,
         false,
         "Decline"
        ],
        [
         "Sales Manager",
         "Finance",
         "Medium",
         "Toronto",
         "Low",
         "Low",
         "Machine Learning",
         60437.05859375,
         false,
         "Growth"
        ],
        [
         "Data Scientist",
         "Technology",
         "Large",
         "Paris",
         "Medium",
         "Medium",
         "Cybersecurity",
         67371.7265625,
         true,
         "Stable"
        ],
        [
         "Cybersecurity Analyst",
         "Manufacturing",
         "Large",
         "Paris",
         "High",
         "Medium",
         "Cybersecurity",
         84587.5859375,
         false,
         "Growth"
        ],
        [
         "Sales Manager",
         "Healthcare",
         "Small",
         "San Francisco",
         "Medium",
         "High",
         "Machine Learning",
         107851.7890625,
         true,
         "Growth"
        ],
        [
         "Product Manager",
         "Manufacturing",
         "Small",
         "San Francisco",
         "High",
         "Medium",
         "UX/UI Design",
         53450.51171875,
         false,
         "Stable"
        ],
        [
         "Cybersecurity Analyst",
         "Energy",
         "Medium",
         "New York",
         "High",
         "Medium",
         "Python",
         88903.828125,
         true,
         "Stable"
        ],
        [
         "HR Manager",
         "Entertainment",
         "Large",
         "Paris",
         "High",
         "Low",
         "JavaScript",
         80516.4140625,
         true,
         "Decline"
        ],
        [
         "UX Designer",
         "Healthcare",
         "Large",
         "Dubai",
         "High",
         "Medium",
         "Project Management",
         116519.296875,
         false,
         "Decline"
        ],
        [
         "HR Manager",
         "Finance",
         "Large",
         "Dubai",
         "High",
         "Medium",
         "Data Analysis",
         56461.83203125,
         true,
         "Growth"
        ],
        [
         "Sales Manager",
         "Finance",
         "Medium",
         "New York",
         "High",
         "Low",
         "Cybersecurity",
         91850.8125,
         true,
         "Growth"
        ],
        [
         "Product Manager",
         "Technology",
         "Small",
         "Dubai",
         "High",
         "Low",
         "Marketing",
         82127.8125,
         false,
         "Decline"
        ],
        [
         "Operations Manager",
         "Energy",
         "Medium",
         "Singapore",
         "Medium",
         "High",
         "UX/UI Design",
         119395.9765625,
         false,
         "Decline"
        ],
        [
         "Sales Manager",
         "Education",
         "Small",
         "Berlin",
         "Low",
         "Medium",
         "Data Analysis",
         101953.0546875,
         false,
         "Stable"
        ],
        [
         "Data Scientist",
         "Energy",
         "Small",
         "New York",
         "Low",
         "Low",
         "JavaScript",
         78283.6875,
         true,
         "Decline"
        ],
        [
         "Marketing Specialist",
         "Entertainment",
         "Medium",
         "New York",
         "Medium",
         "High",
         "Sales",
         107067.7265625,
         true,
         "Decline"
        ],
        [
         "Sales Manager",
         "Manufacturing",
         "Small",
         "London",
         "Medium",
         "High",
         "Project Management",
         82223.421875,
         true,
         "Growth"
        ],
        [
         "UX Designer",
         "Finance",
         "Small",
         "Tokyo",
         "Medium",
         "Medium",
         "Cybersecurity",
         109986.59375,
         false,
         "Decline"
        ],
        [
         "UX Designer",
         "Manufacturing",
         "Large",
         "Tokyo",
         "Medium",
         "Medium",
         "Project Management",
         85258.4609375,
         true,
         "Growth"
        ],
        [
         "Sales Manager",
         "Manufacturing",
         "Small",
         "Singapore",
         "High",
         "High",
         "Data Analysis",
         111093.328125,
         true,
         "Decline"
        ],
        [
         "Cybersecurity Analyst",
         "Manufacturing",
         "Medium",
         "Paris",
         "Low",
         "Low",
         "Project Management",
         98721.640625,
         true,
         "Stable"
        ],
        [
         "Marketing Specialist",
         "Finance",
         "Medium",
         "San Francisco",
         "High",
         "High",
         "Sales",
         155209.828125,
         true,
         "Decline"
        ],
        [
         "Data Scientist",
         "Telecommunications",
         "Small",
         "San Francisco",
         "Low",
         "Medium",
         "Data Analysis",
         88942.078125,
         true,
         "Decline"
        ],
        [
         "Sales Manager",
         "Retail",
         "Large",
         "Sydney",
         "Low",
         "Low",
         "Cybersecurity",
         97657.2421875,
         true,
         "Decline"
        ],
        [
         "Cybersecurity Analyst",
         "Entertainment",
         "Large",
         "Singapore",
         "Medium",
         "Low",
         "Python",
         80411.5078125,
         true,
         "Growth"
        ],
        [
         "UX Designer",
         "Telecommunications",
         "Small",
         "New York",
         "High",
         "High",
         "Marketing",
         90053.703125,
         false,
         "Stable"
        ],
        [
         "UX Designer",
         "Entertainment",
         "Small",
         "Singapore",
         "Medium",
         "Medium",
         "Data Analysis",
         35963.296875,
         false,
         "Decline"
        ],
        [
         "Product Manager",
         "Healthcare",
         "Medium",
         "Singapore",
         "High",
         "High",
         "Communication",
         99311.6796875,
         false,
         "Growth"
        ],
        [
         "Sales Manager",
         "Energy",
         "Small",
         "Singapore",
         "Low",
         "High",
         "Sales",
         116857.484375,
         true,
         "Stable"
        ],
        [
         "Marketing Specialist",
         "Energy",
         "Large",
         "Tokyo",
         "Medium",
         "High",
         "Data Analysis",
         97932.6015625,
         true,
         "Growth"
        ],
        [
         "Software Engineer",
         "Transportation",
         "Small",
         "Singapore",
         "Medium",
         "Low",
         "Data Analysis",
         63722.76953125,
         false,
         "Growth"
        ],
        [
         "Marketing Specialist",
         "Energy",
         "Medium",
         "Berlin",
         "Low",
         "Low",
         "Communication",
         73964.2578125,
         true,
         "Stable"
        ],
        [
         "UX Designer",
         "Finance",
         "Medium",
         "San Francisco",
         "Low",
         "Medium",
         "Cybersecurity",
         41396.15625,
         false,
         "Decline"
        ],
        [
         "UX Designer",
         "Education",
         "Medium",
         "Sydney",
         "Low",
         "Medium",
         "Data Analysis",
         109578.4765625,
         true,
         "Growth"
        ],
        [
         "HR Manager",
         "Technology",
         "Medium",
         "Berlin",
         "Medium",
         "High",
         "Marketing",
         69869.734375,
         true,
         "Growth"
        ],
        [
         "UX Designer",
         "Transportation",
         "Medium",
         "Sydney",
         "High",
         "High",
         "Project Management",
         89425.828125,
         false,
         "Decline"
        ],
        [
         "Data Scientist",
         "Technology",
         "Small",
         "London",
         "Medium",
         "High",
         "Cybersecurity",
         86925.25,
         false,
         "Decline"
        ],
        [
         "AI Researcher",
         "Entertainment",
         "Small",
         "Sydney",
         "High",
         "Medium",
         "Marketing",
         119754.5390625,
         false,
         "Stable"
        ],
        [
         "Sales Manager",
         "Technology",
         "Small",
         "San Francisco",
         "Medium",
         "Low",
         "Cybersecurity",
         91705.625,
         false,
         "Stable"
        ],
        [
         "Marketing Specialist",
         "Technology",
         "Small",
         "San Francisco",
         "Medium",
         "Low",
         "Marketing",
         106177.859375,
         false,
         "Stable"
        ],
        [
         "AI Researcher",
         "Transportation",
         "Medium",
         "Singapore",
         "Low",
         "High",
         "Sales",
         100929.2734375,
         true,
         "Decline"
        ],
        [
         "Cybersecurity Analyst",
         "Healthcare",
         "Large",
         "Toronto",
         "High",
         "High",
         "Marketing",
         117188.2265625,
         true,
         "Growth"
        ],
        [
         "Software Engineer",
         "Manufacturing",
         "Small",
         "London",
         "Medium",
         "High",
         "Machine Learning",
         85217.5234375,
         true,
         "Growth"
        ],
        [
         "Data Scientist",
         "Energy",
         "Large",
         "New York",
         "Medium",
         "High",
         "Marketing",
         127392.3046875,
         false,
         "Stable"
        ],
        [
         "Marketing Specialist",
         "Energy",
         "Small",
         "Dubai",
         "Low",
         "Medium",
         "Python",
         50286.7578125,
         false,
         "Decline"
        ],
        [
         "AI Researcher",
         "Finance",
         "Small",
         "Sydney",
         "Low",
         "Low",
         "Python",
         107149.46875,
         false,
         "Growth"
        ],
        [
         "Software Engineer",
         "Transportation",
         "Large",
         "Toronto",
         "High",
         "High",
         "UX/UI Design",
         72667.609375,
         false,
         "Stable"
        ],
        [
         "HR Manager",
         "Finance",
         "Medium",
         "Singapore",
         "Medium",
         "Medium",
         "Machine Learning",
         80145.0078125,
         false,
         "Growth"
        ],
        [
         "Data Scientist",
         "Education",
         "Small",
         "Tokyo",
         "High",
         "High",
         "Machine Learning",
         101388.2890625,
         false,
         "Growth"
        ],
        [
         "Data Scientist",
         "Education",
         "Small",
         "New York",
         "Medium",
         "High",
         "Project Management",
         101228.0390625,
         true,
         "Decline"
        ],
        [
         "HR Manager",
         "Finance",
         "Small",
         "Paris",
         "High",
         "Low",
         "Machine Learning",
         102128.5625,
         true,
         "Decline"
        ],
        [
         "Sales Manager",
         "Transportation",
         "Large",
         "Toronto",
         "Low",
         "High",
         "Project Management",
         62276.83984375,
         true,
         "Growth"
        ],
        [
         "HR Manager",
         "Finance",
         "Medium",
         "Tokyo",
         "Medium",
         "Low",
         "UX/UI Design",
         118980.6015625,
         true,
         "Stable"
        ],
        [
         "Data Scientist",
         "Energy",
         "Large",
         "London",
         "High",
         "Low",
         "UX/UI Design",
         71987.0546875,
         true,
         "Decline"
        ],
        [
         "Data Scientist",
         "Telecommunications",
         "Large",
         "Singapore",
         "Low",
         "Low",
         "Sales",
         74654.2578125,
         false,
         "Growth"
        ],
        [
         "AI Researcher",
         "Retail",
         "Medium",
         "New York",
         "Low",
         "Medium",
         "Python",
         102757.9375,
         false,
         "Decline"
        ],
        [
         "UX Designer",
         "Technology",
         "Large",
         "New York",
         "High",
         "Medium",
         "Marketing",
         84265.578125,
         false,
         "Decline"
        ],
        [
         "Software Engineer",
         "Retail",
         "Medium",
         "New York",
         "Medium",
         "Low",
         "Marketing",
         96165.21875,
         false,
         "Decline"
        ],
        [
         "HR Manager",
         "Transportation",
         "Small",
         "London",
         "Medium",
         "High",
         "Communication",
         46867.984375,
         false,
         "Growth"
        ],
        [
         "Software Engineer",
         "Retail",
         "Medium",
         "Sydney",
         "Low",
         "Low",
         "Communication",
         95686.4921875,
         false,
         "Stable"
        ],
        [
         "HR Manager",
         "Education",
         "Small",
         "Paris",
         "Medium",
         "High",
         "JavaScript",
         94356.640625,
         true,
         "Stable"
        ],
        [
         "Cybersecurity Analyst",
         "Entertainment",
         "Large",
         "London",
         "Medium",
         "Low",
         "Cybersecurity",
         79802.828125,
         false,
         "Stable"
        ],
        [
         "Data Scientist",
         "Technology",
         "Large",
         "Dubai",
         "Medium",
         "High",
         "Sales",
         48518.48046875,
         false,
         "Decline"
        ],
        [
         "UX Designer",
         "Manufacturing",
         "Small",
         "Paris",
         "Low",
         "Medium",
         "JavaScript",
         85743.8359375,
         false,
         "Growth"
        ],
        [
         "AI Researcher",
         "Transportation",
         "Large",
         "San Francisco",
         "High",
         "High",
         "JavaScript",
         89252.5234375,
         false,
         "Decline"
        ],
        [
         "UX Designer",
         "Technology",
         "Medium",
         "Singapore",
         "Medium",
         "Low",
         "Data Analysis",
         82655.421875,
         true,
         "Stable"
        ],
        [
         "UX Designer",
         "Retail",
         "Small",
         "London",
         "Low",
         "Medium",
         "Data Analysis",
         53276.51171875,
         true,
         "Stable"
        ],
        [
         "UX Designer",
         "Education",
         "Large",
         "Tokyo",
         "Low",
         "High",
         "JavaScript",
         121894.6796875,
         false,
         "Growth"
        ],
        [
         "Software Engineer",
         "Healthcare",
         "Small",
         "Paris",
         "High",
         "High",
         "Machine Learning",
         77222.765625,
         true,
         "Decline"
        ],
        [
         "HR Manager",
         "Telecommunications",
         "Medium",
         "Dubai",
         "Medium",
         "High",
         "Cybersecurity",
         85555.90625,
         true,
         "Stable"
        ],
        [
         "Operations Manager",
         "Manufacturing",
         "Medium",
         "San Francisco",
         "Medium",
         "High",
         "Sales",
         41810.51171875,
         false,
         "Growth"
        ],
        [
         "Cybersecurity Analyst",
         "Telecommunications",
         "Large",
         "Sydney",
         "High",
         "High",
         "JavaScript",
         121897.109375,
         false,
         "Decline"
        ],
        [
         "Marketing Specialist",
         "Technology",
         "Medium",
         "Tokyo",
         "High",
         "Medium",
         "Marketing",
         80669,
         false,
         "Decline"
        ],
        [
         "UX Designer",
         "Education",
         "Small",
         "Paris",
         "Low",
         "Medium",
         "Cybersecurity",
         91969.2578125,
         false,
         "Stable"
        ],
        [
         "Sales Manager",
         "Education",
         "Medium",
         "Singapore",
         "Low",
         "Medium",
         "Data Analysis",
         112414.75,
         false,
         "Stable"
        ],
        [
         "Software Engineer",
         "Retail",
         "Small",
         "Tokyo",
         "High",
         "Medium",
         "Marketing",
         76473.9140625,
         true,
         "Decline"
        ],
        [
         "AI Researcher",
         "Energy",
         "Small",
         "San Francisco",
         "Medium",
         "Low",
         "Data Analysis",
         109264.8984375,
         false,
         "Decline"
        ],
        [
         "Marketing Specialist",
         "Retail",
         "Medium",
         "Tokyo",
         "Low",
         "Medium",
         "Data Analysis",
         48773.4921875,
         false,
         "Stable"
        ],
        [
         "Operations Manager",
         "Energy",
         "Large",
         "Berlin",
         "Low",
         "High",
         "Cybersecurity",
         101019.734375,
         false,
         "Decline"
        ],
        [
         "Sales Manager",
         "Energy",
         "Medium",
         "Toronto",
         "Medium",
         "High",
         "Data Analysis",
         121444.84375,
         true,
         "Stable"
        ],
        [
         "Operations Manager",
         "Manufacturing",
         "Small",
         "Sydney",
         "Low",
         "Medium",
         "UX/UI Design",
         78391.6640625,
         false,
         "Decline"
        ],
        [
         "Marketing Specialist",
         "Retail",
         "Small",
         "San Francisco",
         "Medium",
         "High",
         "Python",
         112377.6328125,
         false,
         "Stable"
        ],
        [
         "UX Designer",
         "Healthcare",
         "Medium",
         "Tokyo",
         "Medium",
         "Medium",
         "UX/UI Design",
         126678.453125,
         false,
         "Growth"
        ],
        [
         "Sales Manager",
         "Finance",
         "Large",
         "Toronto",
         "Medium",
         "High",
         "Python",
         84903.1640625,
         true,
         "Stable"
        ],
        [
         "Operations Manager",
         "Finance",
         "Large",
         "Toronto",
         "High",
         "Low",
         "Communication",
         83249.4375,
         false,
         "Stable"
        ],
        [
         "AI Researcher",
         "Retail",
         "Small",
         "Tokyo",
         "High",
         "Low",
         "Communication",
         72034.125,
         false,
         "Growth"
        ],
        [
         "HR Manager",
         "Retail",
         "Small",
         "Singapore",
         "High",
         "Medium",
         "Data Analysis",
         79805.3984375,
         false,
         "Decline"
        ],
        [
         "Data Scientist",
         "Telecommunications",
         "Large",
         "Berlin",
         "Medium",
         "Medium",
         "Sales",
         73692.8046875,
         true,
         "Growth"
        ],
        [
         "HR Manager",
         "Manufacturing",
         "Medium",
         "London",
         "Medium",
         "Medium",
         "Sales",
         72017.78125,
         false,
         "Stable"
        ],
        [
         "Marketing Specialist",
         "Retail",
         "Small",
         "Berlin",
         "High",
         "High",
         "Python",
         113976.703125,
         false,
         "Decline"
        ],
        [
         "Software Engineer",
         "Telecommunications",
         "Small",
         "Tokyo",
         "Low",
         "Medium",
         "Marketing",
         74201.4765625,
         false,
         "Growth"
        ],
        [
         "Data Scientist",
         "Energy",
         "Large",
         "Sydney",
         "Medium",
         "Low",
         "Cybersecurity",
         95170.4375,
         true,
         "Decline"
        ],
        [
         "Cybersecurity Analyst",
         "Education",
         "Medium",
         "London",
         "Low",
         "High",
         "Data Analysis",
         90764.671875,
         false,
         "Decline"
        ],
        [
         "AI Researcher",
         "Education",
         "Large",
         "San Francisco",
         "Low",
         "Medium",
         "Cybersecurity",
         119961.890625,
         false,
         "Growth"
        ],
        [
         "Cybersecurity Analyst",
         "Energy",
         "Medium",
         "Berlin",
         "Medium",
         "High",
         "UX/UI Design",
         79936.875,
         false,
         "Decline"
        ],
        [
         "Sales Manager",
         "Transportation",
         "Medium",
         "Tokyo",
         "Medium",
         "High",
         "Sales",
         97622.9609375,
         true,
         "Growth"
        ],
        [
         "Data Scientist",
         "Telecommunications",
         "Medium",
         "Berlin",
         "Low",
         "Medium",
         "Machine Learning",
         105821.390625,
         true,
         "Stable"
        ],
        [
         "Cybersecurity Analyst",
         "Telecommunications",
         "Small",
         "London",
         "Low",
         "High",
         "UX/UI Design",
         119794.9921875,
         false,
         "Decline"
        ],
        [
         "Cybersecurity Analyst",
         "Energy",
         "Large",
         "Dubai",
         "High",
         "Low",
         "UX/UI Design",
         79644.9296875,
         true,
         "Stable"
        ],
        [
         "Operations Manager",
         "Healthcare",
         "Large",
         "Paris",
         "High",
         "Low",
         "Python",
         77642.1484375,
         true,
         "Stable"
        ],
        [
         "HR Manager",
         "Entertainment",
         "Medium",
         "Berlin",
         "Medium",
         "High",
         "Project Management",
         68764.3828125,
         true,
         "Decline"
        ]
       ],
       "datasetInfos": [],
       "dbfsResultPath": null,
       "isJsonSchema": true,
       "metadata": {},
       "overflow": false,
       "plotOptions": {
        "customPlotOptions": {},
        "displayType": "table",
        "pivotAggregation": null,
        "pivotColumns": null,
        "xColumns": null,
        "yColumns": null
       },
       "removedWidgets": [],
       "schema": [
        {
         "metadata": "{}",
         "name": "Job_Title",
         "type": "\"string\""
        },
        {
         "metadata": "{}",
         "name": "Industry",
         "type": "\"string\""
        },
        {
         "metadata": "{}",
         "name": "Company_Size",
         "type": "\"string\""
        },
        {
         "metadata": "{}",
         "name": "Location",
         "type": "\"string\""
        },
        {
         "metadata": "{}",
         "name": "AI_Adoption_Level",
         "type": "\"string\""
        },
        {
         "metadata": "{}",
         "name": "Automation_Risk",
         "type": "\"string\""
        },
        {
         "metadata": "{}",
         "name": "Required_Skills",
         "type": "\"string\""
        },
        {
         "metadata": "{}",
         "name": "Salary_USD",
         "type": "\"double\""
        },
        {
         "metadata": "{}",
         "name": "Remote_Friendly",
         "type": "\"boolean\""
        },
        {
         "metadata": "{}",
         "name": "Job_Growth_Projection",
         "type": "\"string\""
        }
       ],
       "type": "table"
      }
     },
     "output_type": "display_data"
    }
   ],
   "source": [
    "# View content\n",
    "display(df)"
   ]
  },
  {
   "cell_type": "code",
   "execution_count": 0,
   "metadata": {
    "application/vnd.databricks.v1+cell": {
     "cellMetadata": {
      "byteLimit": 2048000,
      "rowLimit": 10000
     },
     "inputWidgets": {},
     "nuid": "21c738fa-0a99-48c0-bee0-98ba8fd23d32",
     "showTitle": false,
     "title": ""
    }
   },
   "outputs": [],
   "source": [
    "# Create table\n",
    "df.createOrReplaceTempView(\"jobs\")"
   ]
  },
  {
   "cell_type": "code",
   "execution_count": 0,
   "metadata": {
    "application/vnd.databricks.v1+cell": {
     "cellMetadata": {
      "byteLimit": 2048000,
      "implicitDf": true,
      "rowLimit": 10000
     },
     "inputWidgets": {},
     "nuid": "b989aaf9-ed14-4807-bd27-9ca82eadd20c",
     "showTitle": false,
     "title": ""
    }
   },
   "outputs": [
    {
     "data": {
      "text/html": [
       "<style scoped>\n",
       "  .table-result-container {\n",
       "    max-height: 300px;\n",
       "    overflow: auto;\n",
       "  }\n",
       "  table, th, td {\n",
       "    border: 1px solid black;\n",
       "    border-collapse: collapse;\n",
       "  }\n",
       "  th, td {\n",
       "    padding: 5px;\n",
       "  }\n",
       "  th {\n",
       "    text-align: left;\n",
       "  }\n",
       "</style><div class='table-result-container'><table class='table-result'><thead style='background-color: white'><tr><th>Job_Title</th><th>Industry</th><th>Company_Size</th><th>Location</th><th>AI_Adoption_Level</th><th>Automation_Risk</th><th>Required_Skills</th><th>Salary_USD</th><th>Remote_Friendly</th><th>Job_Growth_Projection</th></tr></thead><tbody><tr><td>Cybersecurity Analyst</td><td>Entertainment</td><td>Small</td><td>Dubai</td><td>Medium</td><td>High</td><td>UX/UI Design</td><td>111392.1640625</td><td>true</td><td>Growth</td></tr><tr><td>Marketing Specialist</td><td>Technology</td><td>Large</td><td>Singapore</td><td>Medium</td><td>High</td><td>Marketing</td><td>93792.5625</td><td>false</td><td>Decline</td></tr><tr><td>AI Researcher</td><td>Technology</td><td>Large</td><td>Singapore</td><td>Medium</td><td>High</td><td>UX/UI Design</td><td>107170.265625</td><td>true</td><td>Growth</td></tr><tr><td>Sales Manager</td><td>Retail</td><td>Small</td><td>Berlin</td><td>Low</td><td>High</td><td>Project Management</td><td>93027.953125</td><td>false</td><td>Growth</td></tr><tr><td>Cybersecurity Analyst</td><td>Entertainment</td><td>Small</td><td>Tokyo</td><td>Low</td><td>Low</td><td>JavaScript</td><td>87752.921875</td><td>true</td><td>Decline</td></tr><tr><td>UX Designer</td><td>Education</td><td>Large</td><td>San Francisco</td><td>Medium</td><td>Medium</td><td>Cybersecurity</td><td>102825.0078125</td><td>false</td><td>Growth</td></tr><tr><td>HR Manager</td><td>Finance</td><td>Medium</td><td>Singapore</td><td>Low</td><td>High</td><td>Sales</td><td>102065.71875</td><td>true</td><td>Growth</td></tr><tr><td>Cybersecurity Analyst</td><td>Technology</td><td>Small</td><td>Dubai</td><td>Medium</td><td>Low</td><td>Machine Learning</td><td>86607.3203125</td><td>true</td><td>Decline</td></tr><tr><td>AI Researcher</td><td>Retail</td><td>Large</td><td>London</td><td>High</td><td>Low</td><td>JavaScript</td><td>75015.859375</td><td>false</td><td>Stable</td></tr><tr><td>Sales Manager</td><td>Entertainment</td><td>Medium</td><td>Singapore</td><td>High</td><td>Low</td><td>Cybersecurity</td><td>96834.578125</td><td>true</td><td>Decline</td></tr></tbody></table></div>"
      ]
     },
     "metadata": {
      "application/vnd.databricks.v1+output": {
       "addedWidgets": {},
       "aggData": [],
       "aggError": "",
       "aggOverflow": false,
       "aggSchema": [],
       "aggSeriesLimitReached": false,
       "aggType": "",
       "arguments": {},
       "columnCustomDisplayInfos": {},
       "data": [
        [
         "Cybersecurity Analyst",
         "Entertainment",
         "Small",
         "Dubai",
         "Medium",
         "High",
         "UX/UI Design",
         111392.1640625,
         true,
         "Growth"
        ],
        [
         "Marketing Specialist",
         "Technology",
         "Large",
         "Singapore",
         "Medium",
         "High",
         "Marketing",
         93792.5625,
         false,
         "Decline"
        ],
        [
         "AI Researcher",
         "Technology",
         "Large",
         "Singapore",
         "Medium",
         "High",
         "UX/UI Design",
         107170.265625,
         true,
         "Growth"
        ],
        [
         "Sales Manager",
         "Retail",
         "Small",
         "Berlin",
         "Low",
         "High",
         "Project Management",
         93027.953125,
         false,
         "Growth"
        ],
        [
         "Cybersecurity Analyst",
         "Entertainment",
         "Small",
         "Tokyo",
         "Low",
         "Low",
         "JavaScript",
         87752.921875,
         true,
         "Decline"
        ],
        [
         "UX Designer",
         "Education",
         "Large",
         "San Francisco",
         "Medium",
         "Medium",
         "Cybersecurity",
         102825.0078125,
         false,
         "Growth"
        ],
        [
         "HR Manager",
         "Finance",
         "Medium",
         "Singapore",
         "Low",
         "High",
         "Sales",
         102065.71875,
         true,
         "Growth"
        ],
        [
         "Cybersecurity Analyst",
         "Technology",
         "Small",
         "Dubai",
         "Medium",
         "Low",
         "Machine Learning",
         86607.3203125,
         true,
         "Decline"
        ],
        [
         "AI Researcher",
         "Retail",
         "Large",
         "London",
         "High",
         "Low",
         "JavaScript",
         75015.859375,
         false,
         "Stable"
        ],
        [
         "Sales Manager",
         "Entertainment",
         "Medium",
         "Singapore",
         "High",
         "Low",
         "Cybersecurity",
         96834.578125,
         true,
         "Decline"
        ]
       ],
       "datasetInfos": [],
       "dbfsResultPath": null,
       "isJsonSchema": true,
       "metadata": {},
       "overflow": false,
       "plotOptions": {
        "customPlotOptions": {},
        "displayType": "table",
        "pivotAggregation": null,
        "pivotColumns": null,
        "xColumns": null,
        "yColumns": null
       },
       "removedWidgets": [],
       "schema": [
        {
         "metadata": "{}",
         "name": "Job_Title",
         "type": "\"string\""
        },
        {
         "metadata": "{}",
         "name": "Industry",
         "type": "\"string\""
        },
        {
         "metadata": "{}",
         "name": "Company_Size",
         "type": "\"string\""
        },
        {
         "metadata": "{}",
         "name": "Location",
         "type": "\"string\""
        },
        {
         "metadata": "{}",
         "name": "AI_Adoption_Level",
         "type": "\"string\""
        },
        {
         "metadata": "{}",
         "name": "Automation_Risk",
         "type": "\"string\""
        },
        {
         "metadata": "{}",
         "name": "Required_Skills",
         "type": "\"string\""
        },
        {
         "metadata": "{}",
         "name": "Salary_USD",
         "type": "\"double\""
        },
        {
         "metadata": "{}",
         "name": "Remote_Friendly",
         "type": "\"boolean\""
        },
        {
         "metadata": "{}",
         "name": "Job_Growth_Projection",
         "type": "\"string\""
        }
       ],
       "type": "table"
      }
     },
     "output_type": "display_data"
    }
   ],
   "source": [
    "%sql\n",
    "SELECT *\n",
    "FROM jobs\n",
    "LIMIT 10;"
   ]
  },
  {
   "cell_type": "markdown",
   "metadata": {
    "application/vnd.databricks.v1+cell": {
     "cellMetadata": {},
     "inputWidgets": {},
     "nuid": "1967c919-197f-4fce-80b6-b33724e31b94",
     "showTitle": false,
     "title": ""
    }
   },
   "source": [
    "# Transformations"
   ]
  },
  {
   "cell_type": "markdown",
   "metadata": {
    "application/vnd.databricks.v1+cell": {
     "cellMetadata": {},
     "inputWidgets": {},
     "nuid": "abe6f369-0de4-4e42-ab4f-1a36e14513b8",
     "showTitle": false,
     "title": ""
    }
   },
   "source": [
    "## 1. Average Salary by Industry."
   ]
  },
  {
   "cell_type": "code",
   "execution_count": 0,
   "metadata": {
    "application/vnd.databricks.v1+cell": {
     "cellMetadata": {
      "byteLimit": 2048000,
      "implicitDf": true,
      "rowLimit": 10000
     },
     "inputWidgets": {},
     "nuid": "c828b4c1-05c4-4e4c-a382-0742a9b7c2a7",
     "showTitle": false,
     "title": ""
    }
   },
   "outputs": [
    {
     "data": {
      "text/html": [
       "<style scoped>\n",
       "  .table-result-container {\n",
       "    max-height: 300px;\n",
       "    overflow: auto;\n",
       "  }\n",
       "  table, th, td {\n",
       "    border: 1px solid black;\n",
       "    border-collapse: collapse;\n",
       "  }\n",
       "  th, td {\n",
       "    padding: 5px;\n",
       "  }\n",
       "  th {\n",
       "    text-align: left;\n",
       "  }\n",
       "</style><div class='table-result-container'><table class='table-result'><thead style='background-color: white'><tr><th>Industry</th><th>Average_Industry_Salary</th></tr></thead><tbody><tr><td>Finance</td><td>94355.46572818396</td></tr><tr><td>Entertainment</td><td>94291.23362699468</td></tr><tr><td>Education</td><td>93798.52186129386</td></tr><tr><td>Energy</td><td>92763.93949298469</td></tr><tr><td>Healthcare</td><td>91688.50409226191</td></tr><tr><td>Retail</td><td>91232.89733355978</td></tr><tr><td>Technology</td><td>91204.01157924107</td></tr><tr><td>Telecommunications</td><td>90418.30439268867</td></tr><tr><td>Manufacturing</td><td>86590.0035695043</td></tr><tr><td>Transportation</td><td>85058.29712540064</td></tr></tbody></table></div>"
      ]
     },
     "metadata": {
      "application/vnd.databricks.v1+output": {
       "addedWidgets": {},
       "aggData": [],
       "aggError": "",
       "aggOverflow": false,
       "aggSchema": [],
       "aggSeriesLimitReached": false,
       "aggType": "",
       "arguments": {},
       "columnCustomDisplayInfos": {},
       "data": [
        [
         "Finance",
         94355.46572818396
        ],
        [
         "Entertainment",
         94291.23362699468
        ],
        [
         "Education",
         93798.52186129386
        ],
        [
         "Energy",
         92763.93949298469
        ],
        [
         "Healthcare",
         91688.50409226191
        ],
        [
         "Retail",
         91232.89733355978
        ],
        [
         "Technology",
         91204.01157924107
        ],
        [
         "Telecommunications",
         90418.30439268867
        ],
        [
         "Manufacturing",
         86590.0035695043
        ],
        [
         "Transportation",
         85058.29712540064
        ]
       ],
       "datasetInfos": [],
       "dbfsResultPath": null,
       "isJsonSchema": true,
       "metadata": {},
       "overflow": false,
       "plotOptions": {
        "customPlotOptions": {},
        "displayType": "table",
        "pivotAggregation": null,
        "pivotColumns": null,
        "xColumns": null,
        "yColumns": null
       },
       "removedWidgets": [],
       "schema": [
        {
         "metadata": "{}",
         "name": "Industry",
         "type": "\"string\""
        },
        {
         "metadata": "{}",
         "name": "Average_Industry_Salary",
         "type": "\"double\""
        }
       ],
       "type": "table"
      }
     },
     "output_type": "display_data"
    }
   ],
   "source": [
    "%sql\n",
    "SELECT \n",
    "  Industry,\n",
    "  AVG(Salary_USD) AS Average_Industry_Salary\n",
    "FROM jobs\n",
    "GROUP BY Industry\n",
    "ORDER BY Average_Industry_Salary DESC;"
   ]
  },
  {
   "cell_type": "markdown",
   "metadata": {
    "application/vnd.databricks.v1+cell": {
     "cellMetadata": {},
     "inputWidgets": {},
     "nuid": "c4b4c8cc-fe70-4ea7-9033-99d7a001f4cb",
     "showTitle": false,
     "title": ""
    }
   },
   "source": [
    "## 2. AI Adoption Rate per Industry."
   ]
  },
  {
   "cell_type": "code",
   "execution_count": 0,
   "metadata": {
    "application/vnd.databricks.v1+cell": {
     "cellMetadata": {
      "byteLimit": 2048000,
      "implicitDf": true,
      "rowLimit": 10000
     },
     "inputWidgets": {},
     "nuid": "cf2cd91d-c61a-417f-8086-f974823af0d7",
     "showTitle": false,
     "title": ""
    }
   },
   "outputs": [
    {
     "data": {
      "text/html": [
       "<style scoped>\n",
       "  .table-result-container {\n",
       "    max-height: 300px;\n",
       "    overflow: auto;\n",
       "  }\n",
       "  table, th, td {\n",
       "    border: 1px solid black;\n",
       "    border-collapse: collapse;\n",
       "  }\n",
       "  th, td {\n",
       "    padding: 5px;\n",
       "  }\n",
       "  th {\n",
       "    text-align: left;\n",
       "  }\n",
       "</style><div class='table-result-container'><table class='table-result'><thead style='background-color: white'><tr><th>Industry</th><th>High_AI_Adoption_Rate</th></tr></thead><tbody><tr><td>Healthcare</td><td>0.40476190476190477</td></tr><tr><td>Transportation</td><td>0.3076923076923077</td></tr><tr><td>Energy</td><td>0.30612244897959184</td></tr><tr><td>Retail</td><td>0.30434782608695654</td></tr><tr><td>Manufacturing</td><td>0.29310344827586204</td></tr><tr><td>Finance</td><td>0.2830188679245283</td></tr><tr><td>Telecommunications</td><td>0.2830188679245283</td></tr><tr><td>Education</td><td>0.2807017543859649</td></tr><tr><td>Entertainment</td><td>0.2765957446808511</td></tr><tr><td>Technology</td><td>0.23214285714285715</td></tr></tbody></table></div>"
      ]
     },
     "metadata": {
      "application/vnd.databricks.v1+output": {
       "addedWidgets": {},
       "aggData": [],
       "aggError": "",
       "aggOverflow": false,
       "aggSchema": [],
       "aggSeriesLimitReached": false,
       "aggType": "",
       "arguments": {},
       "columnCustomDisplayInfos": {},
       "data": [
        [
         "Healthcare",
         0.40476190476190477
        ],
        [
         "Transportation",
         0.3076923076923077
        ],
        [
         "Energy",
         0.30612244897959184
        ],
        [
         "Retail",
         0.30434782608695654
        ],
        [
         "Manufacturing",
         0.29310344827586204
        ],
        [
         "Finance",
         0.2830188679245283
        ],
        [
         "Telecommunications",
         0.2830188679245283
        ],
        [
         "Education",
         0.2807017543859649
        ],
        [
         "Entertainment",
         0.2765957446808511
        ],
        [
         "Technology",
         0.23214285714285715
        ]
       ],
       "datasetInfos": [],
       "dbfsResultPath": null,
       "isJsonSchema": true,
       "metadata": {},
       "overflow": false,
       "plotOptions": {
        "customPlotOptions": {},
        "displayType": "table",
        "pivotAggregation": null,
        "pivotColumns": null,
        "xColumns": null,
        "yColumns": null
       },
       "removedWidgets": [],
       "schema": [
        {
         "metadata": "{}",
         "name": "Industry",
         "type": "\"string\""
        },
        {
         "metadata": "{}",
         "name": "High_AI_Adoption_Rate",
         "type": "\"double\""
        }
       ],
       "type": "table"
      }
     },
     "output_type": "display_data"
    }
   ],
   "source": [
    "%sql\n",
    "SELECT Industry,\n",
    "       AVG(CASE WHEN AI_Adoption_Level = 'High' THEN 1 ELSE 0 END) as High_AI_Adoption_Rate\n",
    "FROM jobs\n",
    "GROUP BY Industry\n",
    "ORDER BY High_AI_Adoption_Rate DESC;"
   ]
  },
  {
   "cell_type": "markdown",
   "metadata": {
    "application/vnd.databricks.v1+cell": {
     "cellMetadata": {},
     "inputWidgets": {},
     "nuid": "b0719082-7759-493e-8352-ab8200c8220b",
     "showTitle": false,
     "title": ""
    }
   },
   "source": [
    "## 3. Automation Risk Distribution."
   ]
  },
  {
   "cell_type": "code",
   "execution_count": 0,
   "metadata": {
    "application/vnd.databricks.v1+cell": {
     "cellMetadata": {
      "byteLimit": 2048000,
      "implicitDf": true,
      "rowLimit": 10000
     },
     "inputWidgets": {},
     "nuid": "128d3efd-7518-4da8-b181-5d806b82a0e8",
     "showTitle": false,
     "title": ""
    }
   },
   "outputs": [
    {
     "data": {
      "text/html": [
       "<style scoped>\n",
       "  .table-result-container {\n",
       "    max-height: 300px;\n",
       "    overflow: auto;\n",
       "  }\n",
       "  table, th, td {\n",
       "    border: 1px solid black;\n",
       "    border-collapse: collapse;\n",
       "  }\n",
       "  th, td {\n",
       "    padding: 5px;\n",
       "  }\n",
       "  th {\n",
       "    text-align: left;\n",
       "  }\n",
       "</style><div class='table-result-container'><table class='table-result'><thead style='background-color: white'><tr><th>Automation_Risk</th><th>Job_Count</th></tr></thead><tbody><tr><td>Medium</td><td>173</td></tr><tr><td>High</td><td>169</td></tr><tr><td>Low</td><td>158</td></tr></tbody></table></div>"
      ]
     },
     "metadata": {
      "application/vnd.databricks.v1+output": {
       "addedWidgets": {},
       "aggData": [],
       "aggError": "",
       "aggOverflow": false,
       "aggSchema": [],
       "aggSeriesLimitReached": false,
       "aggType": "",
       "arguments": {},
       "columnCustomDisplayInfos": {},
       "data": [
        [
         "Medium",
         173
        ],
        [
         "High",
         169
        ],
        [
         "Low",
         158
        ]
       ],
       "datasetInfos": [],
       "dbfsResultPath": null,
       "isJsonSchema": true,
       "metadata": {},
       "overflow": false,
       "plotOptions": {
        "customPlotOptions": {},
        "displayType": "table",
        "pivotAggregation": null,
        "pivotColumns": null,
        "xColumns": null,
        "yColumns": null
       },
       "removedWidgets": [],
       "schema": [
        {
         "metadata": "{}",
         "name": "Automation_Risk",
         "type": "\"string\""
        },
        {
         "metadata": "{}",
         "name": "Job_Count",
         "type": "\"long\""
        }
       ],
       "type": "table"
      }
     },
     "output_type": "display_data"
    }
   ],
   "source": [
    "%sql\n",
    "SELECT Automation_Risk, COUNT(*) as Job_Count\n",
    "FROM jobs\n",
    "GROUP BY Automation_Risk\n",
    "ORDER BY Job_Count DESC;"
   ]
  },
  {
   "cell_type": "markdown",
   "metadata": {
    "application/vnd.databricks.v1+cell": {
     "cellMetadata": {},
     "inputWidgets": {},
     "nuid": "ad21ac98-28eb-4865-b0ec-7aa5a04007f7",
     "showTitle": false,
     "title": ""
    }
   },
   "source": [
    "## 4. Remote Work Prevalence."
   ]
  },
  {
   "cell_type": "code",
   "execution_count": 0,
   "metadata": {
    "application/vnd.databricks.v1+cell": {
     "cellMetadata": {
      "byteLimit": 2048000,
      "implicitDf": true,
      "rowLimit": 10000
     },
     "inputWidgets": {},
     "nuid": "41b95147-70d4-4241-9592-0883af20a2d8",
     "showTitle": false,
     "title": ""
    }
   },
   "outputs": [
    {
     "data": {
      "text/html": [
       "<style scoped>\n",
       "  .table-result-container {\n",
       "    max-height: 300px;\n",
       "    overflow: auto;\n",
       "  }\n",
       "  table, th, td {\n",
       "    border: 1px solid black;\n",
       "    border-collapse: collapse;\n",
       "  }\n",
       "  th, td {\n",
       "    padding: 5px;\n",
       "  }\n",
       "  th {\n",
       "    text-align: left;\n",
       "  }\n",
       "</style><div class='table-result-container'><table class='table-result'><thead style='background-color: white'><tr><th>Industry</th><th>Remote_Work_Rate</th></tr></thead><tbody><tr><td>Entertainment</td><td>0.5957446808510638</td></tr><tr><td>Healthcare</td><td>0.5714285714285714</td></tr><tr><td>Energy</td><td>0.5510204081632653</td></tr><tr><td>Transportation</td><td>0.5128205128205128</td></tr><tr><td>Finance</td><td>0.5094339622641509</td></tr><tr><td>Education</td><td>0.5087719298245614</td></tr><tr><td>Telecommunications</td><td>0.49056603773584906</td></tr><tr><td>Technology</td><td>0.44642857142857145</td></tr><tr><td>Retail</td><td>0.43478260869565216</td></tr><tr><td>Manufacturing</td><td>0.43103448275862066</td></tr></tbody></table></div>"
      ]
     },
     "metadata": {
      "application/vnd.databricks.v1+output": {
       "addedWidgets": {},
       "aggData": [],
       "aggError": "",
       "aggOverflow": false,
       "aggSchema": [],
       "aggSeriesLimitReached": false,
       "aggType": "",
       "arguments": {},
       "columnCustomDisplayInfos": {},
       "data": [
        [
         "Entertainment",
         0.5957446808510638
        ],
        [
         "Healthcare",
         0.5714285714285714
        ],
        [
         "Energy",
         0.5510204081632653
        ],
        [
         "Transportation",
         0.5128205128205128
        ],
        [
         "Finance",
         0.5094339622641509
        ],
        [
         "Education",
         0.5087719298245614
        ],
        [
         "Telecommunications",
         0.49056603773584906
        ],
        [
         "Technology",
         0.44642857142857145
        ],
        [
         "Retail",
         0.43478260869565216
        ],
        [
         "Manufacturing",
         0.43103448275862066
        ]
       ],
       "datasetInfos": [],
       "dbfsResultPath": null,
       "isJsonSchema": true,
       "metadata": {},
       "overflow": false,
       "plotOptions": {
        "customPlotOptions": {},
        "displayType": "table",
        "pivotAggregation": null,
        "pivotColumns": null,
        "xColumns": null,
        "yColumns": null
       },
       "removedWidgets": [],
       "schema": [
        {
         "metadata": "{}",
         "name": "Industry",
         "type": "\"string\""
        },
        {
         "metadata": "{}",
         "name": "Remote_Work_Rate",
         "type": "\"double\""
        }
       ],
       "type": "table"
      }
     },
     "output_type": "display_data"
    }
   ],
   "source": [
    "%sql\n",
    "SELECT Industry,\n",
    "       SUM(CASE WHEN Remote_friendly = TRUE THEN 1 ELSE 0 END)::FLOAT / COUNT(*) as Remote_Work_Rate\n",
    "FROM jobs\n",
    "GROUP BY Industry\n",
    "ORDER BY Remote_Work_Rate DESC;"
   ]
  },
  {
   "cell_type": "markdown",
   "metadata": {
    "application/vnd.databricks.v1+cell": {
     "cellMetadata": {},
     "inputWidgets": {},
     "nuid": "bbf65d5c-6363-417c-9d20-cc6fec3be6bd",
     "showTitle": false,
     "title": ""
    }
   },
   "source": [
    "## 5. Job Growth Projection by Industry."
   ]
  },
  {
   "cell_type": "code",
   "execution_count": 0,
   "metadata": {
    "application/vnd.databricks.v1+cell": {
     "cellMetadata": {
      "byteLimit": 2048000,
      "implicitDf": true,
      "rowLimit": 10000
     },
     "inputWidgets": {},
     "nuid": "7b15e772-a66d-4220-8a27-9b06a496de7e",
     "showTitle": false,
     "title": ""
    }
   },
   "outputs": [
    {
     "data": {
      "text/html": [
       "<style scoped>\n",
       "  .table-result-container {\n",
       "    max-height: 300px;\n",
       "    overflow: auto;\n",
       "  }\n",
       "  table, th, td {\n",
       "    border: 1px solid black;\n",
       "    border-collapse: collapse;\n",
       "  }\n",
       "  th, td {\n",
       "    padding: 5px;\n",
       "  }\n",
       "  th {\n",
       "    text-align: left;\n",
       "  }\n",
       "</style><div class='table-result-container'><table class='table-result'><thead style='background-color: white'><tr><th>Industry</th><th>Job_Growth_Projection</th></tr></thead><tbody><tr><td>Healthcare</td><td>Stable</td></tr><tr><td>Telecommunications</td><td>Stable</td></tr><tr><td>Manufacturing</td><td>Stable</td></tr><tr><td>Entertainment</td><td>Stable</td></tr><tr><td>Transportation</td><td>Stable</td></tr><tr><td>Finance</td><td>Stable</td></tr><tr><td>Retail</td><td>Stable</td></tr><tr><td>Education</td><td>Stable</td></tr><tr><td>Technology</td><td>Stable</td></tr><tr><td>Energy</td><td>Stable</td></tr><tr><td>Telecommunications</td><td>Growth</td></tr><tr><td>Finance</td><td>Growth</td></tr><tr><td>Retail</td><td>Growth</td></tr><tr><td>Manufacturing</td><td>Growth</td></tr><tr><td>Technology</td><td>Growth</td></tr><tr><td>Education</td><td>Growth</td></tr><tr><td>Healthcare</td><td>Growth</td></tr><tr><td>Energy</td><td>Growth</td></tr><tr><td>Transportation</td><td>Growth</td></tr><tr><td>Entertainment</td><td>Growth</td></tr><tr><td>Retail</td><td>Decline</td></tr><tr><td>Technology</td><td>Decline</td></tr><tr><td>Energy</td><td>Decline</td></tr><tr><td>Entertainment</td><td>Decline</td></tr><tr><td>Finance</td><td>Decline</td></tr><tr><td>Telecommunications</td><td>Decline</td></tr><tr><td>Transportation</td><td>Decline</td></tr><tr><td>Education</td><td>Decline</td></tr><tr><td>Healthcare</td><td>Decline</td></tr><tr><td>Manufacturing</td><td>Decline</td></tr></tbody></table></div>"
      ]
     },
     "metadata": {
      "application/vnd.databricks.v1+output": {
       "addedWidgets": {},
       "aggData": [],
       "aggError": "",
       "aggOverflow": false,
       "aggSchema": [],
       "aggSeriesLimitReached": false,
       "aggType": "",
       "arguments": {},
       "columnCustomDisplayInfos": {},
       "data": [
        [
         "Healthcare",
         "Stable"
        ],
        [
         "Telecommunications",
         "Stable"
        ],
        [
         "Manufacturing",
         "Stable"
        ],
        [
         "Entertainment",
         "Stable"
        ],
        [
         "Transportation",
         "Stable"
        ],
        [
         "Finance",
         "Stable"
        ],
        [
         "Retail",
         "Stable"
        ],
        [
         "Education",
         "Stable"
        ],
        [
         "Technology",
         "Stable"
        ],
        [
         "Energy",
         "Stable"
        ],
        [
         "Telecommunications",
         "Growth"
        ],
        [
         "Finance",
         "Growth"
        ],
        [
         "Retail",
         "Growth"
        ],
        [
         "Manufacturing",
         "Growth"
        ],
        [
         "Technology",
         "Growth"
        ],
        [
         "Education",
         "Growth"
        ],
        [
         "Healthcare",
         "Growth"
        ],
        [
         "Energy",
         "Growth"
        ],
        [
         "Transportation",
         "Growth"
        ],
        [
         "Entertainment",
         "Growth"
        ],
        [
         "Retail",
         "Decline"
        ],
        [
         "Technology",
         "Decline"
        ],
        [
         "Energy",
         "Decline"
        ],
        [
         "Entertainment",
         "Decline"
        ],
        [
         "Finance",
         "Decline"
        ],
        [
         "Telecommunications",
         "Decline"
        ],
        [
         "Transportation",
         "Decline"
        ],
        [
         "Education",
         "Decline"
        ],
        [
         "Healthcare",
         "Decline"
        ],
        [
         "Manufacturing",
         "Decline"
        ]
       ],
       "datasetInfos": [],
       "dbfsResultPath": null,
       "isJsonSchema": true,
       "metadata": {},
       "overflow": false,
       "plotOptions": {
        "customPlotOptions": {},
        "displayType": "table",
        "pivotAggregation": null,
        "pivotColumns": null,
        "xColumns": null,
        "yColumns": null
       },
       "removedWidgets": [],
       "schema": [
        {
         "metadata": "{}",
         "name": "Industry",
         "type": "\"string\""
        },
        {
         "metadata": "{}",
         "name": "Job_Growth_Projection",
         "type": "\"string\""
        }
       ],
       "type": "table"
      }
     },
     "output_type": "display_data"
    }
   ],
   "source": [
    "%sql\n",
    "SELECT Industry, Job_Growth_Projection\n",
    "FROM jobs\n",
    "GROUP BY Industry, Job_Growth_Projection\n",
    "ORDER BY Job_Growth_Projection DESC;"
   ]
  },
  {
   "cell_type": "markdown",
   "metadata": {
    "application/vnd.databricks.v1+cell": {
     "cellMetadata": {},
     "inputWidgets": {},
     "nuid": "1eba1f9e-cd7b-4196-9a5a-0422c29745b8",
     "showTitle": false,
     "title": ""
    }
   },
   "source": [
    "## 6. Skills Demand."
   ]
  },
  {
   "cell_type": "code",
   "execution_count": 0,
   "metadata": {
    "application/vnd.databricks.v1+cell": {
     "cellMetadata": {
      "byteLimit": 2048000,
      "implicitDf": true,
      "rowLimit": 10000
     },
     "inputWidgets": {},
     "nuid": "89d7405e-0ac5-4169-89a9-271f9e6c7ad1",
     "showTitle": false,
     "title": ""
    }
   },
   "outputs": [
    {
     "data": {
      "text/html": [
       "<style scoped>\n",
       "  .table-result-container {\n",
       "    max-height: 300px;\n",
       "    overflow: auto;\n",
       "  }\n",
       "  table, th, td {\n",
       "    border: 1px solid black;\n",
       "    border-collapse: collapse;\n",
       "  }\n",
       "  th, td {\n",
       "    padding: 5px;\n",
       "  }\n",
       "  th {\n",
       "    text-align: left;\n",
       "  }\n",
       "</style><div class='table-result-container'><table class='table-result'><thead style='background-color: white'><tr><th>Industry</th><th>Required_Skills</th><th>Total_Count</th></tr></thead><tbody><tr><td>Education</td><td>Project Management</td><td>10</td></tr><tr><td>Technology</td><td>Marketing</td><td>10</td></tr><tr><td>Education</td><td>Cybersecurity</td><td>9</td></tr><tr><td>Retail</td><td>Cybersecurity</td><td>9</td></tr><tr><td>Education</td><td>Data Analysis</td><td>9</td></tr><tr><td>Finance</td><td>Python</td><td>9</td></tr><tr><td>Telecommunications</td><td>Project Management</td><td>9</td></tr><tr><td>Technology</td><td>Sales</td><td>9</td></tr><tr><td>Energy</td><td>UX/UI Design</td><td>9</td></tr><tr><td>Manufacturing</td><td>Marketing</td><td>8</td></tr></tbody></table></div>"
      ]
     },
     "metadata": {
      "application/vnd.databricks.v1+output": {
       "addedWidgets": {},
       "aggData": [],
       "aggError": "",
       "aggOverflow": false,
       "aggSchema": [],
       "aggSeriesLimitReached": false,
       "aggType": "",
       "arguments": {},
       "columnCustomDisplayInfos": {},
       "data": [
        [
         "Education",
         "Project Management",
         10
        ],
        [
         "Technology",
         "Marketing",
         10
        ],
        [
         "Education",
         "Cybersecurity",
         9
        ],
        [
         "Retail",
         "Cybersecurity",
         9
        ],
        [
         "Education",
         "Data Analysis",
         9
        ],
        [
         "Finance",
         "Python",
         9
        ],
        [
         "Telecommunications",
         "Project Management",
         9
        ],
        [
         "Technology",
         "Sales",
         9
        ],
        [
         "Energy",
         "UX/UI Design",
         9
        ],
        [
         "Manufacturing",
         "Marketing",
         8
        ]
       ],
       "datasetInfos": [],
       "dbfsResultPath": null,
       "isJsonSchema": true,
       "metadata": {},
       "overflow": false,
       "plotOptions": {
        "customPlotOptions": {},
        "displayType": "table",
        "pivotAggregation": null,
        "pivotColumns": null,
        "xColumns": null,
        "yColumns": null
       },
       "removedWidgets": [],
       "schema": [
        {
         "metadata": "{}",
         "name": "Industry",
         "type": "\"string\""
        },
        {
         "metadata": "{}",
         "name": "Required_Skills",
         "type": "\"string\""
        },
        {
         "metadata": "{}",
         "name": "Total_Count",
         "type": "\"long\""
        }
       ],
       "type": "table"
      }
     },
     "output_type": "display_data"
    }
   ],
   "source": [
    "%sql\n",
    "SELECT Industry, Required_Skills, COUNT(*) AS Total_Count\n",
    "FROM jobs\n",
    "GROUP BY Required_Skills, Industry\n",
    "ORDER BY Total_Count DESC\n",
    "LIMIT 10;"
   ]
  },
  {
   "cell_type": "markdown",
   "metadata": {
    "application/vnd.databricks.v1+cell": {
     "cellMetadata": {},
     "inputWidgets": {},
     "nuid": "69089967-38fd-425c-9ae9-837c263573b2",
     "showTitle": false,
     "title": ""
    }
   },
   "source": [
    "## 7. Salary Range for Different Company Sizes. "
   ]
  },
  {
   "cell_type": "code",
   "execution_count": 0,
   "metadata": {
    "application/vnd.databricks.v1+cell": {
     "cellMetadata": {
      "byteLimit": 2048000,
      "implicitDf": true,
      "rowLimit": 10000
     },
     "inputWidgets": {},
     "nuid": "6f7f246c-fe27-4849-9011-daa5cdfcc5ba",
     "showTitle": false,
     "title": ""
    }
   },
   "outputs": [
    {
     "data": {
      "text/html": [
       "<style scoped>\n",
       "  .table-result-container {\n",
       "    max-height: 300px;\n",
       "    overflow: auto;\n",
       "  }\n",
       "  table, th, td {\n",
       "    border: 1px solid black;\n",
       "    border-collapse: collapse;\n",
       "  }\n",
       "  th, td {\n",
       "    padding: 5px;\n",
       "  }\n",
       "  th {\n",
       "    text-align: left;\n",
       "  }\n",
       "</style><div class='table-result-container'><table class='table-result'><thead style='background-color: white'><tr><th>Company_Size</th><th>Min_Salary</th><th>Avg_Salary</th><th>Max_Salary</th></tr></thead><tbody><tr><td>Small</td><td>31969.525390625</td><td>92165.97428956506</td><td>140476.0</td></tr><tr><td>Medium</td><td>41396.15625</td><td>90862.77511503067</td><td>155209.828125</td></tr><tr><td>Large</td><td>33601.3828125</td><td>90603.50315323795</td><td>138448.109375</td></tr></tbody></table></div>"
      ]
     },
     "metadata": {
      "application/vnd.databricks.v1+output": {
       "addedWidgets": {},
       "aggData": [],
       "aggError": "",
       "aggOverflow": false,
       "aggSchema": [],
       "aggSeriesLimitReached": false,
       "aggType": "",
       "arguments": {},
       "columnCustomDisplayInfos": {},
       "data": [
        [
         "Small",
         31969.525390625,
         92165.97428956506,
         140476
        ],
        [
         "Medium",
         41396.15625,
         90862.77511503067,
         155209.828125
        ],
        [
         "Large",
         33601.3828125,
         90603.50315323795,
         138448.109375
        ]
       ],
       "datasetInfos": [],
       "dbfsResultPath": null,
       "isJsonSchema": true,
       "metadata": {},
       "overflow": false,
       "plotOptions": {
        "customPlotOptions": {},
        "displayType": "table",
        "pivotAggregation": null,
        "pivotColumns": null,
        "xColumns": null,
        "yColumns": null
       },
       "removedWidgets": [],
       "schema": [
        {
         "metadata": "{}",
         "name": "Company_Size",
         "type": "\"string\""
        },
        {
         "metadata": "{}",
         "name": "Min_Salary",
         "type": "\"double\""
        },
        {
         "metadata": "{}",
         "name": "Avg_Salary",
         "type": "\"double\""
        },
        {
         "metadata": "{}",
         "name": "Max_Salary",
         "type": "\"double\""
        }
       ],
       "type": "table"
      }
     },
     "output_type": "display_data"
    }
   ],
   "source": [
    "%sql\n",
    "SELECT Company_Size,\n",
    "       MIN(Salary_USD) as Min_Salary,\n",
    "       AVG(Salary_USD) as Avg_Salary,\n",
    "       MAX(Salary_USD) as Max_Salary\n",
    "FROM jobs\n",
    "GROUP BY Company_Size\n",
    "ORDER BY Avg_Salary DESC;"
   ]
  },
  {
   "cell_type": "markdown",
   "metadata": {
    "application/vnd.databricks.v1+cell": {
     "cellMetadata": {},
     "inputWidgets": {},
     "nuid": "5fac3b9f-6e1f-46f6-b563-bcacba0633a8",
     "showTitle": false,
     "title": ""
    }
   },
   "source": [
    "## 8. Location-based Salary Variations."
   ]
  },
  {
   "cell_type": "code",
   "execution_count": 0,
   "metadata": {
    "application/vnd.databricks.v1+cell": {
     "cellMetadata": {
      "byteLimit": 2048000,
      "implicitDf": true,
      "rowLimit": 10000
     },
     "inputWidgets": {},
     "nuid": "1d92b70b-7add-4309-8e8c-4eaeb9103aaa",
     "showTitle": false,
     "title": ""
    }
   },
   "outputs": [
    {
     "data": {
      "text/html": [
       "<style scoped>\n",
       "  .table-result-container {\n",
       "    max-height: 300px;\n",
       "    overflow: auto;\n",
       "  }\n",
       "  table, th, td {\n",
       "    border: 1px solid black;\n",
       "    border-collapse: collapse;\n",
       "  }\n",
       "  th, td {\n",
       "    padding: 5px;\n",
       "  }\n",
       "  th {\n",
       "    text-align: left;\n",
       "  }\n",
       "</style><div class='table-result-container'><table class='table-result'><thead style='background-color: white'><tr><th>Location</th><th>Avg_Salary</th><th>Job_Count</th></tr></thead><tbody><tr><td>New York</td><td>93780.42637914541</td><td>49</td></tr><tr><td>Singapore</td><td>93739.80700231482</td><td>54</td></tr><tr><td>Berlin</td><td>93240.36889648438</td><td>48</td></tr><tr><td>Tokyo</td><td>92896.55392156863</td><td>51</td></tr><tr><td>Paris</td><td>92116.47359035326</td><td>46</td></tr><tr><td>Sydney</td><td>91885.40993088942</td><td>52</td></tr><tr><td>San Francisco</td><td>88953.23658014114</td><td>62</td></tr><tr><td>Toronto</td><td>88839.92902057926</td><td>41</td></tr><tr><td>London</td><td>88810.67263926631</td><td>46</td></tr><tr><td>Dubai</td><td>87892.45572916667</td><td>51</td></tr></tbody></table></div>"
      ]
     },
     "metadata": {
      "application/vnd.databricks.v1+output": {
       "addedWidgets": {},
       "aggData": [],
       "aggError": "",
       "aggOverflow": false,
       "aggSchema": [],
       "aggSeriesLimitReached": false,
       "aggType": "",
       "arguments": {},
       "columnCustomDisplayInfos": {},
       "data": [
        [
         "New York",
         93780.42637914541,
         49
        ],
        [
         "Singapore",
         93739.80700231482,
         54
        ],
        [
         "Berlin",
         93240.36889648438,
         48
        ],
        [
         "Tokyo",
         92896.55392156863,
         51
        ],
        [
         "Paris",
         92116.47359035326,
         46
        ],
        [
         "Sydney",
         91885.40993088942,
         52
        ],
        [
         "San Francisco",
         88953.23658014114,
         62
        ],
        [
         "Toronto",
         88839.92902057926,
         41
        ],
        [
         "London",
         88810.67263926631,
         46
        ],
        [
         "Dubai",
         87892.45572916667,
         51
        ]
       ],
       "datasetInfos": [],
       "dbfsResultPath": null,
       "isJsonSchema": true,
       "metadata": {},
       "overflow": false,
       "plotOptions": {
        "customPlotOptions": {},
        "displayType": "table",
        "pivotAggregation": null,
        "pivotColumns": null,
        "xColumns": null,
        "yColumns": null
       },
       "removedWidgets": [],
       "schema": [
        {
         "metadata": "{}",
         "name": "Location",
         "type": "\"string\""
        },
        {
         "metadata": "{}",
         "name": "Avg_Salary",
         "type": "\"double\""
        },
        {
         "metadata": "{}",
         "name": "Job_Count",
         "type": "\"long\""
        }
       ],
       "type": "table"
      }
     },
     "output_type": "display_data"
    }
   ],
   "source": [
    "%sql\n",
    "SELECT Location,\n",
    "       AVG(Salary_USD) as Avg_Salary,\n",
    "       COUNT(*) as Job_Count\n",
    "FROM jobs\n",
    "GROUP BY Location\n",
    "HAVING COUNT(*) > 10\n",
    "ORDER BY Avg_Salary DESC;"
   ]
  },
  {
   "cell_type": "markdown",
   "metadata": {
    "application/vnd.databricks.v1+cell": {
     "cellMetadata": {},
     "inputWidgets": {},
     "nuid": "f9b02ea0-0e83-4450-8776-0eb8a631a634",
     "showTitle": false,
     "title": ""
    }
   },
   "source": [
    "## 9. Correlation between AI Adoption and Salary."
   ]
  },
  {
   "cell_type": "code",
   "execution_count": 0,
   "metadata": {
    "application/vnd.databricks.v1+cell": {
     "cellMetadata": {
      "byteLimit": 2048000,
      "implicitDf": true,
      "rowLimit": 10000
     },
     "inputWidgets": {},
     "nuid": "3ec17e8b-1c29-4ae4-87a5-eca826f97d20",
     "showTitle": false,
     "title": ""
    }
   },
   "outputs": [
    {
     "data": {
      "text/html": [
       "<style scoped>\n",
       "  .table-result-container {\n",
       "    max-height: 300px;\n",
       "    overflow: auto;\n",
       "  }\n",
       "  table, th, td {\n",
       "    border: 1px solid black;\n",
       "    border-collapse: collapse;\n",
       "  }\n",
       "  th, td {\n",
       "    padding: 5px;\n",
       "  }\n",
       "  th {\n",
       "    text-align: left;\n",
       "  }\n",
       "</style><div class='table-result-container'><table class='table-result'><thead style='background-color: white'><tr><th>AI_Adoption_Level</th><th>Avg_Salary</th><th>Job_Count</th></tr></thead><tbody><tr><td>Low</td><td>93353.59548985273</td><td>174</td></tr><tr><td>Medium</td><td>92139.14426937849</td><td>179</td></tr><tr><td>High</td><td>87583.42198129251</td><td>147</td></tr></tbody></table></div>"
      ]
     },
     "metadata": {
      "application/vnd.databricks.v1+output": {
       "addedWidgets": {},
       "aggData": [],
       "aggError": "",
       "aggOverflow": false,
       "aggSchema": [],
       "aggSeriesLimitReached": false,
       "aggType": "",
       "arguments": {},
       "columnCustomDisplayInfos": {},
       "data": [
        [
         "Low",
         93353.59548985273,
         174
        ],
        [
         "Medium",
         92139.14426937849,
         179
        ],
        [
         "High",
         87583.42198129251,
         147
        ]
       ],
       "datasetInfos": [],
       "dbfsResultPath": null,
       "isJsonSchema": true,
       "metadata": {},
       "overflow": false,
       "plotOptions": {
        "customPlotOptions": {},
        "displayType": "table",
        "pivotAggregation": null,
        "pivotColumns": null,
        "xColumns": null,
        "yColumns": null
       },
       "removedWidgets": [],
       "schema": [
        {
         "metadata": "{}",
         "name": "AI_Adoption_Level",
         "type": "\"string\""
        },
        {
         "metadata": "{}",
         "name": "Avg_Salary",
         "type": "\"double\""
        },
        {
         "metadata": "{}",
         "name": "Job_Count",
         "type": "\"long\""
        }
       ],
       "type": "table"
      }
     },
     "output_type": "display_data"
    }
   ],
   "source": [
    "%sql\n",
    "SELECT AI_Adoption_Level,\n",
    "       AVG(Salary_USD) as Avg_Salary,\n",
    "       COUNT(*) as Job_Count\n",
    "FROM jobs\n",
    "GROUP BY AI_Adoption_Level\n",
    "ORDER BY Avg_Salary DESC;"
   ]
  },
  {
   "cell_type": "markdown",
   "metadata": {
    "application/vnd.databricks.v1+cell": {
     "cellMetadata": {},
     "inputWidgets": {},
     "nuid": "177f40c7-fc9a-46b3-9429-11c5ee766975",
     "showTitle": false,
     "title": ""
    }
   },
   "source": [
    "## 10. High-Growth Jobs with Low Automation Risk."
   ]
  },
  {
   "cell_type": "code",
   "execution_count": 0,
   "metadata": {
    "application/vnd.databricks.v1+cell": {
     "cellMetadata": {
      "byteLimit": 2048000,
      "implicitDf": true,
      "rowLimit": 10000
     },
     "inputWidgets": {},
     "nuid": "f9ee6ed5-738c-4957-8e84-5b532aa5e61e",
     "showTitle": false,
     "title": ""
    }
   },
   "outputs": [
    {
     "data": {
      "text/html": [
       "<style scoped>\n",
       "  .table-result-container {\n",
       "    max-height: 300px;\n",
       "    overflow: auto;\n",
       "  }\n",
       "  table, th, td {\n",
       "    border: 1px solid black;\n",
       "    border-collapse: collapse;\n",
       "  }\n",
       "  th, td {\n",
       "    padding: 5px;\n",
       "  }\n",
       "  th {\n",
       "    text-align: left;\n",
       "  }\n",
       "</style><div class='table-result-container'><table class='table-result'><thead style='background-color: white'><tr><th>Job_title</th><th>Avg_Growth</th><th>Low_Risk_Rate</th></tr></thead><tbody><tr><td>Operations Manager</td><td>null</td><td>0.4090909090909091</td></tr><tr><td>Data Scientist</td><td>null</td><td>0.4032258064516129</td></tr><tr><td>Cybersecurity Analyst</td><td>null</td><td>0.38181818181818183</td></tr><tr><td>Sales Manager</td><td>null</td><td>0.3673469387755102</td></tr><tr><td>Software Engineer</td><td>null</td><td>0.3170731707317073</td></tr><tr><td>Product Manager</td><td>null</td><td>0.3076923076923077</td></tr><tr><td>AI Researcher</td><td>null</td><td>0.29411764705882354</td></tr><tr><td>HR Manager</td><td>null</td><td>0.2807017543859649</td></tr><tr><td>Marketing Specialist</td><td>null</td><td>0.20833333333333334</td></tr><tr><td>UX Designer</td><td>null</td><td>0.18518518518518517</td></tr></tbody></table></div>"
      ]
     },
     "metadata": {
      "application/vnd.databricks.v1+output": {
       "addedWidgets": {},
       "aggData": [],
       "aggError": "",
       "aggOverflow": false,
       "aggSchema": [],
       "aggSeriesLimitReached": false,
       "aggType": "",
       "arguments": {},
       "columnCustomDisplayInfos": {},
       "data": [
        [
         "Operations Manager",
         null,
         0.4090909090909091
        ],
        [
         "Data Scientist",
         null,
         0.4032258064516129
        ],
        [
         "Cybersecurity Analyst",
         null,
         0.38181818181818183
        ],
        [
         "Sales Manager",
         null,
         0.3673469387755102
        ],
        [
         "Software Engineer",
         null,
         0.3170731707317073
        ],
        [
         "Product Manager",
         null,
         0.3076923076923077
        ],
        [
         "AI Researcher",
         null,
         0.29411764705882354
        ],
        [
         "HR Manager",
         null,
         0.2807017543859649
        ],
        [
         "Marketing Specialist",
         null,
         0.20833333333333334
        ],
        [
         "UX Designer",
         null,
         0.18518518518518517
        ]
       ],
       "datasetInfos": [],
       "dbfsResultPath": null,
       "isJsonSchema": true,
       "metadata": {},
       "overflow": false,
       "plotOptions": {
        "customPlotOptions": {},
        "displayType": "table",
        "pivotAggregation": null,
        "pivotColumns": null,
        "xColumns": null,
        "yColumns": null
       },
       "removedWidgets": [],
       "schema": [
        {
         "metadata": "{}",
         "name": "Job_title",
         "type": "\"string\""
        },
        {
         "metadata": "{}",
         "name": "Avg_Growth",
         "type": "\"double\""
        },
        {
         "metadata": "{}",
         "name": "Low_Risk_Rate",
         "type": "\"double\""
        }
       ],
       "type": "table"
      }
     },
     "output_type": "display_data"
    }
   ],
   "source": [
    "%sql\n",
    "SELECT Job_title,\n",
    "       AVG(Job_Growth_Projection) as Avg_Growth,\n",
    "       AVG(CASE WHEN Automation_Risk = 'Low' THEN 1 ELSE 0 END) as Low_Risk_Rate\n",
    "FROM jobs\n",
    "GROUP BY Job_title\n",
    "HAVING COUNT(*) > 5\n",
    "ORDER BY Avg_Growth DESC, Low_Risk_Rate DESC\n",
    "LIMIT 10;"
   ]
  }
 ],
 "metadata": {
  "application/vnd.databricks.v1+notebook": {
   "dashboards": [],
   "environmentMetadata": null,
   "language": "python",
   "notebookMetadata": {
    "mostRecentlyExecutedCommandWithImplicitDF": {
     "commandId": 2453586256053975,
     "dataframes": [
      "_sqldf"
     ]
    },
    "pythonIndentUnit": 4
   },
   "notebookName": "jobs_insights",
   "widgets": {}
  },
  "language_info": {
   "name": "python"
  }
 },
 "nbformat": 4,
 "nbformat_minor": 0
}
